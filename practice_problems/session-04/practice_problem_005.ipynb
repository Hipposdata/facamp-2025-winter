{
 "cells": [
  {
   "cell_type": "markdown",
   "id": "26437d20-dd95-4d4e-af9c-e265aaecc4a4",
   "metadata": {
    "editable": true,
    "slideshow": {
     "slide_type": ""
    },
    "tags": []
   },
   "source": [
    "# Practice Problem"
   ]
  },
  {
   "cell_type": "markdown",
   "id": "c1dcd05d-3884-4a9f-9ab3-8257bffe0d96",
   "metadata": {
    "editable": true,
    "slideshow": {
     "slide_type": ""
    },
    "tags": []
   },
   "source": [
    "## Question"
   ]
  },
  {
   "cell_type": "markdown",
   "id": "6df4a730-35d3-4a35-8993-0f722073d631",
   "metadata": {
    "editable": true,
    "slideshow": {
     "slide_type": ""
    },
    "tags": [
     "question"
    ]
   },
   "source": [
    "max_frames을 700이상으로 정의하면 후반부에 공이 경기장 밖으로 나가 탐지되지 않는 오류가 생긴다. \n",
    "이 오류를 해결하시오."
   ]
  },
  {
   "cell_type": "raw",
   "id": "35b66d41-3f72-437f-9634-986b2157b58d",
   "metadata": {
    "editable": true,
    "raw_mimetype": "",
    "slideshow": {
     "slide_type": ""
    },
    "tags": [
     "metadata"
    ]
   },
   "source": [
    "session: 4\n",
    "category: kloppy\n",
    "difficulty: Haed\n",
    "tags:\n",
    "    - kloppy\n",
    "    - open data\n",
    "    - tqdm"
   ]
  }
 ],
 "metadata": {
  "kernelspec": {
   "display_name": "Python 3 (ipykernel)",
   "language": "python",
   "name": "python3"
  },
  "language_info": {
   "codemirror_mode": {
    "name": "ipython",
    "version": 3
   },
   "file_extension": ".py",
   "mimetype": "text/x-python",
   "name": "python",
   "nbconvert_exporter": "python",
   "pygments_lexer": "ipython3",
   "version": "3.9.18"
  }
 },
 "nbformat": 4,
 "nbformat_minor": 5
}
