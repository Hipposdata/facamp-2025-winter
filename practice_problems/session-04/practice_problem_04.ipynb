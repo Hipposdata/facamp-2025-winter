{
 "cells": [
  {
   "cell_type": "markdown",
   "id": "702f288f-5696-4a0b-bc1c-947c6f9a5299",
   "metadata": {
    "editable": true,
    "slideshow": {
     "slide_type": ""
    },
    "tags": []
   },
   "source": [
    "# Practice Problem"
   ]
  },
  {
   "cell_type": "markdown",
   "id": "b45229a8-138f-4630-af19-0b1dc4533aa2",
   "metadata": {
    "editable": true,
    "slideshow": {
     "slide_type": ""
    },
    "tags": []
   },
   "source": [
    "## Question"
   ]
  },
  {
   "cell_type": "markdown",
   "id": "10003142-5059-4267-a80b-1f51b5418bea",
   "metadata": {
    "editable": true,
    "slideshow": {
     "slide_type": ""
    },
    "tags": [
     "question"
    ]
   },
   "source": [
    "메트리카(Metrica) 데이터에서 경기 시간 15분 이전에 발생한 총 이벤트 수를 구하세요."
   ]
  },
  {
   "cell_type": "raw",
   "id": "fbfae00c-bda8-450e-b414-3575b0478841",
   "metadata": {
    "editable": true,
    "raw_mimetype": "",
    "slideshow": {
     "slide_type": ""
    },
    "tags": [
     "info"
    ]
   },
   "source": [
    "session: 4  \n",
    "category: Python & Data Analysis  \n",
    "difficulty: Easy  \n",
    "tags:  \n",
    "- metrica  \n",
    "- event_data  \n",
    "- filter "
   ]
  },
  {
   "cell_type": "markdown",
   "id": "f3f8b4cd-910c-4f80-8c57-f03c0c40daac",
   "metadata": {
    "editable": true,
    "slideshow": {
     "slide_type": ""
    },
    "tags": []
   },
   "source": [
    "## Question"
   ]
  },
  {
   "cell_type": "markdown",
   "id": "7dac513c-8973-447c-9858-43726f5476ae",
   "metadata": {
    "editable": true,
    "slideshow": {
     "slide_type": ""
    },
    "tags": [
     "question"
    ]
   },
   "source": [
    "df_events 데이터에서 손흥민(Heung-Min Son)의 슈팅 하나를 선택하여 시각화하세요.\n",
    " - 슈팅 위치와 골대 양쪽 포스트를 향한 점선을 그리세요.\n",
    " - 슈팅 각도 영역을 삼각형으로 음영 처리하세요.\n",
    " - 슈팅 지점에 선수 이름 라벨을 표시하세요.\n",
    " - 슈팅이 골일 경우 빨간색, 실패한 경우 회색으로 표시하세요.\n"
   ]
  },
  {
   "cell_type": "raw",
   "id": "03198ac8-283a-4b71-8f10-11545ff38f7b",
   "metadata": {
    "editable": true,
    "raw_mimetype": "",
    "slideshow": {
     "slide_type": ""
    },
    "tags": [
     "info"
    ]
   },
   "source": [
    "session: 4  \n",
    "category: Data Visualization  \n",
    "difficulty: Medium  \n",
    "tags:  \n",
    "- statsbomb  \n",
    "- shot_visualization  \n",
    "- matplotlib  \n",
    "- player_specific  "
   ]
  }
 ],
 "metadata": {
  "kernelspec": {
   "display_name": "Python 3 (ipykernel)",
   "language": "python",
   "name": "python3"
  },
  "language_info": {
   "codemirror_mode": {
    "name": "ipython",
    "version": 3
   },
   "file_extension": ".py",
   "mimetype": "text/x-python",
   "name": "python",
   "nbconvert_exporter": "python",
   "pygments_lexer": "ipython3",
   "version": "3.12.9"
  }
 },
 "nbformat": 4,
 "nbformat_minor": 5
}
