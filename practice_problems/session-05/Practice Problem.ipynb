{
 "cells": [
  {
   "cell_type": "markdown",
   "id": "064956f5-905e-48ad-a036-f944daf08db9",
   "metadata": {
    "editable": true,
    "slideshow": {
     "slide_type": ""
    },
    "tags": []
   },
   "source": [
    "# Practice Problem"
   ]
  },
  {
   "cell_type": "markdown",
   "id": "bef3eef2-f652-460e-9967-ac06b17db1c5",
   "metadata": {
    "editable": true,
    "slideshow": {
     "slide_type": ""
    },
    "tags": [
     "Question"
    ]
   },
   "source": [
    "자신이 가장 좋아하는 선수를 고른 뒤,\n",
    "해당 선수를 잘 아는 축구 해설자로써 그 선수가 사랑받는 이유를 설명하고,\n",
    "사랑하는 마음을 담은 삼행시를 지어보세요."
   ]
  },
  {
   "cell_type": "raw",
   "id": "8bb9d795-0c6c-473f-b5bf-c18206a17415",
   "metadata": {
    "editable": true,
    "raw_mimetype": "",
    "slideshow": {
     "slide_type": ""
    },
    "tags": [
     "Info"
    ]
   },
   "source": [
    "session: 4\n",
    "category: RAG\n",
    "difficulty: Easy\n",
    "tags:\n",
    "    - RAG"
   ]
  }
 ],
 "metadata": {
  "kernelspec": {
   "display_name": "Python 3 (ipykernel)",
   "language": "python",
   "name": "python3"
  },
  "language_info": {
   "codemirror_mode": {
    "name": "ipython",
    "version": 3
   },
   "file_extension": ".py",
   "mimetype": "text/x-python",
   "name": "python",
   "nbconvert_exporter": "python",
   "pygments_lexer": "ipython3",
   "version": "3.12.9"
  }
 },
 "nbformat": 4,
 "nbformat_minor": 5
}
