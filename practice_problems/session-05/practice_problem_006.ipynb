{
 "cells": [
  {
   "cell_type": "markdown",
   "id": "77dbe30a-aa97-47f4-b043-341f7f9e5bc7",
   "metadata": {
    "editable": true,
    "slideshow": {
     "slide_type": ""
    },
    "tags": []
   },
   "source": [
    "# Practice Problem"
   ]
  },
  {
   "cell_type": "markdown",
   "id": "6f5d03d4-df26-47cf-bd3e-e178a221a902",
   "metadata": {
    "editable": true,
    "slideshow": {
     "slide_type": ""
    },
    "tags": []
   },
   "source": [
    "## Question"
   ]
  },
  {
   "cell_type": "markdown",
   "id": "4d217795-99d6-4305-af51-97a2ae4b7030",
   "metadata": {
    "editable": true,
    "slideshow": {
     "slide_type": ""
    },
    "tags": [
     "question"
    ]
   },
   "source": [
    "토트넘 공식 홈페이지 손흥민 정보에서 설명 글 모두 긁어오기"
   ]
  },
  {
   "cell_type": "raw",
   "id": "350727e5-dce2-490e-9c73-bdcc73ba3aec",
   "metadata": {
    "editable": true,
    "raw_mimetype": "",
    "slideshow": {
     "slide_type": ""
    },
    "tags": [
     "info"
    ]
   },
   "source": [
    "session: 4\n",
    "category: Document Loader\n",
    "difficulty: Normal\n",
    "tags:\n",
    "    - loader-url\n",
    "    - crawling"
   ]
  }
 ],
 "metadata": {
  "kernelspec": {
   "display_name": "Python 3 (ipykernel)",
   "language": "python",
   "name": "python3"
  },
  "language_info": {
   "codemirror_mode": {
    "name": "ipython",
    "version": 3
   },
   "file_extension": ".py",
   "mimetype": "text/x-python",
   "name": "python",
   "nbconvert_exporter": "python",
   "pygments_lexer": "ipython3",
   "version": "3.9.18"
  }
 },
 "nbformat": 4,
 "nbformat_minor": 5
}
