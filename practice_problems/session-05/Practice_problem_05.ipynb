{
 "cells": [
  {
   "cell_type": "markdown",
   "id": "bce43c3a-57f8-4462-b182-811996d427c2",
   "metadata": {
    "editable": true,
    "slideshow": {
     "slide_type": ""
    },
    "tags": []
   },
   "source": [
    "# Practice Problem"
   ]
  },
  {
   "cell_type": "markdown",
   "id": "ee087019-6435-458f-861e-c925b6c99f30",
   "metadata": {
    "editable": true,
    "slideshow": {
     "slide_type": ""
    },
    "tags": [
     "Question"
    ]
   },
   "source": [
    "## Question"
   ]
  },
  {
   "cell_type": "markdown",
   "id": "523f7f58-2ad6-4865-85c3-1289e2282429",
   "metadata": {
    "editable": true,
    "slideshow": {
     "slide_type": ""
    },
    "tags": []
   },
   "source": [
    "https://www.liverpoolfc.com/team/mens  \n",
    "리버풀 성인 선수단의 포지션, 이름이 출력되게 하세요.\n",
    "\n",
    "예시)\n",
    "\n",
    "Alisson Becker - goalkeeper\n",
    "Dijk - defender\n",
    "Ibrahima Konate - defender\n",
    "Kostas Tsimikas - defender\n",
    "Andy Robertson - defender\n",
    "Trent Alexander-Arnold - defender\n",
    "Jarell Quansah - defender\n",
    "Trent Alexander-Arnold - defender\n",
    "Jarell Quansah - defender\n",
    "Dominik Szoboszlai - midfielder\n",
    "Alexis Mac Allister - midfielder\n",
    "Curtis Jones - midfielder\n",
    "Harvey Elliott - midfielder\n",
    "Ryan Gravenberch - midfielder\n",
    "Tyler Morton - midfielder\n",
    "Tyler Morton - midfielder\n",
    "Darwin Nunez - forward\n",
    "Mohamed Salah - forward\n",
    "Federico Chiesa - forward\n",
    "Cody Gakpo - forward\n",
    "Diogo Jota - forward\n",
    "Calvin Ramsay - defender"
   ]
  },
  {
   "cell_type": "raw",
   "id": "89f24c6d-4dca-4c47-b8a2-19fba4a52e1a",
   "metadata": {
    "editable": true,
    "raw_mimetype": "",
    "slideshow": {
     "slide_type": ""
    },
    "tags": [
     "Info"
    ]
   },
   "source": [
    "session: 4\n",
    "category: RAG\n",
    "difficulty: intermediate\n",
    "tags:\n",
    "    - RAG\n",
    "    - os"
   ]
  },
  {
   "cell_type": "markdown",
   "id": "808a5e69-cd5f-415e-acc6-851e73df91db",
   "metadata": {
    "editable": true,
    "slideshow": {
     "slide_type": ""
    },
    "tags": [
     "Solution"
    ]
   },
   "source": [
    "## Solution"
   ]
  },
  {
   "cell_type": "code",
   "execution_count": 1,
   "id": "940ab0e4-3459-4fe1-a36d-8402a66b3a8f",
   "metadata": {
    "editable": true,
    "slideshow": {
     "slide_type": ""
    },
    "tags": []
   },
   "outputs": [],
   "source": [
    "import os"
   ]
  },
  {
   "cell_type": "code",
   "execution_count": 2,
   "id": "3fbf8b5a-3c5d-4e0a-b7aa-cd013fa3d53d",
   "metadata": {
    "editable": true,
    "slideshow": {
     "slide_type": ""
    },
    "tags": []
   },
   "outputs": [],
   "source": [
    "os.environ[\"USER_AGENT\"]= \"Mozilla/5.0 (Machintosh; Intel Mac OS X 10_15_7) AppleWebKit/737.36 (KHTML, , like Gecko) Chrome/91.0.4472.124 Safari/537.36\" "
   ]
  },
  {
   "cell_type": "code",
   "execution_count": 3,
   "id": "14a6a80b-7b61-498d-beac-46f6c77ae1dc",
   "metadata": {
    "editable": true,
    "slideshow": {
     "slide_type": ""
    },
    "tags": []
   },
   "outputs": [],
   "source": [
    "from langchain_community.document_loaders import WebBaseLoader"
   ]
  },
  {
   "cell_type": "code",
   "execution_count": 4,
   "id": "eaab0826-5f6e-465e-8540-da2604be77ca",
   "metadata": {},
   "outputs": [],
   "source": [
    "url = \"https://www.liverpoolfc.com/team/mens\""
   ]
  },
  {
   "cell_type": "code",
   "execution_count": 5,
   "id": "72d21641-c22d-4eaa-a02a-359846fabd05",
   "metadata": {},
   "outputs": [],
   "source": [
    "import bs4"
   ]
  },
  {
   "cell_type": "code",
   "execution_count": 6,
   "id": "d3a3d5e3-9aec-40f9-9f4b-3ad119603ea9",
   "metadata": {
    "editable": true,
    "slideshow": {
     "slide_type": ""
    },
    "tags": []
   },
   "outputs": [],
   "source": [
    "loader = WebBaseLoader(\n",
    "    web_path = url,\n",
    "    verify_ssl = False,\n",
    "    bs_kwargs = dict(\n",
    "        parse_only = bs4.SoupStrainer(\n",
    "            class_= (\"css-hcyjfy\")\n",
    "        )\n",
    "    ),\n",
    ")"
   ]
  },
  {
   "cell_type": "code",
   "execution_count": 7,
   "id": "04733534-8d4f-4b84-b819-0edeb8f53402",
   "metadata": {
    "editable": true,
    "slideshow": {
     "slide_type": ""
    },
    "tags": []
   },
   "outputs": [
    {
     "name": "stderr",
     "output_type": "stream",
     "text": [
      "/Users/jeongchanyoung/miniconda3/envs/facamp-2025-winter/lib/python3.12/site-packages/urllib3/connectionpool.py:1097: InsecureRequestWarning: Unverified HTTPS request is being made to host 'www.liverpoolfc.com'. Adding certificate verification is strongly advised. See: https://urllib3.readthedocs.io/en/latest/advanced-usage.html#tls-warnings\n",
      "  warnings.warn(\n"
     ]
    }
   ],
   "source": [
    "page = loader.load()"
   ]
  },
  {
   "cell_type": "code",
   "execution_count": 8,
   "id": "004fb08d-77c1-47c5-8faf-110f528fcb84",
   "metadata": {
    "editable": true,
    "slideshow": {
     "slide_type": ""
    },
    "tags": []
   },
   "outputs": [
    {
     "data": {
      "text/plain": [
       "[Document(metadata={'source': 'https://www.liverpoolfc.com/team/mens'}, page_content='Alisson Becker goalkeeper View Profile  Vitezslav Jaros goalkeeper View Profile  Caoimhin Kelleher goalkeeper View Profile  Harvey Davies goalkeeper View Profile  Joe Gomez defender View Profile  Buy shirt Virgil van Dijk defender View Profile  Buy shirt Ibrahima Konate defender View Profile  Buy shirt Kostas Tsimikas defender View Profile  Buy shirt Andy Robertson defender View Profile  Buy shirt Trent Alexander-Arnold defender View Profile  Buy shirt Jarell Quansah defender View Profile  Conor Bradley defender View Profile  Wataru Endo midfielder View Profile  Buy shirt Dominik Szoboszlai midfielder View Profile  Buy shirt Alexis Mac Allister midfielder View Profile  Buy shirt Curtis Jones midfielder View Profile  Buy shirt Harvey Elliott midfielder View Profile  Buy shirt Ryan Gravenberch midfielder View Profile  Buy shirt Tyler Morton midfielder View Profile  Luis Diaz forward View Profile  Buy shirt Darwin Nunez forward View Profile  Buy shirt Mohamed Salah forward View Profile  Buy shirt Federico Chiesa forward View Profile  Buy shirt Cody Gakpo forward View Profile  Buy shirt Diogo Jota forward View Profile  Buy shirt Calvin Ramsay defender View Profile  Rhys Williams defender View Profile  Nathaniel Phillips defender View Profile  Stefan Bajcetic midfielder View Profile  Ben Doak forward View Profile  ')]"
      ]
     },
     "execution_count": 8,
     "metadata": {},
     "output_type": "execute_result"
    }
   ],
   "source": [
    "page"
   ]
  },
  {
   "cell_type": "code",
   "execution_count": 9,
   "id": "bb4f6f11-94a0-46a3-ba82-e1f056b9ff27",
   "metadata": {},
   "outputs": [],
   "source": [
    "from langchain_text_splitters import RecursiveCharacterTextSplitter"
   ]
  },
  {
   "cell_type": "code",
   "execution_count": 10,
   "id": "fa86e7a6-f6b9-4f39-ae5c-bed383dc37da",
   "metadata": {
    "editable": true,
    "slideshow": {
     "slide_type": ""
    },
    "tags": []
   },
   "outputs": [],
   "source": [
    "text_splitter = RecursiveCharacterTextSplitter(\n",
    "    chunk_size = 500,\n",
    "    chunk_overlap = 100\n",
    ")"
   ]
  },
  {
   "cell_type": "code",
   "execution_count": 11,
   "id": "eef0c234-47c9-49f0-a2ca-e176c1834028",
   "metadata": {},
   "outputs": [],
   "source": [
    "texts = text_splitter.split_documents(page)"
   ]
  },
  {
   "cell_type": "code",
   "execution_count": 12,
   "id": "e1f98a43-d345-4441-8698-7a83da6670cd",
   "metadata": {
    "editable": true,
    "slideshow": {
     "slide_type": ""
    },
    "tags": []
   },
   "outputs": [
    {
     "data": {
      "text/plain": [
       "[Document(metadata={'source': 'https://www.liverpoolfc.com/team/mens'}, page_content='Alisson Becker goalkeeper View Profile  Vitezslav Jaros goalkeeper View Profile  Caoimhin Kelleher goalkeeper View Profile  Harvey Davies goalkeeper View Profile  Joe Gomez defender View Profile  Buy shirt Virgil van Dijk defender View Profile  Buy shirt Ibrahima Konate defender View Profile  Buy shirt Kostas Tsimikas defender View Profile  Buy shirt Andy Robertson defender View Profile  Buy shirt Trent Alexander-Arnold defender View Profile  Buy shirt Jarell Quansah defender View Profile  Conor'),\n",
       " Document(metadata={'source': 'https://www.liverpoolfc.com/team/mens'}, page_content='Trent Alexander-Arnold defender View Profile  Buy shirt Jarell Quansah defender View Profile  Conor Bradley defender View Profile  Wataru Endo midfielder View Profile  Buy shirt Dominik Szoboszlai midfielder View Profile  Buy shirt Alexis Mac Allister midfielder View Profile  Buy shirt Curtis Jones midfielder View Profile  Buy shirt Harvey Elliott midfielder View Profile  Buy shirt Ryan Gravenberch midfielder View Profile  Buy shirt Tyler Morton midfielder View Profile  Luis Diaz forward View'),\n",
       " Document(metadata={'source': 'https://www.liverpoolfc.com/team/mens'}, page_content='midfielder View Profile  Buy shirt Tyler Morton midfielder View Profile  Luis Diaz forward View Profile  Buy shirt Darwin Nunez forward View Profile  Buy shirt Mohamed Salah forward View Profile  Buy shirt Federico Chiesa forward View Profile  Buy shirt Cody Gakpo forward View Profile  Buy shirt Diogo Jota forward View Profile  Buy shirt Calvin Ramsay defender View Profile  Rhys Williams defender View Profile  Nathaniel Phillips defender View Profile  Stefan Bajcetic midfielder View Profile'),\n",
       " Document(metadata={'source': 'https://www.liverpoolfc.com/team/mens'}, page_content='View Profile  Nathaniel Phillips defender View Profile  Stefan Bajcetic midfielder View Profile  Ben Doak forward View Profile')]"
      ]
     },
     "execution_count": 12,
     "metadata": {},
     "output_type": "execute_result"
    }
   ],
   "source": [
    "texts"
   ]
  },
  {
   "cell_type": "code",
   "execution_count": 26,
   "id": "dcd374a8-5da4-4f50-99f1-211d408de7db",
   "metadata": {},
   "outputs": [],
   "source": [
    "import re"
   ]
  },
  {
   "cell_type": "code",
   "execution_count": 27,
   "id": "e590eb52-90c8-4197-b4ab-407996c259f4",
   "metadata": {},
   "outputs": [],
   "source": [
    "position_pattern = r\"(goalkeeper|defender|midfielder|forward)\""
   ]
  },
  {
   "cell_type": "code",
   "execution_count": 33,
   "id": "ddf2e8e9-b213-4723-8af8-99b5c283ecb6",
   "metadata": {},
   "outputs": [],
   "source": [
    "name_pattern = r\"[A-Z][a-zA-Z\\-]+(?:\\s+[A-Z][a-zA-Z\\-]+)*\""
   ]
  },
  {
   "cell_type": "code",
   "execution_count": 34,
   "id": "45066fe7-f360-44be-b0a7-f48dba95420a",
   "metadata": {
    "editable": true,
    "slideshow": {
     "slide_type": ""
    },
    "tags": []
   },
   "outputs": [],
   "source": [
    "pattern = rf\"({name_pattern})\\s+{position_pattern}\"\n",
    "\n",
    "all_players = []\n",
    "\n",
    "for doc in texts:\n",
    "    text = doc.page_content\n",
    "    matches = re.findall(pattern, text)\n",
    "    for (player_name, position) in matches:\n",
    "        if \"View Profile\" in player_name:\n",
    "            continue\n",
    "        \n",
    "        all_players.append(f\"{player_name} - {position}\")"
   ]
  },
  {
   "cell_type": "code",
   "execution_count": 35,
   "id": "77a10ca1-6f96-44e5-9635-6459b29478f0",
   "metadata": {
    "editable": true,
    "slideshow": {
     "slide_type": ""
    },
    "tags": []
   },
   "outputs": [
    {
     "name": "stdout",
     "output_type": "stream",
     "text": [
      "Alisson Becker - goalkeeper\n",
      "Dijk - defender\n",
      "Ibrahima Konate - defender\n",
      "Kostas Tsimikas - defender\n",
      "Andy Robertson - defender\n",
      "Trent Alexander-Arnold - defender\n",
      "Jarell Quansah - defender\n",
      "Trent Alexander-Arnold - defender\n",
      "Jarell Quansah - defender\n",
      "Dominik Szoboszlai - midfielder\n",
      "Alexis Mac Allister - midfielder\n",
      "Curtis Jones - midfielder\n",
      "Harvey Elliott - midfielder\n",
      "Ryan Gravenberch - midfielder\n",
      "Tyler Morton - midfielder\n",
      "Tyler Morton - midfielder\n",
      "Darwin Nunez - forward\n",
      "Mohamed Salah - forward\n",
      "Federico Chiesa - forward\n",
      "Cody Gakpo - forward\n",
      "Diogo Jota - forward\n",
      "Calvin Ramsay - defender\n"
     ]
    }
   ],
   "source": [
    "for player in all_players:\n",
    "    print(player)"
   ]
  }
 ],
 "metadata": {
  "kernelspec": {
   "display_name": "Python 3 (ipykernel)",
   "language": "python",
   "name": "python3"
  },
  "language_info": {
   "codemirror_mode": {
    "name": "ipython",
    "version": 3
   },
   "file_extension": ".py",
   "mimetype": "text/x-python",
   "name": "python",
   "nbconvert_exporter": "python",
   "pygments_lexer": "ipython3",
   "version": "3.12.9"
  }
 },
 "nbformat": 4,
 "nbformat_minor": 5
}
