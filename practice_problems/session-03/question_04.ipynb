{
 "cells": [
  {
   "cell_type": "markdown",
   "id": "ea3c5d04-cfd4-4a4e-9b86-1c47aebc3687",
   "metadata": {
    "editable": true,
    "slideshow": {
     "slide_type": ""
    },
    "tags": [
     "session3",
     "question",
     "pandas"
    ]
   },
   "source": [
    "# Question\n",
    "\n",
    "대한민국 포르투갈 전에서 후반전 때 가장 많은 패스를 시도한 선수와 패스 횟수를 구하시오"
   ]
  },
  {
   "cell_type": "code",
   "execution_count": null,
   "id": "33f05e88-5253-4fef-ace3-716fc6d426ce",
   "metadata": {
    "editable": true,
    "slideshow": {
     "slide_type": ""
    },
    "tags": []
   },
   "outputs": [],
   "source": []
  }
 ],
 "metadata": {
  "kernelspec": {
   "display_name": "Python 3 (ipykernel)",
   "language": "python",
   "name": "python3"
  },
  "language_info": {
   "codemirror_mode": {
    "name": "ipython",
    "version": 3
   },
   "file_extension": ".py",
   "mimetype": "text/x-python",
   "name": "python",
   "nbconvert_exporter": "python",
   "pygments_lexer": "ipython3",
   "version": "3.9.21"
  }
 },
 "nbformat": 4,
 "nbformat_minor": 5
}
