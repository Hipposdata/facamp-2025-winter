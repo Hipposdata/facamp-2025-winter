{
  "cells": [
    {
      "cell_type": "markdown",
      "metadata": {
        "editable": true,
        "slideshow": {
          "slide_type": ""
        },
        "tags": [
          "question"
        ]
      },
      "source": [
        "## Question\n",
        "\n",
        "Q1. 2018년 러시아 월드컵 한국 vs 독일전에 대해 알아보자.우리나라의 득점 수와 득점한 선수인지는 누구인지, 득점한 시간까지 함께 출력하시오.\n",
        "period특성을 활용해서 전/후반도 표현해야함"
      ]
    },
    {
      "cell_type": "markdown",
      "metadata": {
        "editable": true,
        "slideshow": {
          "slide_type": ""
        },
        "tags": [
          "question"
        ]
      },
      "source": [
        "## Question\n",
        "\n",
        "Q2. 그렇다면 이 2018년 월드컵 대한민국 vs 독일 경기에서 손흥민 선수가 득점한 위치를 시각화하시오. 선수의 위치는 금색, 원으로 표시.(위의 시간을 활용해도 좋고 골 이벤트를 끌어와도 좋다. 이 데이터에서 손흥민 선수는 Heung-Min Son으로 기록되어 있다)"
      ]
    },
    {
      "cell_type": "markdown",
      "metadata": {
        "editable": true,
        "slideshow": {
          "slide_type": ""
        },
        "tags": [
          "question"
        ]
      },
      "source": [
        "## Question\n",
        "\n",
        "Q3. 이번에는 2022년 카타르 월드컵때 한국 vs 가나 전을 알아보려고한다. 우리나라가 3:2로 패하긴 했지만 누가 득점을 했고 그 위치를 알아보려고 한다. 득점한 선수를 알아보기 위해 기 선수의 득점 위치와 함께 그 위에 선수명도 함께 기록하라."
      ]
    },
    {
      "cell_type": "markdown",
      "metadata": {},
      "source": []
    }
  ],
  "metadata": {
    "kernelspec": {
      "display_name": "Python 3 (ipykernel)",
      "language": "python",
      "name": "python3"
    },
    "language_info": {
      "codemirror_mode": {
        "name": "ipython",
        "version": 3
      },
      "file_extension": ".py",
      "mimetype": "text/x-python",
      "name": "python",
      "nbconvert_exporter": "python",
      "pygments_lexer": "ipython3",
      "version": "3.9.19"
    }
  },
  "nbformat": 4,
  "nbformat_minor": 4
}
