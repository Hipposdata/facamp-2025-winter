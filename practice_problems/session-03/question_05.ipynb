{
 "cells": [
  {
   "cell_type": "markdown",
   "id": "6845ac80-d19f-4fd2-ac3f-2bf6f523cd3d",
   "metadata": {
    "editable": true,
    "slideshow": {
     "slide_type": ""
    },
    "tags": []
   },
   "source": [
    "# Question\n",
    "\n",
    "대한민국 포르투갈 전에서 대한민국의 패스 성공률을 구하시오\n",
    "\n",
    "HINT: pass_recipient, pass_outcome 사용"
   ]
  },
  {
   "cell_type": "code",
   "execution_count": null,
   "id": "7f6cc2fc-c64a-4650-a5cf-f39bcafd513b",
   "metadata": {
    "editable": true,
    "slideshow": {
     "slide_type": ""
    },
    "tags": [
     "session3",
     "question",
     "pandas"
    ]
   },
   "outputs": [],
   "source": []
  }
 ],
 "metadata": {
  "kernelspec": {
   "display_name": "Python 3 (ipykernel)",
   "language": "python",
   "name": "python3"
  },
  "language_info": {
   "codemirror_mode": {
    "name": "ipython",
    "version": 3
   },
   "file_extension": ".py",
   "mimetype": "text/x-python",
   "name": "python",
   "nbconvert_exporter": "python",
   "pygments_lexer": "ipython3",
   "version": "3.9.21"
  }
 },
 "nbformat": 4,
 "nbformat_minor": 5
}
