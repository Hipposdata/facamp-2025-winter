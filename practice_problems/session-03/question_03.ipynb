{
 "cells": [
  {
   "cell_type": "markdown",
   "id": "b432c030-e8e5-4b3c-ac02-83a35fc8e4e6",
   "metadata": {
    "editable": true,
    "slideshow": {
     "slide_type": ""
    },
    "tags": [
     "session3",
     "question",
     "pandas"
    ]
   },
   "source": [
    "# Question\n",
    "\n",
    "대한민국과 포르투갈 경기에서 가장 많은 패스를 시도한 선수"
   ]
  },
  {
   "cell_type": "markdown",
   "id": "57fe4263-0bc2-4992-bb91-4286faf67afc",
   "metadata": {
    "editable": true,
    "slideshow": {
     "slide_type": ""
    },
    "tags": [
     "session3",
     "question",
     "pandas"
    ]
   },
   "source": [
    "대한민국 포르투갈 전에서 가장 많이 패스한 선수의 패스 횟수를 구하시오"
   ]
  },
  {
   "cell_type": "code",
   "execution_count": null,
   "id": "43ab9849-3448-46aa-94c2-b0bd56f63e8e",
   "metadata": {
    "editable": true,
    "slideshow": {
     "slide_type": ""
    },
    "tags": []
   },
   "outputs": [],
   "source": []
  }
 ],
 "metadata": {
  "kernelspec": {
   "display_name": "Python 3 (ipykernel)",
   "language": "python",
   "name": "python3"
  },
  "language_info": {
   "codemirror_mode": {
    "name": "ipython",
    "version": 3
   },
   "file_extension": ".py",
   "mimetype": "text/x-python",
   "name": "python",
   "nbconvert_exporter": "python",
   "pygments_lexer": "ipython3",
   "version": "3.9.21"
  }
 },
 "nbformat": 4,
 "nbformat_minor": 5
}
