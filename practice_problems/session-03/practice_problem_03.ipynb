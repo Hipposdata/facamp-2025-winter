{
 "cells": [
  {
   "cell_type": "markdown",
   "id": "702f288f-5696-4a0b-bc1c-947c6f9a5299",
   "metadata": {
    "editable": true,
    "slideshow": {
     "slide_type": ""
    },
    "tags": []
   },
   "source": [
    "# Practice Problem"
   ]
  },
  {
   "cell_type": "markdown",
   "id": "b45229a8-138f-4630-af19-0b1dc4533aa2",
   "metadata": {
    "editable": true,
    "slideshow": {
     "slide_type": ""
    },
    "tags": []
   },
   "source": [
    "## Question"
   ]
  },
  {
   "cell_type": "markdown",
   "id": "10003142-5059-4267-a80b-1f51b5418bea",
   "metadata": {
    "editable": true,
    "slideshow": {
     "slide_type": ""
    },
    "tags": [
     "question"
    ]
   },
   "source": [
    "South Korea vs Portugal 경기에서 가장 많은 슛(Shot)을 시도한 선수는 누구인가요?  \n",
    "(세션 3에서 생성한 raw_events.csv 파일 이용)"
   ]
  },
  {
   "cell_type": "raw",
   "id": "fbfae00c-bda8-450e-b414-3575b0478841",
   "metadata": {
    "editable": true,
    "raw_mimetype": "",
    "slideshow": {
     "slide_type": ""
    },
    "tags": [
     "info"
    ]
   },
   "source": [
    "session: 3  \n",
    "category: Pandas  \n",
    "difficulty: Medium  \n",
    "tags:  \n",
    "- pandas  \n",
    "- value_counts  \n",
    "- filter  "
   ]
  }
 ],
 "metadata": {
  "kernelspec": {
   "display_name": "Python 3 (ipykernel)",
   "language": "python",
   "name": "python3"
  },
  "language_info": {
   "codemirror_mode": {
    "name": "ipython",
    "version": 3
   },
   "file_extension": ".py",
   "mimetype": "text/x-python",
   "name": "python",
   "nbconvert_exporter": "python",
   "pygments_lexer": "ipython3",
   "version": "3.12.9"
  }
 },
 "nbformat": 4,
 "nbformat_minor": 5
}
