{
 "cells": [
  {
   "cell_type": "markdown",
   "id": "19105ef2-87d3-4a74-b6bb-fea73cec0bf3",
   "metadata": {
    "editable": true,
    "slideshow": {
     "slide_type": ""
    },
    "tags": [
     "session3",
     "question",
     "visual"
    ]
   },
   "source": [
    "# Question\n",
    "\n",
    "대한민국 포르투갈 전에서 대한민국의 두번째 골을 넣은 선수의 이름과 위치를 시각화하시오"
   ]
  },
  {
   "cell_type": "code",
   "execution_count": null,
   "id": "046e9592-3210-40aa-af75-facb1f7e2bdc",
   "metadata": {},
   "outputs": [],
   "source": []
  }
 ],
 "metadata": {
  "kernelspec": {
   "display_name": "Python 3 (ipykernel)",
   "language": "python",
   "name": "python3"
  },
  "language_info": {
   "codemirror_mode": {
    "name": "ipython",
    "version": 3
   },
   "file_extension": ".py",
   "mimetype": "text/x-python",
   "name": "python",
   "nbconvert_exporter": "python",
   "pygments_lexer": "ipython3",
   "version": "3.9.21"
  }
 },
 "nbformat": 4,
 "nbformat_minor": 5
}
