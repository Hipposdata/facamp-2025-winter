{
 "cells": [
  {
   "cell_type": "markdown",
   "id": "c25056e0-88c0-4075-abaa-be668db5f4fd",
   "metadata": {
    "editable": true,
    "slideshow": {
     "slide_type": ""
    },
    "tags": []
   },
   "source": [
    "# Practice Problem"
   ]
  },
  {
   "cell_type": "markdown",
   "id": "fe3cba80-cf8d-4c55-bb76-a02e87d39509",
   "metadata": {
    "editable": true,
    "slideshow": {
     "slide_type": ""
    },
    "tags": []
   },
   "source": [
    "## Question"
   ]
  },
  {
   "cell_type": "markdown",
   "id": "ea8c86bc-a4e9-4871-b3a1-0eba42ba9b77",
   "metadata": {
    "editable": true,
    "slideshow": {
     "slide_type": ""
    },
    "tags": [
     "question"
    ]
   },
   "source": [
    "포지션 별로 선수 분류한 후, 약발이 4 이상인 선수들 선별 후, 능력치(overall) 순으로 정렬"
   ]
  },
  {
   "cell_type": "raw",
   "id": "9d2f78d4-12ed-4fa4-8ec9-aa9db8836070",
   "metadata": {
    "editable": true,
    "raw_mimetype": "",
    "slideshow": {
     "slide_type": ""
    },
    "tags": [
     "info"
    ]
   },
   "source": [
    "session: 2\n",
    "category: Pandas\n",
    "difficulty: Medium\n",
    "tags:\n",
    "    - pandas\n",
    "    - filter"
   ]
  }
 ],
 "metadata": {
  "kernelspec": {
   "display_name": "Python 3 (ipykernel)",
   "language": "python",
   "name": "python3"
  },
  "language_info": {
   "codemirror_mode": {
    "name": "ipython",
    "version": 3
   },
   "file_extension": ".py",
   "mimetype": "text/x-python",
   "name": "python",
   "nbconvert_exporter": "python",
   "pygments_lexer": "ipython3",
   "version": "3.9.18"
  }
 },
 "nbformat": 4,
 "nbformat_minor": 5
}
