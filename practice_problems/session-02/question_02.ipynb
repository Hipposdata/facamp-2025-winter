{
 "cells": [
  {
   "cell_type": "markdown",
   "id": "e297aae2-fe8f-42c4-b9e2-143a962b38be",
   "metadata": {
    "editable": true,
    "slideshow": {
     "slide_type": ""
    },
    "tags": []
   },
   "source": [
    "### Premier League 클럽들 중 평균 FIFA Wage가 40,000 미만인 클럽들을 구하시오"
   ]
  },
  {
   "cell_type": "code",
   "execution_count": null,
   "id": "54b19620-a1d6-4ccf-929c-267739427807",
   "metadata": {
    "editable": true,
    "slideshow": {
     "slide_type": ""
    },
    "tags": [
     "session2",
     "question",
     "pandas"
    ]
   },
   "outputs": [],
   "source": []
  }
 ],
 "metadata": {
  "kernelspec": {
   "display_name": "Python 3 (ipykernel)",
   "language": "python",
   "name": "python3"
  },
  "language_info": {
   "codemirror_mode": {
    "name": "ipython",
    "version": 3
   },
   "file_extension": ".py",
   "mimetype": "text/x-python",
   "name": "python",
   "nbconvert_exporter": "python",
   "pygments_lexer": "ipython3",
   "version": "3.9.21"
  }
 },
 "nbformat": 4,
 "nbformat_minor": 5
}
