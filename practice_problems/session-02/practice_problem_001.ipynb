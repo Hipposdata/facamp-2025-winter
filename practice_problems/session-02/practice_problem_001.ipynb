{
 "cells": [
  {
   "cell_type": "markdown",
   "id": "6938fa95-8aa4-407a-9840-7ed00cec8d91",
   "metadata": {
    "editable": true,
    "slideshow": {
     "slide_type": ""
    },
    "tags": []
   },
   "source": [
    "# Practice Problem"
   ]
  },
  {
   "cell_type": "markdown",
   "id": "ada0b41f-85f1-46c0-b67e-66a3ee7ae9c5",
   "metadata": {
    "editable": true,
    "slideshow": {
     "slide_type": ""
    },
    "tags": []
   },
   "source": [
    "## Question"
   ]
  },
  {
   "cell_type": "markdown",
   "id": "ca232b15-864e-4d36-86a6-7d5f0a2d44bc",
   "metadata": {
    "editable": true,
    "slideshow": {
     "slide_type": ""
    },
    "tags": [
     "question"
    ]
   },
   "source": [
    "포지션이 CM인 선수를 분류한 후, 능력치(overall) 순으로 정렬하기"
   ]
  },
  {
   "cell_type": "raw",
   "id": "6a073bbd-70b0-48ac-b2ff-2587444de110",
   "metadata": {
    "editable": true,
    "raw_mimetype": "",
    "slideshow": {
     "slide_type": ""
    },
    "tags": [
     "info"
    ]
   },
   "source": [
    "session: 2\n",
    "category: Pandas\n",
    "difficulty: Medium\n",
    "tags:\n",
    "    - pandas\n",
    "    - filter"
   ]
  }
 ],
 "metadata": {
  "kernelspec": {
   "display_name": "Python 3 (ipykernel)",
   "language": "python",
   "name": "python3"
  },
  "language_info": {
   "codemirror_mode": {
    "name": "ipython",
    "version": 3
   },
   "file_extension": ".py",
   "mimetype": "text/x-python",
   "name": "python",
   "nbconvert_exporter": "python",
   "pygments_lexer": "ipython3",
   "version": "3.9.18"
  }
 },
 "nbformat": 4,
 "nbformat_minor": 5
}
