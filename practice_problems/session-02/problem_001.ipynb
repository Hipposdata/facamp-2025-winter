{
 "cells": [
  {
   "cell_type": "markdown",
   "id": "82241bf8-0a67-418d-89a6-67d760780bf6",
   "metadata": {
    "editable": true,
    "slideshow": {
     "slide_type": ""
    },
    "tags": []
   },
   "source": [
    "*Copyright 2025 Winning Twelve*\n",
    "\n",
    "You may not make copies of this and use or distribute it for any purpose."
   ]
  },
  {
   "cell_type": "markdown",
   "id": "702f288f-5696-4a0b-bc1c-947c6f9a5299",
   "metadata": {
    "editable": true,
    "slideshow": {
     "slide_type": ""
    },
    "tags": []
   },
   "source": [
    "# Practice Problem"
   ]
  },
  {
   "cell_type": "markdown",
   "id": "b45229a8-138f-4630-af19-0b1dc4533aa2",
   "metadata": {
    "editable": true,
    "slideshow": {
     "slide_type": ""
    },
    "tags": []
   },
   "source": [
    "## Question"
   ]
  },
  {
   "cell_type": "markdown",
   "id": "10003142-5059-4267-a80b-1f51b5418bea",
   "metadata": {
    "editable": true,
    "slideshow": {
     "slide_type": ""
    },
    "tags": [
     "question"
    ]
   },
   "source": [
    "Kevin De Bruyne의 FIFA Market Value를 출력하세요."
   ]
  },
  {
   "cell_type": "raw",
   "id": "fbfae00c-bda8-450e-b414-3575b0478841",
   "metadata": {
    "editable": true,
    "raw_mimetype": "",
    "slideshow": {
     "slide_type": ""
    },
    "tags": [
     "info"
    ]
   },
   "source": [
    "session: 2\n",
    "category: Pandas\n",
    "difficulty: Easy\n",
    "tags:\n",
    "  - pandas\n",
    "  - filter"
   ]
  }
 ],
 "metadata": {
  "kernelspec": {
   "display_name": "Python 3 (ipykernel)",
   "language": "python",
   "name": "python3"
  },
  "language_info": {
   "codemirror_mode": {
    "name": "ipython",
    "version": 3
   },
   "file_extension": ".py",
   "mimetype": "text/x-python",
   "name": "python",
   "nbconvert_exporter": "python",
   "pygments_lexer": "ipython3",
   "version": "3.12.8"
  }
 },
 "nbformat": 4,
 "nbformat_minor": 5
}
