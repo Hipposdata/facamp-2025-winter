{
 "cells": [
  {
   "cell_type": "markdown",
   "id": "702f288f-5696-4a0b-bc1c-947c6f9a5299",
   "metadata": {
    "editable": true,
    "slideshow": {
     "slide_type": ""
    },
    "tags": []
   },
   "source": [
    "# Practice Problem"
   ]
  },
  {
   "cell_type": "markdown",
   "id": "b45229a8-138f-4630-af19-0b1dc4533aa2",
   "metadata": {
    "editable": true,
    "slideshow": {
     "slide_type": ""
    },
    "tags": []
   },
   "source": [
    "## Question"
   ]
  },
  {
   "cell_type": "markdown",
   "id": "10003142-5059-4267-a80b-1f51b5418bea",
   "metadata": {
    "editable": true,
    "slideshow": {
     "slide_type": ""
    },
    "tags": [
     "question"
    ]
   },
   "source": [
    "players.csv 파일을 사용하여 미드필더(Midfielder) 포지션에 해당하는 모든 선수의 이름과 포지션을 출력하세요."
   ]
  },
  {
   "cell_type": "raw",
   "id": "fbfae00c-bda8-450e-b414-3575b0478841",
   "metadata": {
    "editable": true,
    "raw_mimetype": "",
    "slideshow": {
     "slide_type": ""
    },
    "tags": [
     "info"
    ]
   },
   "source": [
    "session: 2  \n",
    "category: Data Analysis  \n",
    "difficulty: Easy  \n",
    "tags:  \n",
    "- pandas  \n",
    "- csv  \n",
    "- filter"
   ]
  },
  {
   "cell_type": "markdown",
   "id": "f3f8b4cd-910c-4f80-8c57-f03c0c40daac",
   "metadata": {
    "editable": true,
    "slideshow": {
     "slide_type": ""
    },
    "tags": []
   },
   "source": [
    "## Question"
   ]
  },
  {
   "cell_type": "markdown",
   "id": "7dac513c-8973-447c-9858-43726f5476ae",
   "metadata": {
    "editable": true,
    "slideshow": {
     "slide_type": ""
    },
    "tags": [
     "question"
    ]
   },
   "source": [
    "다음의 패스 좌표를 사용하여 경기장 위에 패스 화살표를 시각화하세요.\n",
    "- 경기장의 배경은 잔디 색으로 설정하고, 줄무늬(stripe=True)를 추가하세요.\n",
    "- Pitch 객체의 lines 메서드를 사용하여 패스를 시각화하세요.\n",
    "\n",
    "x1, y1 = 70, 10  패스 시작 위치  \n",
    "x2, y2 = 30, 40  패스 종료 위치"
   ]
  },
  {
   "cell_type": "raw",
   "id": "03198ac8-283a-4b71-8f10-11545ff38f7b",
   "metadata": {
    "editable": true,
    "raw_mimetype": "",
    "slideshow": {
     "slide_type": ""
    },
    "tags": [
     "info"
    ]
   },
   "source": [
    "session: 2  \n",
    "category: Data Visualization  \n",
    "difficulty: Medium  \n",
    "tags:  \n",
    "- matplotlib  \n",
    "- pitch  \n",
    "- grass_background  \n",
    "- pass "
   ]
  }
 ],
 "metadata": {
  "kernelspec": {
   "display_name": "Python 3 (ipykernel)",
   "language": "python",
   "name": "python3"
  },
  "language_info": {
   "codemirror_mode": {
    "name": "ipython",
    "version": 3
   },
   "file_extension": ".py",
   "mimetype": "text/x-python",
   "name": "python",
   "nbconvert_exporter": "python",
   "pygments_lexer": "ipython3",
   "version": "3.12.9"
  }
 },
 "nbformat": 4,
 "nbformat_minor": 5
}
