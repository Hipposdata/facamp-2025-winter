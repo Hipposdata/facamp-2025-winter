{
 "cells": [
  {
   "cell_type": "markdown",
   "id": "f84ad629-f004-4913-8a6a-d526d0164eec",
   "metadata": {
    "editable": true,
    "slideshow": {
     "slide_type": ""
    },
    "tags": [
     "question"
    ]
   },
   "source": [
    "## Question"
   ]
  },
  {
   "cell_type": "markdown",
   "id": "9b7380d5-ba4c-4777-a90d-ea9e3d9a9b5f",
   "metadata": {
    "editable": true,
    "slideshow": {
     "slide_type": ""
    },
    "tags": [
     "question"
    ]
   },
   "source": [
    " Q2. mplsoccer를 사용하여 축구 경기장을 그리고, 페널티킥 위치에 자신의 이름이 표시된 점을 추가하려면 어떻게 해야 하나요?\n",
    " \n",
    " Hint: pitch를 활용해서 경기장을 그릴 때 label을 추가하면 좌표를 더 쉽게 볼 수 있음. 여기에서 그 위치는(108,40)이다.\n",
    "\n",
    "+pip install mplsoccer 했다고 전제"
   ]
  }
 ],
 "metadata": {
  "kernelspec": {
   "display_name": "Python 3 (ipykernel)",
   "language": "python",
   "name": "python3"
  },
  "language_info": {
   "codemirror_mode": {
    "name": "ipython",
    "version": 3
   },
   "file_extension": ".py",
   "mimetype": "text/x-python",
   "name": "python",
   "nbconvert_exporter": "python",
   "pygments_lexer": "ipython3",
   "version": "3.9.19"
  }
 },
 "nbformat": 4,
 "nbformat_minor": 5
}
