{
 "cells": [
  {
   "cell_type": "markdown",
   "id": "14b9958d-f290-4d68-8f94-a780a6983abc",
   "metadata": {},
   "source": [
    "*Copyright 2025 Jaeyoung Chun / Winning Twelve*\n",
    "\n",
    "You may not make copies of this and use or distribute it for any purpose."
   ]
  },
  {
   "cell_type": "markdown",
   "id": "979d5da8-cfa9-4174-a550-80c93dfc8e6c",
   "metadata": {},
   "source": [
    "# Manual Retrieval-Augmented Generation"
   ]
  },
  {
   "cell_type": "markdown",
   "id": "02018ba4-9bda-47ff-9a63-52f5281a4d01",
   "metadata": {},
   "source": [
    "## Embedding"
   ]
  },
  {
   "cell_type": "code",
   "execution_count": 1,
   "id": "c734c61c-5f87-4ade-8431-be2de08877a7",
   "metadata": {},
   "outputs": [],
   "source": [
    "from langchain_openai import OpenAIEmbeddings"
   ]
  },
  {
   "cell_type": "code",
   "execution_count": 2,
   "id": "ca930ae1-6f5d-44db-bf6d-d2e39b066e30",
   "metadata": {},
   "outputs": [],
   "source": [
    "embedding_model = OpenAIEmbeddings(model=\"text-embedding-3-large\")"
   ]
  },
  {
   "cell_type": "markdown",
   "id": "943f74c4-1d6f-4eb2-8803-df22f1c1399c",
   "metadata": {},
   "source": [
    "### Documents"
   ]
  },
  {
   "cell_type": "code",
   "execution_count": 3,
   "id": "7109e881-b542-41a7-99c7-52b6d6d624b0",
   "metadata": {},
   "outputs": [],
   "source": [
    "titles = [\n",
    "    \"벤피카 vs. 바르셀로나 / 뉴시스\",\n",
    "    \"손흥민 / 위키피디아\",\n",
    "    \"인공지능 / 나무위키\"\n",
    "]"
   ]
  },
  {
   "cell_type": "code",
   "execution_count": 4,
   "id": "06a02481-f270-4517-b432-58b7860bd2f7",
   "metadata": {},
   "outputs": [],
   "source": [
    "# https://www.newsis.com/view/NISX20250122_0003041476\n",
    "doc1 = \"\"\"\n",
    "스페인 프로축구 프리메라리가 바르셀로나가 벤피카(포르투갈)와 도합 9골이 터진 난타전 끝에 극적인 역전승을 거두면서 유럽축구연맹(UEFA) 챔피언스리그(UCL) 16강에 진출했다.\n",
    "\n",
    "바르셀로나는 22일(한국 시간) 포르투갈 리스본의 이스타디우 다 루스에서 열린 벤피카와의 대회 리그 페이즈 7차전 원정 경기에서 5-4로 이겼다.\n",
    "\n",
    "이날 승리로 바르셀로나는 승점 18(6승 1패)로 2위를 달렸고, 오는 31일 8차전 유벤투스(이탈리아)와의 맞대결 결과와 관계없이 16강행을 확정했다.\n",
    "\n",
    "UCL 리그 페이즈는 36개 팀 중 1~8위가 16강 직행, 9~24위가 16강 플레이오프를 치른다.\n",
    "\n",
    "바르셀로나는 리그 페이즈에서 단 1패밖에 내주지 않으며 순조롭게 16강 진출을 확정했다.\n",
    "\n",
    "안방에서 패배한 벤피카는 승점 10(3승 1무 3패)으로 18위에 머물렀다.\n",
    "\n",
    "벤피카는 전반전에 3-1, 후반전에 4-2로 앞서갔으나 끝내 역전을 허용하며 무릎을 꿇었다.\n",
    "\n",
    "벤피카가 킥오프 이후 곧장 균형을 깼다.\n",
    "\n",
    "전반 2분 반젤리스 파블리디스가 알바로 페르난데스가 건넨 크로스를 슈팅해 골망을 갈랐다.\n",
    "\n",
    "바르셀로나는 전반 13분 로베르트 레반도프스키의 페널티킥 득점에 힘입어 반격했다.\n",
    "\n",
    "하지만 벤피카 공격수 파블리디스가 전반 22분 추가골을 넣고, 전반 30분 해트트릭을 완성하면서 바르셀로나에 찬물을 끼얹었다.\n",
    "\n",
    "후반전도 비슷한 양상이었다. 바르셀로나는 후반 19분 하피냐 골로 고삐를 당겼지만, 벤피카는 후반 23분 상대 수비수의 자책골로 달아났다.\n",
    "\n",
    "바르셀로나는 포기하지 않았다. 후반 33분 레반도프스키의 페널티킥 멀티골로 3-4, 후반 41분 에릭 가르시아의 득점으로 4-4까지 쫓아갔다.\n",
    "\n",
    "마지막 해결사는 하피냐였다.\n",
    "\n",
    "후반 51분 전방으로 향한 롱볼이 침투하는 하피냐에게 전달됐다. 하피냐는 수비를 제친 뒤 슈팅했고 구석을 꿰뚫어 역전골을 터뜨렸다.\n",
    "\n",
    "결국 경기는 바르셀로나의 짜릿한 5-4 승리로 막을 내렸다.\n",
    "\"\"\""
   ]
  },
  {
   "cell_type": "code",
   "execution_count": 5,
   "id": "013546fc-a8d3-477f-a9a6-ece970bbfb49",
   "metadata": {},
   "outputs": [],
   "source": [
    "# https://ko.wikipedia.org/wiki/%EC%86%90%ED%9D%A5%EB%AF%BC\n",
    "doc2 = \"\"\"\n",
    "손흥민(孫興慜, 1992년 7월 8일~)은 대한민국의 축구 선수로, 포지션은 공격수이다. 현재 잉글랜드 프리미어리그의 토트넘 홋스퍼와 대한민국 축구 국가대표팀 소속으로 활동하고 있으며 두 팀의 주장을 맡고 있다.[6] 그는 구단에서의 활약을 바탕으로 역대 최고의 아시아 축구 선수 중 한 명으로 간주되고 있다.[7][8][9][10][11]\n",
    "\n",
    "16세에 독일로 건너가 함부르거 SV에 입단했으며 2010년 분데스리가에 데뷔했다. 2013년에 클럽 최고 이적료인 1000만 유로에 바이어 레버쿠젠으로 이적했으며 2년 후 2015년에 아시아 축구 선수 역대 최고 이적료인 3천만 유로의 이적료로 프리미어리그의 토트넘 홋스퍼에 입단했다. 토트넘에서 뛰는 동안 프리미어리그와 챔피언스리그 아시아 최다 득점자가 되었으며 차범근이 기록했던 유럽 프로 축구 대회 한국 선수 최다 득점 기록을 갱신했다. 2019년에는 박지성의 뒤를 이어 UEFA 챔피언스리그 결승에 선발로 출전한 두 번째 아시아 축구 선수가 되었다. 2021-22시즌에는 모하메드 살라와 함께 리그 득점 23골을 기록하며 아시아 선수로는 최초로 프리미어리그 골든 부츠를 수상했다. 2023년 4월에는 프리미어리그에서 통산 100골을 넣은 최초의 아시아 선수가 되었다. 또한 손흥민은 토트넘 홋스퍼 역사상 6번째로 많은 득점을 기록했으며 최다 어시스트 기록을 세웠다.\n",
    "\n",
    "2010년부터 대한민국 국가대표팀 선수로 활동한 손흥민은 2014년, 2018년, 2022년 FIFA 월드컵에 대한민국 국가대표로 참가했으며, 박지성, 안정환과 함께 3골로 동률을 기록한 대한민국팀 월드컵 공동 최다 득점자이다. 또한 AFC 아시안컵에 4회(2011, 2015, 2019, 2023) 참가하여 2015년 대회에서 준우승을 차지했다. 올림픽 대표팀 선수로 2016년 하계 올림픽에 참가했으며 2018년 아시안 게임에서 금메달을 획득했다.\n",
    "\n",
    "손흥민은 축구 선수로서 달성한 업적을 바탕으로 대한민국 축구계의 대표적인 인물로 여겨지고 있다.[12][13] 2019년부터 포브스 코리아 파워 셀러브리티 40인에 계속 선정되었으며 2023년에는 2위에 올랐다. 2022년 6월에는 축구 선수로는 최초로 대한민국 체육인으로 받을 수 있는 최고 권위 훈장인 청룡장을 받았다.\n",
    "\"\"\""
   ]
  },
  {
   "cell_type": "code",
   "execution_count": 6,
   "id": "bd98f893-711f-4304-ac20-f20fdf7382a7",
   "metadata": {},
   "outputs": [],
   "source": [
    "# https://namu.wiki/w/%EC%9D%B8%EA%B3%B5%EC%A7%80%EB%8A%A5\n",
    "doc3 = \"\"\"\n",
    "인공지능(人工智能, Artificial Intelligence; AI)은 인간의 지능[2]이 가지는 학습, 추리, 적응, 논증 따위의 기능을 갖춘 컴퓨터 시스템을 의미한다.\n",
    "\n",
    "인간의 학습능력, 추론능력, 지각능력을 인공적으로 구현시키는 컴퓨터과학의 하위 분야로, 인간의 지능을 기계 등에 인공적으로 구현한 것이다. 일반적으로 범용 컴퓨터에 적용한다고 가정한다. 혹은 이와 같은 지능을 만들 수 있는 방법론이나 실현 가능성 등을 연구하는 과학 기술 분야를 지칭하는 표현이기도 하다.\n",
    "\n",
    "대한민국의 '인공지능 발전과 신뢰 기반 조성 등에 관한 기본법'은 \"학습, 추론, 지각, 판단, 언어의 이해 등 인간이 가진 지적 능력을 전자적 방법으로 구현한 것\"이라고 정의한다.\n",
    "\"\"\""
   ]
  },
  {
   "cell_type": "code",
   "execution_count": 7,
   "id": "9a5150cf-8983-4f72-93dd-13c966c9d9e8",
   "metadata": {},
   "outputs": [],
   "source": [
    "docs = [doc1, doc2, doc3]"
   ]
  },
  {
   "cell_type": "code",
   "execution_count": 8,
   "id": "b2505dc0-31e6-4a22-97ce-bce35c6fb49c",
   "metadata": {},
   "outputs": [],
   "source": [
    "embedding_docs = embedding_model.embed_documents(docs)"
   ]
  },
  {
   "cell_type": "markdown",
   "id": "9efca26d-4fcc-45f8-a61e-ad208f710166",
   "metadata": {},
   "source": [
    "### Question"
   ]
  },
  {
   "cell_type": "code",
   "execution_count": 9,
   "id": "f80be63e-f789-4484-b666-4b73d86b7f86",
   "metadata": {},
   "outputs": [],
   "source": [
    "question = \"2025년 1월에 있었던 챔피언스리그 벤피카 vs. 바르셀로나 경기에 대해 요약해줘.\""
   ]
  },
  {
   "cell_type": "code",
   "execution_count": 10,
   "id": "dba93bb8-5471-42cd-84d1-76f08ba3a0e7",
   "metadata": {},
   "outputs": [],
   "source": [
    "embedding_question = embedding_model.embed_query(question)"
   ]
  },
  {
   "cell_type": "markdown",
   "id": "30da4f19-2f63-4eeb-bb79-a29a0ac24bc1",
   "metadata": {},
   "source": [
    "## Retrieve"
   ]
  },
  {
   "cell_type": "code",
   "execution_count": 11,
   "id": "22a62aae-a406-4de6-af78-aa1ee993724b",
   "metadata": {},
   "outputs": [],
   "source": [
    "from sklearn.metrics.pairwise import cosine_similarity\n",
    "\n",
    "def get_similarity(a, b):\n",
    "    return cosine_similarity([a], [b])[0][0]"
   ]
  },
  {
   "cell_type": "code",
   "execution_count": 12,
   "id": "9b768e05-dab9-4fe1-8f39-4cbe3cf299d9",
   "metadata": {},
   "outputs": [
    {
     "name": "stdout",
     "output_type": "stream",
     "text": [
      "벤피카 vs. 바르셀로나 / 뉴시스 0.5905220321843514\n",
      "손흥민 / 위키피디아 0.17201164049696088\n",
      "인공지능 / 나무위키 0.09251582695693739\n"
     ]
    }
   ],
   "source": [
    "# find the most similar document\n",
    "idx_to_use = -1\n",
    "best_score = 0\n",
    "for idx, embedding_doc in enumerate(embedding_docs):\n",
    "    score = get_similarity(embedding_question, embedding_doc)\n",
    "    print(titles[idx], score)\n",
    "    if score > best_score:\n",
    "        idx_to_use = idx\n",
    "        best_score = score"
   ]
  },
  {
   "cell_type": "code",
   "execution_count": 13,
   "id": "abce6d80-4061-4d2a-abf4-83a17d773895",
   "metadata": {},
   "outputs": [
    {
     "data": {
      "text/plain": [
       "(0, '벤피카 vs. 바르셀로나 / 뉴시스')"
      ]
     },
     "execution_count": 13,
     "metadata": {},
     "output_type": "execute_result"
    }
   ],
   "source": [
    "idx_to_use, titles[idx_to_use]"
   ]
  },
  {
   "cell_type": "code",
   "execution_count": 14,
   "id": "4d93c6c5-a64a-4f0f-9b77-fd580d2c0aaa",
   "metadata": {},
   "outputs": [],
   "source": [
    "context = docs[idx_to_use]"
   ]
  },
  {
   "cell_type": "markdown",
   "id": "b5ffad67-d4e8-465a-9d19-4119e040ef8e",
   "metadata": {},
   "source": [
    "## Augment"
   ]
  },
  {
   "cell_type": "code",
   "execution_count": 15,
   "id": "522978da-e8f1-4dd5-bef0-57ef8d6e6ffb",
   "metadata": {},
   "outputs": [],
   "source": [
    "from langchain.prompts import ChatPromptTemplate\n",
    "from langchain.prompts import HumanMessagePromptTemplate\n",
    "from langchain_core.messages import SystemMessage"
   ]
  },
  {
   "cell_type": "code",
   "execution_count": 16,
   "id": "aea68f89-c86c-446f-8f35-9e51f7719770",
   "metadata": {},
   "outputs": [],
   "source": [
    "chat_template = ChatPromptTemplate.from_messages(\n",
    "    [\n",
    "        SystemMessage(\n",
    "            content=\"당신은 축구 전문가입니다.\"\n",
    "        ),\n",
    "        HumanMessagePromptTemplate.from_template(\n",
    "            \"\"\"\n",
    "            {question}\n",
    "            아래의 문맥에 기반하여 답해주세요.\n",
    "            {context}\n",
    "            \"\"\"\n",
    "        )\n",
    "    ]\n",
    ")"
   ]
  },
  {
   "cell_type": "code",
   "execution_count": 17,
   "id": "a02b2013-813d-4588-ba60-ff6176723e0c",
   "metadata": {},
   "outputs": [],
   "source": [
    "message = chat_template.format_messages(\n",
    "    question=question,\n",
    "    context=context\n",
    ")"
   ]
  },
  {
   "cell_type": "markdown",
   "id": "dbed2f82-fe92-48b6-8bba-aca94f995df8",
   "metadata": {},
   "source": [
    "## Generate"
   ]
  },
  {
   "cell_type": "code",
   "execution_count": 18,
   "id": "0c7aaadc-9200-44dd-b7a2-ade7cec7bbaf",
   "metadata": {},
   "outputs": [],
   "source": [
    "from langchain_openai import ChatOpenAI"
   ]
  },
  {
   "cell_type": "code",
   "execution_count": 19,
   "id": "4ad8664c-2e36-430d-a227-f8c0abfee93a",
   "metadata": {},
   "outputs": [],
   "source": [
    "model = ChatOpenAI(\n",
    "    model_name=\"gpt-4o-mini\",\n",
    "    temperature=0\n",
    ")"
   ]
  },
  {
   "cell_type": "code",
   "execution_count": 20,
   "id": "e7354744-6ec6-4b16-a965-e1ea895d77b0",
   "metadata": {},
   "outputs": [
    {
     "name": "stdout",
     "output_type": "stream",
     "text": [
      "2025년 1월 22일, 바르셀로나는 포르투갈 리스본의 이스타디우 다 루스에서 열린 UEFA 챔피언스리그 7차전에서 벤피카를 상대로 5-4로 극적인 역전승을 거두었습니다. 이 승리로 바르셀로나는 6승 1패로 승점 18을 기록하며 16강 진출을 확정지었습니다.\n",
      "\n",
      "경기는 초반부터 치열하게 진행되었습니다. 벤피카는 전반 2분에 반젤리스 파블리디스의 골로 선제점을 올렸고, 이후에도 추가골을 넣으며 전반 30분까지 3-1로 앞서갔습니다. 바르셀로나는 로베르트 레반도프스키의 페널티킥으로 반격했지만, 벤피카의 파블리디스가 해트트릭을 기록하며 다시 점수를 벌렸습니다.\n",
      "\n",
      "후반전에서도 벤피카는 4-2로 앞서갔으나, 바르셀로나는 포기하지 않고 하피냐와 레반도프스키의 골로 점수를 좁혔습니다. 후반 41분 에릭 가르시아의 득점으로 4-4 동점을 만들었고, 마지막으로 하피냐가 후반 51분에 역전골을 터뜨리며 경기를 5-4로 마무리했습니다.\n",
      "\n",
      "이로써 바르셀로나는 16강 진출을 확정짓고, 벤피카는 홈에서 패배하며 승점 10으로 18위에 머물렀습니다."
     ]
    }
   ],
   "source": [
    "for chunk in model.stream(message):\n",
    "    print(chunk.content, end=\"\", flush=True)"
   ]
  }
 ],
 "metadata": {
  "kernelspec": {
   "display_name": "Python 3 (ipykernel)",
   "language": "python",
   "name": "python3"
  },
  "language_info": {
   "codemirror_mode": {
    "name": "ipython",
    "version": 3
   },
   "file_extension": ".py",
   "mimetype": "text/x-python",
   "name": "python",
   "nbconvert_exporter": "python",
   "pygments_lexer": "ipython3",
   "version": "3.12.8"
  }
 },
 "nbformat": 4,
 "nbformat_minor": 5
}
