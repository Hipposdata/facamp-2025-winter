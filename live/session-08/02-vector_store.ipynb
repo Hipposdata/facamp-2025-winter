{
 "cells": [
  {
   "cell_type": "markdown",
   "id": "e79c8348-3caf-4e4b-a4dc-aa926ff90842",
   "metadata": {},
   "source": [
    "*Copyright 2025 Jaeyoung Chun / Winning Twelve*\n",
    "\n",
    "You may not make copies of this and use or distribute it for any purpose."
   ]
  },
  {
   "cell_type": "markdown",
   "id": "b860cfb9-93b3-40a3-9fa8-8cedb96cc134",
   "metadata": {},
   "source": [
    "# Vector Store"
   ]
  },
  {
   "cell_type": "markdown",
   "id": "f473601b-f05f-48c6-9558-38ea144779d8",
   "metadata": {},
   "source": [
    "## Loading"
   ]
  },
  {
   "cell_type": "code",
   "execution_count": 1,
   "id": "8b2cdaca-43ac-4fc5-9f53-bff2737f0a65",
   "metadata": {},
   "outputs": [],
   "source": [
    "from langchain_community.document_loaders import JSONLoader"
   ]
  },
  {
   "cell_type": "code",
   "execution_count": 2,
   "id": "41dbedf2-e220-4678-b9e0-829b98bc19d7",
   "metadata": {},
   "outputs": [],
   "source": [
    "# define the metadata extraction function.\n",
    "def metadata_func(record: dict, metadata: dict) -> dict:\n",
    "    metadata[\"source\"] = record[\"metadata\"][\"source\"]\n",
    "    metadata[\"title\"] = record[\"metadata\"][\"title\"]\n",
    "    return metadata\n",
    "\n",
    "loader = JSONLoader(\n",
    "    file_path=\"./data/news.json\",\n",
    "    jq_schema=\".[]\",\n",
    "    content_key=\"page_content\",\n",
    "    metadata_func=metadata_func\n",
    ")"
   ]
  },
  {
   "cell_type": "code",
   "execution_count": 3,
   "id": "670090d4-59ea-4fd1-b046-2d4011a21d6b",
   "metadata": {},
   "outputs": [],
   "source": [
    "data = loader.load()"
   ]
  },
  {
   "cell_type": "code",
   "execution_count": 4,
   "id": "39c88408-6e22-46e1-8598-d74e180b9de3",
   "metadata": {},
   "outputs": [
    {
     "data": {
      "text/plain": [
       "80"
      ]
     },
     "execution_count": 4,
     "metadata": {},
     "output_type": "execute_result"
    }
   ],
   "source": [
    "len(data)"
   ]
  },
  {
   "cell_type": "code",
   "execution_count": 5,
   "id": "5da7c475-4fee-44d5-998d-f22ea9855c1a",
   "metadata": {},
   "outputs": [
    {
     "data": {
      "text/plain": [
       "Document(metadata={'source': 'https://www.newsis.com/view/NISX20250202_0003049875', 'seq_num': 1, 'title': '광주 미드필더 정호연, MLS 미네소타 이적…정상빈과 한솥밥'}, page_content='광주 미드필더 정호연, MLS 미네소타 이적…정상빈과 한솥밥광주 미드필더 정호연, MLS 미네소타 이적…정상빈과 한솥밥등록 2025.02.02 12:59:06[서울=뉴시스] 미국 프로축구 메이저리그사커(MLS) 미네소타 유나이티드의 정호연. (사진=미네소타 유나이티드 SNS 캡처) *재판매 및 DB 금지[서울=뉴시스] 김진엽 기자 = 프로축구 K리그1 광주FC 미드필더 정호연(25)이 미국 프로축구 메이저리그사커(MLS) 미네소타 유나이티드로 이적했다.미네소타는 2일(한국 시간) 구단 공식 채널을 통해 정호연 영입 소식을 전했다.구단에 따르면 계약 기간은 2027년 12월까지며, 1년 더 연장하는 옵션이 포함됐다.이로써 미네소타는 한국인 선수 2명을 보유하게 됐다.지난 2023년부터 뛰고 있는 윙 정상빈에 이어 미드필더 정호연까지 가세했다.정호연은 지난 2022시즌 광주 유니폼을 입고 프로 무대를 밟았다.당시 K리그2 소속이었던 광주의 주전으로 활약했고, K리그1으로 승격한 2023시즌에는 34경기 2골4도움으로 영플레이어상까지 받았다.2023년 열린 항저우 아시안게임에서 금메달을 획득해 병역 혜택까지 받은 그는 지난해 3월에는 처음 성인 국가대표로도 선발된 바 있다.정호연은 \"미네소타에 합류해 정말 기쁘다. 새로운 도전이 기대되며 기회를 줘서 고맙다\"며 \"새로운 환경에서 팀에 기여하고발전하는 모습을 보이기 위해 최선을 다할 것\"이라고 전했다.지난 2015년 창단한 미네소타는 지난 시즌 MLS 서부 콘퍼런스 14개 팀 중 6위를 기록했다.2025시즌 MLS는 이달 하순 개막한다.')"
      ]
     },
     "execution_count": 5,
     "metadata": {},
     "output_type": "execute_result"
    }
   ],
   "source": [
    "data[0]"
   ]
  },
  {
   "cell_type": "markdown",
   "id": "1d7457a9-488b-4a5f-b907-91f9c05e461c",
   "metadata": {},
   "source": [
    "## Splitting"
   ]
  },
  {
   "cell_type": "code",
   "execution_count": 6,
   "id": "74db7d8e-ca96-4408-a66a-917d49fa2116",
   "metadata": {},
   "outputs": [],
   "source": [
    "from langchain_text_splitters import RecursiveCharacterTextSplitter"
   ]
  },
  {
   "cell_type": "code",
   "execution_count": 7,
   "id": "1569e053-ebe6-4f01-a403-2b0a38dc69f6",
   "metadata": {},
   "outputs": [],
   "source": [
    "text_splitter = RecursiveCharacterTextSplitter(\n",
    "    chunk_size=3500,\n",
    "    chunk_overlap=0\n",
    ")"
   ]
  },
  {
   "cell_type": "code",
   "execution_count": 8,
   "id": "941ff769-56c8-4dd5-843d-6dd662fd13a7",
   "metadata": {},
   "outputs": [],
   "source": [
    "docs = text_splitter.split_documents(data)"
   ]
  },
  {
   "cell_type": "code",
   "execution_count": 9,
   "id": "e7d4303f-54a1-462f-adce-7190b79bb5af",
   "metadata": {},
   "outputs": [
    {
     "data": {
      "text/plain": [
       "80"
      ]
     },
     "execution_count": 9,
     "metadata": {},
     "output_type": "execute_result"
    }
   ],
   "source": [
    "len(docs)"
   ]
  },
  {
   "cell_type": "markdown",
   "id": "460b3bbc-ec48-483b-b330-29a3add81db2",
   "metadata": {},
   "source": [
    "## Embeddings"
   ]
  },
  {
   "cell_type": "code",
   "execution_count": 10,
   "id": "c0f7e0da-38f7-44ad-aaed-96184c6d7d5c",
   "metadata": {},
   "outputs": [],
   "source": [
    "from langchain_openai import OpenAIEmbeddings"
   ]
  },
  {
   "cell_type": "code",
   "execution_count": 11,
   "id": "4c66c036-c433-4a87-9633-063c3e4e40d7",
   "metadata": {},
   "outputs": [],
   "source": [
    "embedding_model = OpenAIEmbeddings(model=\"text-embedding-3-large\")"
   ]
  },
  {
   "cell_type": "markdown",
   "id": "e546c8a6-5d9b-44de-a4e9-3b916585034e",
   "metadata": {},
   "source": [
    "## Vector Store"
   ]
  },
  {
   "cell_type": "code",
   "execution_count": 12,
   "id": "935890b4-c6a2-417f-bfb6-750b2b2a98fb",
   "metadata": {},
   "outputs": [],
   "source": [
    "# purge previous db\n",
    "import shutil\n",
    "shutil.rmtree(\"./chroma_db\", ignore_errors=True)"
   ]
  },
  {
   "cell_type": "code",
   "execution_count": 13,
   "id": "f2c0f05e-b8d4-4a61-a111-4b324b6d2377",
   "metadata": {},
   "outputs": [],
   "source": [
    "from langchain_chroma import Chroma"
   ]
  },
  {
   "cell_type": "code",
   "execution_count": 14,
   "id": "947d67e9-2a74-4df1-a11c-a4f6fccbe19a",
   "metadata": {},
   "outputs": [
    {
     "name": "stdout",
     "output_type": "stream",
     "text": [
      "CPU times: user 624 ms, sys: 261 ms, total: 885 ms\n",
      "Wall time: 2.94 s\n"
     ]
    }
   ],
   "source": [
    "%%time\n",
    "\n",
    "db = Chroma.from_documents(\n",
    "    documents=docs,\n",
    "    embedding=embedding_model,\n",
    "    persist_directory=\"./chroma_db\"\n",
    ")"
   ]
  },
  {
   "cell_type": "markdown",
   "id": "78e753c8-c0b0-402b-953a-c827fedd8c54",
   "metadata": {},
   "source": [
    "## Similarity Search"
   ]
  },
  {
   "cell_type": "code",
   "execution_count": 15,
   "id": "a4d58a89-c155-43f3-aba1-afa78421790d",
   "metadata": {},
   "outputs": [],
   "source": [
    "def summarize_results(results):    \n",
    "    for result in results:\n",
    "        if type(result) == tuple:\n",
    "            result, score = result\n",
    "        else:\n",
    "            score = None\n",
    "        print(\"=\" * 80)\n",
    "        print(\"Title: \", result.metadata[\"title\"])\n",
    "        print(\"Source:\", result.metadata[\"source\"])\n",
    "        if score:\n",
    "            print(\"Score: \", score)"
   ]
  },
  {
   "cell_type": "code",
   "execution_count": 16,
   "id": "d7d13b37-3091-4a99-9f04-3694f6952d0c",
   "metadata": {},
   "outputs": [],
   "source": [
    "query = \"2025년 1월에 있었던 챔피언스리그 벤피카 vs. 바르셀로나 경기에 대해 요약해줘.\""
   ]
  },
  {
   "cell_type": "markdown",
   "id": "dc92c15c-3ef5-4caa-ba51-4ca78f644b77",
   "metadata": {},
   "source": [
    "### Basic Search"
   ]
  },
  {
   "cell_type": "code",
   "execution_count": 17,
   "id": "c4649310-d802-4d01-90cb-923073474400",
   "metadata": {},
   "outputs": [],
   "source": [
    "results = db.similarity_search(query)"
   ]
  },
  {
   "cell_type": "code",
   "execution_count": 18,
   "id": "0dfe565b-2696-4771-9505-144653c3b529",
   "metadata": {},
   "outputs": [
    {
     "data": {
      "text/plain": [
       "Document(id='57c397a5-7970-4fec-baf6-af9273246087', metadata={'seq_num': 48, 'source': 'https://www.newsis.com/view/NISX20250122_0003041476', 'title': '바르셀로나, 벤피카에 5-4 대역전승…UCL 16강 진출'}, page_content='바르셀로나, 벤피카에 5-4 대역전승…UCL 16강 진출바르셀로나, 벤피카에 5-4 대역전승…UCL 16강 진출등록 2025.01.22 10:33:04[리스본=AP/뉴시스] 스페인 프로축구 프리메라리가 바르셀로나의 하피냐. 2025. 1. 21.[서울=뉴시스] 하근수 기자 = 스페인 프로축구 프리메라리가 바르셀로나가 벤피카(포르투갈)와 도합 9골이 터진 난타전 끝에극적인 역전승을 거두면서 유럽축구연맹(UEFA) 챔피언스리그(UCL) 16강에 진출했다.바르셀로나는 22일(한국 시간) 포르투갈 리스본의 이스타디우 다 루스에서 열린 벤피카와의 대회 리그 페이즈 7차전 원정 경기에서 5-4로 이겼다.이날 승리로 바르셀로나는 승점 18(6승 1패)로 2위를 달렸고, 오는 31일 8차전 유벤투스(이탈리아)와의 맞대결 결과와 관계없이 16강행을 확정했다.UCL 리그 페이즈는 36개 팀 중 1~8위가 16강 직행, 9~24위가 16강 플레이오프를 치른다.바르셀로나는 리그 페이즈에서 단 1패밖에 내주지 않으며 순조롭게 16강 진출을 확정했다.안방에서 패배한 벤피카는 승점 10(3승 1무 3패)으로 18위에 머물렀다.벤피카는 전반전에 3-1, 후반전에 4-2로 앞서갔으나 끝내 역전을 허용하며 무릎을 꿇었다.[리스본=AP/뉴시스] 스페인 프로축구 프리메라리가 바르셀로나의 하피냐(가운데)가 득점 이후 동료들과 세리머니를 펼치고있다. 2025. 1. 21.벤피카가 킥오프 이후 곧장 균형을 깼다.전반 2분 반젤리스 파블리디스가 알바로 페르난데스가 건넨 크로스를 슈팅해 골망을 갈랐다.바르셀로나는 전반 13분 로베르트 레반도프스키의 페널티킥 득점에 힘입어 반격했다.하지만 벤피카 공격수 파블리디스가 전반 22분 추가골을 넣고, 전반 30분 해트트릭을 완성하면서 바르셀로나에 찬물을 끼얹었다.후반전도 비슷한 양상이었다. 바르셀로나는 후반 19분 하피냐 골로 고삐를 당겼지만, 벤피카는 후반 23분 상대 수비수의 자책골로 달아났다.바르셀로나는 포기하지 않았다. 후반 33분 레반도프스키의 페널티킥 멀티골로 3-4, 후반 41분 에릭 가르시아의 득점으로 4-4까지 쫓아갔다.마지막 해결사는 하피냐였다.후반 51분 전방으로 향한 롱볼이 침투하는 하피냐에게 전달됐다. 하피냐는 수비를 제친 뒤 슈팅했고 구석을 꿰뚫어 역전골을터뜨렸다.결국 경기는 바르셀로나의 짜릿한 5-4 승리로 막을 내렸다.[리버풀=AP/뉴시스] 잉글랜드 프로축구 프리미어리그(EPL) 리버풀의 모하메드 살라(오른쪽). 2025. 1. 21.같은 날 리버풀(잉글랜드)은 릴(프랑스)을 2-1로 격파했다.UCL 리그 페이즈 중 유일하게 전승을 달린 선두 리버풀(승점 21·7승)은 바르셀로나와 함께 16강 진출에 성공했다.전반 34분 모하메드 살라의 선제골 이후 한 차례 실점을 내줬지만, 후반 22분 하비 엘리엇의 결승골이 승리로 이어졌다.반면 릴(승점 13·4승 1무 2패)은 순위 도약에 실패하고 11위에 머물렀다.릴은 최근 공식전 21경기 무패를 달리며 상승세를 탔지만, 원정팀의 무덤이라 불리는 안필드에서 패배하며 아쉬움을 삼켰다.')"
      ]
     },
     "execution_count": 18,
     "metadata": {},
     "output_type": "execute_result"
    }
   ],
   "source": [
    "results[0]"
   ]
  },
  {
   "cell_type": "code",
   "execution_count": 19,
   "id": "069e9215-eefc-47f0-acd7-93dcd7b806c0",
   "metadata": {},
   "outputs": [
    {
     "name": "stdout",
     "output_type": "stream",
     "text": [
      "================================================================================\n",
      "Title:  바르셀로나, 벤피카에 5-4 대역전승…UCL 16강 진출\n",
      "Source: https://www.newsis.com/view/NISX20250122_0003041476\n",
      "================================================================================\n",
      "Title:  음바페, 스페인 무대 첫 해트트릭…레알 마드리드 완승 이끌어\n",
      "Source: https://www.newsis.com/view/NISX20250126_0003046718\n",
      "================================================================================\n",
      "Title:  레알서 첫 해트트릭 기록한 음바페, 라리가 이달의 선수\n",
      "Source: https://www.newsis.com/view/NISX20250201_0003049492\n",
      "================================================================================\n",
      "Title:  즈베즈다 설영우, UCL서 시즌 5호 도움…황인범 부상 복귀\n",
      "Source: https://www.newsis.com/view/NISX20250130_0003047794\n"
     ]
    }
   ],
   "source": [
    "summarize_results(results)"
   ]
  },
  {
   "cell_type": "markdown",
   "id": "bfb4a85c-cf2b-49a5-bf05-919d12fb1bbd",
   "metadata": {},
   "source": [
    "### Search with Score"
   ]
  },
  {
   "cell_type": "code",
   "execution_count": 20,
   "id": "840ab321-ed66-401b-b77e-b9c27e1a9e5a",
   "metadata": {},
   "outputs": [],
   "source": [
    "# similarity search with distance.\n",
    "results = db.similarity_search_with_score(query)"
   ]
  },
  {
   "cell_type": "code",
   "execution_count": 21,
   "id": "a684e8c8-5555-46d1-bda7-9b883191e0cf",
   "metadata": {},
   "outputs": [
    {
     "name": "stdout",
     "output_type": "stream",
     "text": [
      "================================================================================\n",
      "Title:  바르셀로나, 벤피카에 5-4 대역전승…UCL 16강 진출\n",
      "Source: https://www.newsis.com/view/NISX20250122_0003041476\n",
      "Score:  0.8085647487907384\n",
      "================================================================================\n",
      "Title:  음바페, 스페인 무대 첫 해트트릭…레알 마드리드 완승 이끌어\n",
      "Source: https://www.newsis.com/view/NISX20250126_0003046718\n",
      "Score:  1.1104447647971056\n",
      "================================================================================\n",
      "Title:  레알서 첫 해트트릭 기록한 음바페, 라리가 이달의 선수\n",
      "Source: https://www.newsis.com/view/NISX20250201_0003049492\n",
      "Score:  1.195515106925064\n",
      "================================================================================\n",
      "Title:  즈베즈다 설영우, UCL서 시즌 5호 도움…황인범 부상 복귀\n",
      "Source: https://www.newsis.com/view/NISX20250130_0003047794\n",
      "Score:  1.21378609355432\n"
     ]
    }
   ],
   "source": [
    "summarize_results(results)"
   ]
  },
  {
   "cell_type": "markdown",
   "id": "50567a58-2ee8-4c80-9818-9b26a2cc7cb3",
   "metadata": {},
   "source": [
    "### Search with Relevance Score"
   ]
  },
  {
   "cell_type": "code",
   "execution_count": 22,
   "id": "0fb35b70-10d3-4b4d-8ffc-9f2ddfde6fee",
   "metadata": {},
   "outputs": [],
   "source": [
    "# return docs and relevance scores in the range [0, 1].\n",
    "results = db.similarity_search_with_relevance_scores(query)"
   ]
  },
  {
   "cell_type": "code",
   "execution_count": 23,
   "id": "99941a1b-f806-4846-a68a-8ccbf1cb7605",
   "metadata": {},
   "outputs": [
    {
     "name": "stdout",
     "output_type": "stream",
     "text": [
      "================================================================================\n",
      "Title:  바르셀로나, 벤피카에 5-4 대역전승…UCL 16강 진출\n",
      "Source: https://www.newsis.com/view/NISX20250122_0003041476\n",
      "Score:  0.42825838310167164\n",
      "================================================================================\n",
      "Title:  음바페, 스페인 무대 첫 해트트릭…레알 마드리드 완승 이끌어\n",
      "Source: https://www.newsis.com/view/NISX20250126_0003046718\n",
      "Score:  0.21479697667886588\n",
      "================================================================================\n",
      "Title:  레알서 첫 해트트릭 기록한 음바페, 라리가 이달의 선수\n",
      "Source: https://www.newsis.com/view/NISX20250201_0003049492\n",
      "Score:  0.15464316088232688\n",
      "================================================================================\n",
      "Title:  즈베즈다 설영우, UCL서 시즌 5호 도움…황인범 부상 복귀\n",
      "Source: https://www.newsis.com/view/NISX20250130_0003047794\n",
      "Score:  0.1417236223378111\n"
     ]
    }
   ],
   "source": [
    "summarize_results(results)"
   ]
  },
  {
   "cell_type": "markdown",
   "id": "653b4793-97ef-49a9-96e7-49069edac4c3",
   "metadata": {},
   "source": [
    "## Retriever"
   ]
  },
  {
   "cell_type": "markdown",
   "id": "a8dc94cf-1e50-4bdf-b0f3-194139241dad",
   "metadata": {},
   "source": [
    "### Basic"
   ]
  },
  {
   "cell_type": "code",
   "execution_count": 24,
   "id": "2d16366c-7c86-44c9-8b40-d52a4e796d54",
   "metadata": {},
   "outputs": [],
   "source": [
    "retriever = db.as_retriever(\n",
    "    search_type=\"similarity\",\n",
    ")"
   ]
  },
  {
   "cell_type": "code",
   "execution_count": 25,
   "id": "25ac49f0-f663-4257-853a-7f9e53aa5a40",
   "metadata": {},
   "outputs": [],
   "source": [
    "results = retriever.invoke(query)"
   ]
  },
  {
   "cell_type": "code",
   "execution_count": 26,
   "id": "e0ba4cf6-55dc-42ee-b0fa-9c12ac80daab",
   "metadata": {},
   "outputs": [
    {
     "name": "stdout",
     "output_type": "stream",
     "text": [
      "================================================================================\n",
      "Title:  바르셀로나, 벤피카에 5-4 대역전승…UCL 16강 진출\n",
      "Source: https://www.newsis.com/view/NISX20250122_0003041476\n",
      "================================================================================\n",
      "Title:  음바페, 스페인 무대 첫 해트트릭…레알 마드리드 완승 이끌어\n",
      "Source: https://www.newsis.com/view/NISX20250126_0003046718\n",
      "================================================================================\n",
      "Title:  레알서 첫 해트트릭 기록한 음바페, 라리가 이달의 선수\n",
      "Source: https://www.newsis.com/view/NISX20250201_0003049492\n",
      "================================================================================\n",
      "Title:  즈베즈다 설영우, UCL서 시즌 5호 도움…황인범 부상 복귀\n",
      "Source: https://www.newsis.com/view/NISX20250130_0003047794\n"
     ]
    }
   ],
   "source": [
    "summarize_results(results)"
   ]
  },
  {
   "cell_type": "markdown",
   "id": "50b774d4-4c77-46e5-9bbe-2352e94f0ce7",
   "metadata": {},
   "source": [
    "### Most Relevant"
   ]
  },
  {
   "cell_type": "code",
   "execution_count": 27,
   "id": "6371623a-befd-4ecd-8960-aec89d17ce7e",
   "metadata": {},
   "outputs": [],
   "source": [
    "retriever = db.as_retriever(\n",
    "    search_type=\"similarity_score_threshold\",\n",
    "    search_kwargs={\"score_threshold\": 0.3, \"k\": 1}\n",
    ")"
   ]
  },
  {
   "cell_type": "code",
   "execution_count": 28,
   "id": "bf28817c-ff22-4c81-8965-2c183995a8c3",
   "metadata": {},
   "outputs": [],
   "source": [
    "results = retriever.invoke(query)"
   ]
  },
  {
   "cell_type": "code",
   "execution_count": 29,
   "id": "8377becb-e656-4de7-a725-f57707ed70e4",
   "metadata": {},
   "outputs": [
    {
     "name": "stdout",
     "output_type": "stream",
     "text": [
      "================================================================================\n",
      "Title:  바르셀로나, 벤피카에 5-4 대역전승…UCL 16강 진출\n",
      "Source: https://www.newsis.com/view/NISX20250122_0003041476\n"
     ]
    }
   ],
   "source": [
    "summarize_results(results)"
   ]
  }
 ],
 "metadata": {
  "kernelspec": {
   "display_name": "Python 3 (ipykernel)",
   "language": "python",
   "name": "python3"
  },
  "language_info": {
   "codemirror_mode": {
    "name": "ipython",
    "version": 3
   },
   "file_extension": ".py",
   "mimetype": "text/x-python",
   "name": "python",
   "nbconvert_exporter": "python",
   "pygments_lexer": "ipython3",
   "version": "3.12.8"
  }
 },
 "nbformat": 4,
 "nbformat_minor": 5
}
