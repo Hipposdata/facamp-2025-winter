{
 "cells": [
  {
   "cell_type": "markdown",
   "id": "be946d83-bf59-4e0d-8670-63cdc43d3738",
   "metadata": {},
   "source": [
    "*Copyright 2025 Jaeyoung Chun / Winning Twelve*\n",
    "\n",
    "You may not make copies of this and use or distribute it for any purpose."
   ]
  },
  {
   "cell_type": "markdown",
   "id": "b860cfb9-93b3-40a3-9fa8-8cedb96cc134",
   "metadata": {},
   "source": [
    "# Retrieval-Augmented Generation"
   ]
  },
  {
   "cell_type": "markdown",
   "id": "0b771ff8-d1c2-4582-b038-4fc7a89f516f",
   "metadata": {},
   "source": [
    "## Setup Vector Store"
   ]
  },
  {
   "cell_type": "code",
   "execution_count": 1,
   "id": "7522cb3d-2ed5-41ab-a115-6f7b27147cc8",
   "metadata": {},
   "outputs": [],
   "source": [
    "from langchain_chroma import Chroma"
   ]
  },
  {
   "cell_type": "code",
   "execution_count": 2,
   "id": "c0f7e0da-38f7-44ad-aaed-96184c6d7d5c",
   "metadata": {},
   "outputs": [],
   "source": [
    "from langchain_openai import OpenAIEmbeddings"
   ]
  },
  {
   "cell_type": "code",
   "execution_count": 3,
   "id": "44c80022-8165-4572-9c97-dcc29b414fa7",
   "metadata": {},
   "outputs": [],
   "source": [
    "embedding_model = OpenAIEmbeddings(model=\"text-embedding-3-large\")"
   ]
  },
  {
   "cell_type": "code",
   "execution_count": 4,
   "id": "947d67e9-2a74-4df1-a11c-a4f6fccbe19a",
   "metadata": {},
   "outputs": [],
   "source": [
    "db = Chroma(\n",
    "    persist_directory=\"./chroma_db\",\n",
    "    embedding_function=embedding_model\n",
    ")"
   ]
  },
  {
   "cell_type": "markdown",
   "id": "e75df0f7-813a-4be1-820e-7593d1143cd3",
   "metadata": {},
   "source": [
    "## Retrieve"
   ]
  },
  {
   "cell_type": "code",
   "execution_count": 5,
   "id": "701859de-c5cc-48b2-9a88-de0babd5769a",
   "metadata": {},
   "outputs": [],
   "source": [
    "retriever = db.as_retriever(\n",
    "    search_type=\"similarity_score_threshold\",\n",
    "    search_kwargs={\"score_threshold\": 0.3, \"k\": 1}\n",
    ")"
   ]
  },
  {
   "cell_type": "code",
   "execution_count": 6,
   "id": "bc254915-f12f-4817-959b-459bbef4138c",
   "metadata": {},
   "outputs": [],
   "source": [
    "question = \"2025년 1월에 있었던 챔피언스리그 벤피카 vs. 바르셀로나 경기에 대해 요약해줘.\""
   ]
  },
  {
   "cell_type": "code",
   "execution_count": 7,
   "id": "f85ac340-de41-486d-ba66-6de20e1c0455",
   "metadata": {},
   "outputs": [],
   "source": [
    "results = retriever.invoke(question)"
   ]
  },
  {
   "cell_type": "code",
   "execution_count": 8,
   "id": "a6dea836-ec38-412c-9bd7-f3030261473d",
   "metadata": {},
   "outputs": [
    {
     "data": {
      "text/plain": [
       "1"
      ]
     },
     "execution_count": 8,
     "metadata": {},
     "output_type": "execute_result"
    }
   ],
   "source": [
    "len(results)"
   ]
  },
  {
   "cell_type": "code",
   "execution_count": 9,
   "id": "c7c07dc4-b241-4ca8-ab4c-397788c41525",
   "metadata": {},
   "outputs": [
    {
     "data": {
      "text/plain": [
       "[Document(id='57c397a5-7970-4fec-baf6-af9273246087', metadata={'seq_num': 48, 'source': 'https://www.newsis.com/view/NISX20250122_0003041476', 'title': '바르셀로나, 벤피카에 5-4 대역전승…UCL 16강 진출'}, page_content='바르셀로나, 벤피카에 5-4 대역전승…UCL 16강 진출바르셀로나, 벤피카에 5-4 대역전승…UCL 16강 진출등록 2025.01.22 10:33:04[리스본=AP/뉴시스] 스페인 프로축구 프리메라리가 바르셀로나의 하피냐. 2025. 1. 21.[서울=뉴시스] 하근수 기자 = 스페인 프로축구 프리메라리가 바르셀로나가 벤피카(포르투갈)와 도합 9골이 터진 난타전 끝에극적인 역전승을 거두면서 유럽축구연맹(UEFA) 챔피언스리그(UCL) 16강에 진출했다.바르셀로나는 22일(한국 시간) 포르투갈 리스본의 이스타디우 다 루스에서 열린 벤피카와의 대회 리그 페이즈 7차전 원정 경기에서 5-4로 이겼다.이날 승리로 바르셀로나는 승점 18(6승 1패)로 2위를 달렸고, 오는 31일 8차전 유벤투스(이탈리아)와의 맞대결 결과와 관계없이 16강행을 확정했다.UCL 리그 페이즈는 36개 팀 중 1~8위가 16강 직행, 9~24위가 16강 플레이오프를 치른다.바르셀로나는 리그 페이즈에서 단 1패밖에 내주지 않으며 순조롭게 16강 진출을 확정했다.안방에서 패배한 벤피카는 승점 10(3승 1무 3패)으로 18위에 머물렀다.벤피카는 전반전에 3-1, 후반전에 4-2로 앞서갔으나 끝내 역전을 허용하며 무릎을 꿇었다.[리스본=AP/뉴시스] 스페인 프로축구 프리메라리가 바르셀로나의 하피냐(가운데)가 득점 이후 동료들과 세리머니를 펼치고있다. 2025. 1. 21.벤피카가 킥오프 이후 곧장 균형을 깼다.전반 2분 반젤리스 파블리디스가 알바로 페르난데스가 건넨 크로스를 슈팅해 골망을 갈랐다.바르셀로나는 전반 13분 로베르트 레반도프스키의 페널티킥 득점에 힘입어 반격했다.하지만 벤피카 공격수 파블리디스가 전반 22분 추가골을 넣고, 전반 30분 해트트릭을 완성하면서 바르셀로나에 찬물을 끼얹었다.후반전도 비슷한 양상이었다. 바르셀로나는 후반 19분 하피냐 골로 고삐를 당겼지만, 벤피카는 후반 23분 상대 수비수의 자책골로 달아났다.바르셀로나는 포기하지 않았다. 후반 33분 레반도프스키의 페널티킥 멀티골로 3-4, 후반 41분 에릭 가르시아의 득점으로 4-4까지 쫓아갔다.마지막 해결사는 하피냐였다.후반 51분 전방으로 향한 롱볼이 침투하는 하피냐에게 전달됐다. 하피냐는 수비를 제친 뒤 슈팅했고 구석을 꿰뚫어 역전골을터뜨렸다.결국 경기는 바르셀로나의 짜릿한 5-4 승리로 막을 내렸다.[리버풀=AP/뉴시스] 잉글랜드 프로축구 프리미어리그(EPL) 리버풀의 모하메드 살라(오른쪽). 2025. 1. 21.같은 날 리버풀(잉글랜드)은 릴(프랑스)을 2-1로 격파했다.UCL 리그 페이즈 중 유일하게 전승을 달린 선두 리버풀(승점 21·7승)은 바르셀로나와 함께 16강 진출에 성공했다.전반 34분 모하메드 살라의 선제골 이후 한 차례 실점을 내줬지만, 후반 22분 하비 엘리엇의 결승골이 승리로 이어졌다.반면 릴(승점 13·4승 1무 2패)은 순위 도약에 실패하고 11위에 머물렀다.릴은 최근 공식전 21경기 무패를 달리며 상승세를 탔지만, 원정팀의 무덤이라 불리는 안필드에서 패배하며 아쉬움을 삼켰다.')]"
      ]
     },
     "execution_count": 9,
     "metadata": {},
     "output_type": "execute_result"
    }
   ],
   "source": [
    "results"
   ]
  },
  {
   "cell_type": "code",
   "execution_count": 10,
   "id": "72fdd9d7-4836-4d86-970b-d6dfd1330457",
   "metadata": {},
   "outputs": [],
   "source": [
    "context = results[0].page_content + \"\\n원문기사: \" + results[0].metadata[\"source\"]"
   ]
  },
  {
   "cell_type": "code",
   "execution_count": 11,
   "id": "a7a3131e-2c63-4c6e-bf7a-fae59adde630",
   "metadata": {},
   "outputs": [
    {
     "name": "stdout",
     "output_type": "stream",
     "text": [
      "바르셀로나, 벤피카에 5-4 대역전승…UCL 16강 진출바르셀로나, 벤피카에 5-4 대역전승…UCL 16강 진출등록 2025.01.22 10:33:04[리스본=AP/뉴시스] 스페인 프로축구 프리메라리가 바르셀로나의 하피냐. 2025. 1. 21.[서울=뉴시스] 하근수 기자 = 스페인 프로축구 프리메라리가 바르셀로나가 벤피카(포르투갈)와 도합 9골이 터진 난타전 끝에극적인 역전승을 거두면서 유럽축구연맹(UEFA) 챔피언스리그(UCL) 16강에 진출했다.바르셀로나는 22일(한국 시간) 포르투갈 리스본의 이스타디우 다 루스에서 열린 벤피카와의 대회 리그 페이즈 7차전 원정 경기에서 5-4로 이겼다.이날 승리로 바르셀로나는 승점 18(6승 1패)로 2위를 달렸고, 오는 31일 8차전 유벤투스(이탈리아)와의 맞대결 결과와 관계없이 16강행을 확정했다.UCL 리그 페이즈는 36개 팀 중 1~8위가 16강 직행, 9~24위가 16강 플레이오프를 치른다.바르셀로나는 리그 페이즈에서 단 1패밖에 내주지 않으며 순조롭게 16강 진출을 확정했다.안방에서 패배한 벤피카는 승점 10(3승 1무 3패)으로 18위에 머물렀다.벤피카는 전반전에 3-1, 후반전에 4-2로 앞서갔으나 끝내 역전을 허용하며 무릎을 꿇었다.[리스본=AP/뉴시스] 스페인 프로축구 프리메라리가 바르셀로나의 하피냐(가운데)가 득점 이후 동료들과 세리머니를 펼치고있다. 2025. 1. 21.벤피카가 킥오프 이후 곧장 균형을 깼다.전반 2분 반젤리스 파블리디스가 알바로 페르난데스가 건넨 크로스를 슈팅해 골망을 갈랐다.바르셀로나는 전반 13분 로베르트 레반도프스키의 페널티킥 득점에 힘입어 반격했다.하지만 벤피카 공격수 파블리디스가 전반 22분 추가골을 넣고, 전반 30분 해트트릭을 완성하면서 바르셀로나에 찬물을 끼얹었다.후반전도 비슷한 양상이었다. 바르셀로나는 후반 19분 하피냐 골로 고삐를 당겼지만, 벤피카는 후반 23분 상대 수비수의 자책골로 달아났다.바르셀로나는 포기하지 않았다. 후반 33분 레반도프스키의 페널티킥 멀티골로 3-4, 후반 41분 에릭 가르시아의 득점으로 4-4까지 쫓아갔다.마지막 해결사는 하피냐였다.후반 51분 전방으로 향한 롱볼이 침투하는 하피냐에게 전달됐다. 하피냐는 수비를 제친 뒤 슈팅했고 구석을 꿰뚫어 역전골을터뜨렸다.결국 경기는 바르셀로나의 짜릿한 5-4 승리로 막을 내렸다.[리버풀=AP/뉴시스] 잉글랜드 프로축구 프리미어리그(EPL) 리버풀의 모하메드 살라(오른쪽). 2025. 1. 21.같은 날 리버풀(잉글랜드)은 릴(프랑스)을 2-1로 격파했다.UCL 리그 페이즈 중 유일하게 전승을 달린 선두 리버풀(승점 21·7승)은 바르셀로나와 함께 16강 진출에 성공했다.전반 34분 모하메드 살라의 선제골 이후 한 차례 실점을 내줬지만, 후반 22분 하비 엘리엇의 결승골이 승리로 이어졌다.반면 릴(승점 13·4승 1무 2패)은 순위 도약에 실패하고 11위에 머물렀다.릴은 최근 공식전 21경기 무패를 달리며 상승세를 탔지만, 원정팀의 무덤이라 불리는 안필드에서 패배하며 아쉬움을 삼켰다.\n",
      "원문기사: https://www.newsis.com/view/NISX20250122_0003041476\n"
     ]
    }
   ],
   "source": [
    "print(context)"
   ]
  },
  {
   "cell_type": "markdown",
   "id": "b9aae225-c6f4-4025-bfb1-01db6b1f86ff",
   "metadata": {},
   "source": [
    "## Augment"
   ]
  },
  {
   "cell_type": "code",
   "execution_count": 12,
   "id": "5ecc409c-4c23-492c-a508-303293c31269",
   "metadata": {},
   "outputs": [],
   "source": [
    "from langchain.prompts import ChatPromptTemplate\n",
    "from langchain.prompts import HumanMessagePromptTemplate\n",
    "from langchain_core.messages import SystemMessage"
   ]
  },
  {
   "cell_type": "code",
   "execution_count": 13,
   "id": "ae49cd7e-3ac9-4fa1-a1ad-3db624113062",
   "metadata": {},
   "outputs": [],
   "source": [
    "chat_template = ChatPromptTemplate.from_messages(\n",
    "    [\n",
    "        SystemMessage(\n",
    "            content=\"당신은 축구 전문가입니다.\"\n",
    "        ),\n",
    "        HumanMessagePromptTemplate.from_template(\n",
    "            \"\"\"\n",
    "            {question}\n",
    "            아래의 문맥에 기반하여 답해주세요. 원문기사 링크를 반드시 포함하세요.\n",
    "            newsis.com은 뉴시스입니다.\n",
    "            {context}\n",
    "            \"\"\"\n",
    "        )\n",
    "    ]\n",
    ")"
   ]
  },
  {
   "cell_type": "code",
   "execution_count": 14,
   "id": "26f70159-a72e-4020-97a4-62dcf20598c6",
   "metadata": {},
   "outputs": [],
   "source": [
    "message = chat_template.format_messages(\n",
    "    question=question,\n",
    "    context=context\n",
    ")"
   ]
  },
  {
   "cell_type": "markdown",
   "id": "7d4e47bd-f8bc-4726-8547-b742a410288b",
   "metadata": {},
   "source": [
    "## Generate"
   ]
  },
  {
   "cell_type": "code",
   "execution_count": 15,
   "id": "a82ed351-752c-49f0-b1af-f1e512ac6690",
   "metadata": {},
   "outputs": [],
   "source": [
    "from langchain_openai import ChatOpenAI"
   ]
  },
  {
   "cell_type": "code",
   "execution_count": 16,
   "id": "4b75d21a-f019-4e69-8cda-c47f650f463c",
   "metadata": {},
   "outputs": [],
   "source": [
    "model = ChatOpenAI(\n",
    "    model_name=\"gpt-4o-mini\",\n",
    "    temperature=0\n",
    ")"
   ]
  },
  {
   "cell_type": "code",
   "execution_count": 17,
   "id": "066b3f90-0f05-4cc5-99cd-c0e049bbcdd2",
   "metadata": {},
   "outputs": [
    {
     "name": "stdout",
     "output_type": "stream",
     "text": [
      "2025년 1월 22일, 바르셀로나는 포르투갈 리스본의 이스타디우 다 루스에서 열린 UEFA 챔피언스리그 벤피카와의 경기에서 5-4로 극적인 역전승을 거두며 16강 진출을 확정지었습니다. \n",
      "\n",
      "경기는 초반부터 치열하게 진행되었고, 벤피카의 반젤리스 파블리디스가 전반 2분에 첫 골을 넣으며 앞서갔습니다. 바르셀로나는 로베르트 레반도프스키의 페널티킥으로 동점을 만들었지만, 파블리디스가 전반 22분과 30분에 추가골을 넣어 벤피카가 3-1로 리드했습니다. 후반전에서도 벤피카가 자책골로 다시 점수를 벌렸으나, 바르셀로나는 레반도프스키의 두 번째 페널티킥과 에릭 가르시아의 골로 4-4 동점을 만들었습니다. 마지막으로 하피냐가 후반 51분에 결승골을 넣으며 경기를 5-4로 마무리했습니다.\n",
      "\n",
      "이 승리로 바르셀로나는 6승 1패로 승점 18을 기록하며 16강 진출을 확정했습니다. 반면 벤피카는 3승 1무 3패로 승점 10에 머물렀습니다.\n",
      "\n",
      "자세한 내용은 원문기사에서 확인하실 수 있습니다: [뉴시스 기사](https://www.newsis.com/view/NISX20250122_0003041476)"
     ]
    }
   ],
   "source": [
    "for chunk in model.stream(message):\n",
    "    print(chunk.content, end=\"\", flush=True)"
   ]
  }
 ],
 "metadata": {
  "kernelspec": {
   "display_name": "Python 3 (ipykernel)",
   "language": "python",
   "name": "python3"
  },
  "language_info": {
   "codemirror_mode": {
    "name": "ipython",
    "version": 3
   },
   "file_extension": ".py",
   "mimetype": "text/x-python",
   "name": "python",
   "nbconvert_exporter": "python",
   "pygments_lexer": "ipython3",
   "version": "3.12.8"
  }
 },
 "nbformat": 4,
 "nbformat_minor": 5
}
