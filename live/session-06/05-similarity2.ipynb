{
 "cells": [
  {
   "cell_type": "markdown",
   "id": "a37549ec-3f72-447f-b1c8-da7b7515cfb6",
   "metadata": {},
   "source": [
    "*Copyright 2025 Jaeyoung Chun / Winning Twelve*\n",
    "\n",
    "You may not make copies of this and use or distribute it for any purpose."
   ]
  },
  {
   "cell_type": "markdown",
   "id": "b860cfb9-93b3-40a3-9fa8-8cedb96cc134",
   "metadata": {},
   "source": [
    "# Similarity"
   ]
  },
  {
   "cell_type": "code",
   "execution_count": 1,
   "id": "81354fcd-9ec0-4e07-b598-ee7314d59ded",
   "metadata": {},
   "outputs": [],
   "source": [
    "doc = \"\"\"\n",
    "스페인 프로축구 프리메라리가 바르셀로나가 벤피카(포르투갈)와 도합 9골이 터진 난타전 끝에 극적인 역전승을 거두면서 유럽축구연맹(UEFA) 챔피언스리그(UCL) 16강에 진출했다.\n",
    "\n",
    "바르셀로나는 22일(한국 시간) 포르투갈 리스본의 이스타디우 다 루스에서 열린 벤피카와의 대회 리그 페이즈 7차전 원정 경기에서 5-4로 이겼다.\n",
    "\n",
    "이날 승리로 바르셀로나는 승점 18(6승 1패)로 2위를 달렸고, 오는 31일 8차전 유벤투스(이탈리아)와의 맞대결 결과와 관계없이 16강행을 확정했다.\n",
    "\n",
    "UCL 리그 페이즈는 36개 팀 중 1~8위가 16강 직행, 9~24위가 16강 플레이오프를 치른다.\n",
    "\n",
    "바르셀로나는 리그 페이즈에서 단 1패밖에 내주지 않으며 순조롭게 16강 진출을 확정했다.\n",
    "\n",
    "안방에서 패배한 벤피카는 승점 10(3승 1무 3패)으로 18위에 머물렀다.\n",
    "\n",
    "벤피카는 전반전에 3-1, 후반전에 4-2로 앞서갔으나 끝내 역전을 허용하며 무릎을 꿇었다.\n",
    "\n",
    "벤피카가 킥오프 이후 곧장 균형을 깼다.\n",
    "\n",
    "전반 2분 반젤리스 파블리디스가 알바로 페르난데스가 건넨 크로스를 슈팅해 골망을 갈랐다.\n",
    "\n",
    "바르셀로나는 전반 13분 로베르트 레반도프스키의 페널티킥 득점에 힘입어 반격했다.\n",
    "\n",
    "하지만 벤피카 공격수 파블리디스가 전반 22분 추가골을 넣고, 전반 30분 해트트릭을 완성하면서 바르셀로나에 찬물을 끼얹었다.\n",
    "\n",
    "후반전도 비슷한 양상이었다. 바르셀로나는 후반 19분 하피냐 골로 고삐를 당겼지만, 벤피카는 후반 23분 상대 수비수의 자책골로 달아났다.\n",
    "\n",
    "바르셀로나는 포기하지 않았다. 후반 33분 레반도프스키의 페널티킥 멀티골로 3-4, 후반 41분 에릭 가르시아의 득점으로 4-4까지 쫓아갔다.\n",
    "\n",
    "마지막 해결사는 하피냐였다.\n",
    "\n",
    "후반 51분 전방으로 향한 롱볼이 침투하는 하피냐에게 전달됐다. 하피냐는 수비를 제친 뒤 슈팅했고 구석을 꿰뚫어 역전골을 터뜨렸다.\n",
    "\n",
    "결국 경기는 바르셀로나의 짜릿한 5-4 승리로 막을 내렸다.\n",
    "\"\"\""
   ]
  },
  {
   "cell_type": "code",
   "execution_count": 2,
   "id": "d7d13b37-3091-4a99-9f04-3694f6952d0c",
   "metadata": {},
   "outputs": [],
   "source": [
    "questions = [\n",
    "    \"손흥민 선수에 대해 알려줘.\",\n",
    "    \"2025년 1월에 있었던 챔피언스리그 벤피카 vs. 바르셀로나 경기에 대해 요약해줘.\",\n",
    "    \"인공지능에 대해 알려줘.\"\n",
    "]"
   ]
  },
  {
   "cell_type": "markdown",
   "id": "c08bb132-6912-4b42-adf1-58db6551bc13",
   "metadata": {},
   "source": [
    "## Helper Functions"
   ]
  },
  {
   "cell_type": "code",
   "execution_count": 3,
   "id": "40eb4b4c-6815-48d1-aaa2-18d7ab936125",
   "metadata": {},
   "outputs": [],
   "source": [
    "from sklearn.metrics.pairwise import cosine_similarity\n",
    "\n",
    "def get_similarity(a, b):\n",
    "    return cosine_similarity([a], [b])[0][0]"
   ]
  },
  {
   "cell_type": "markdown",
   "id": "00733d34-afa5-4f60-95f7-e05446d0526c",
   "metadata": {},
   "source": [
    "## Check Similarity"
   ]
  },
  {
   "cell_type": "code",
   "execution_count": 4,
   "id": "a307b8c8-9c23-477e-9938-eebcfedc8f0b",
   "metadata": {},
   "outputs": [],
   "source": [
    "from langchain_openai import OpenAIEmbeddings"
   ]
  },
  {
   "cell_type": "code",
   "execution_count": 5,
   "id": "a60d6ffd-7dd6-495b-87cc-883e0beec114",
   "metadata": {},
   "outputs": [],
   "source": [
    "embedding_model = OpenAIEmbeddings(model=\"text-embedding-3-large\")"
   ]
  },
  {
   "cell_type": "code",
   "execution_count": 6,
   "id": "63ffedc8-6da8-40ab-aa10-0036d6a311bd",
   "metadata": {},
   "outputs": [],
   "source": [
    "embedding_doc = embedding_model.embed_query(doc)"
   ]
  },
  {
   "cell_type": "code",
   "execution_count": 7,
   "id": "0f848474-3005-4242-b77a-2e91f6e2c319",
   "metadata": {},
   "outputs": [],
   "source": [
    "embedding_questions = embedding_model.embed_documents(questions)"
   ]
  },
  {
   "cell_type": "code",
   "execution_count": 8,
   "id": "443ac282-d6c1-46f9-b68b-ca50c310fb2a",
   "metadata": {},
   "outputs": [
    {
     "name": "stdout",
     "output_type": "stream",
     "text": [
      "손흥민 선수에 대해 알려줘. 0.12987101881754715\n",
      "2025년 1월에 있었던 챔피언스리그 벤피카 vs. 바르셀로나 경기에 대해 요약해줘. 0.5921961154587072\n",
      "인공지능에 대해 알려줘. 0.060766786570332486\n"
     ]
    }
   ],
   "source": [
    "for idx, embedding_question in enumerate(embedding_questions):\n",
    "    score = get_similarity(embedding_question, embedding_doc)\n",
    "    print(questions[idx], score)"
   ]
  }
 ],
 "metadata": {
  "kernelspec": {
   "display_name": "Python 3 (ipykernel)",
   "language": "python",
   "name": "python3"
  },
  "language_info": {
   "codemirror_mode": {
    "name": "ipython",
    "version": 3
   },
   "file_extension": ".py",
   "mimetype": "text/x-python",
   "name": "python",
   "nbconvert_exporter": "python",
   "pygments_lexer": "ipython3",
   "version": "3.12.8"
  }
 },
 "nbformat": 4,
 "nbformat_minor": 5
}
