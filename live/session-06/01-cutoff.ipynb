{
 "cells": [
  {
   "cell_type": "markdown",
   "id": "e87b9ad7-c55f-45b0-90e3-eaeb4df32750",
   "metadata": {},
   "source": [
    "*Copyright 2025 Jaeyoung Chun / Winning Twelve*\n",
    "\n",
    "You may not make copies of this and use or distribute it for any purpose."
   ]
  },
  {
   "cell_type": "markdown",
   "id": "979d5da8-cfa9-4174-a550-80c93dfc8e6c",
   "metadata": {},
   "source": [
    "# Knowledge Cutoff"
   ]
  },
  {
   "cell_type": "code",
   "execution_count": 1,
   "id": "0cef1180-8aee-4623-a0ac-9edbc049492c",
   "metadata": {},
   "outputs": [],
   "source": [
    "from langchain_openai import ChatOpenAI"
   ]
  },
  {
   "cell_type": "code",
   "execution_count": 2,
   "id": "974bb967-ff5a-423f-b6ba-9f37c424c6ce",
   "metadata": {},
   "outputs": [],
   "source": [
    "# helper function for displaying markdown\n",
    "from IPython.display import Markdown, display\n",
    "def printmd(string):\n",
    "    display(Markdown(string))"
   ]
  },
  {
   "cell_type": "code",
   "execution_count": 3,
   "id": "604cbd6b-b209-4394-9c1d-e9499503ddf1",
   "metadata": {},
   "outputs": [],
   "source": [
    "model = ChatOpenAI(\n",
    "    model_name=\"gpt-4o-mini\",\n",
    "    temperature=0\n",
    ")"
   ]
  },
  {
   "cell_type": "markdown",
   "id": "3dd0169b-e27b-4979-af8e-41eaae857494",
   "metadata": {},
   "source": [
    "## First Attempt"
   ]
  },
  {
   "cell_type": "code",
   "execution_count": 4,
   "id": "f80be63e-f789-4484-b666-4b73d86b7f86",
   "metadata": {},
   "outputs": [],
   "source": [
    "question = \"2025년 1월에 있었던 챔피언스리그 벤피카 vs. 바르셀로나 경기에 대해 요약해줘.\""
   ]
  },
  {
   "cell_type": "code",
   "execution_count": 5,
   "id": "0fb4ffc1-299d-42e0-80e7-b78f352b56d8",
   "metadata": {},
   "outputs": [],
   "source": [
    "out = model.invoke(question)"
   ]
  },
  {
   "cell_type": "code",
   "execution_count": 6,
   "id": "7c7e55bd-ec50-450f-8076-c68c834aea65",
   "metadata": {},
   "outputs": [
    {
     "data": {
      "text/markdown": [
       "죄송하지만, 2025년 1월의 챔피언스리그 벤피카 vs. 바르셀로나 경기에 대한 정보는 제공할 수 없습니다. 제 데이터는 2023년 10월까지의 정보만 포함하고 있으며, 그 이후의 사건이나 경기 결과에 대한 정보는 알지 못합니다. 해당 경기에 대한 최신 정보를 확인하시려면 스포츠 뉴스 웹사이트나 공식 UEFA 챔피언스리그 웹사이트를 참고하시기 바랍니다."
      ],
      "text/plain": [
       "<IPython.core.display.Markdown object>"
      ]
     },
     "metadata": {},
     "output_type": "display_data"
    }
   ],
   "source": [
    "printmd(out.content)"
   ]
  },
  {
   "cell_type": "markdown",
   "id": "b9fd99d3-ae17-450e-9909-395f6a497aa6",
   "metadata": {},
   "source": [
    "## Second Attempt"
   ]
  },
  {
   "cell_type": "code",
   "execution_count": 7,
   "id": "b5bef811-d863-462a-b172-6de1ace243d8",
   "metadata": {},
   "outputs": [],
   "source": [
    "question = \"2025년 1월에 있었던 챔피언스리그 벤피카 vs. 바르셀로나 경기에 대해 요약해줘. Google Search 또는 Bing Search 해볼래?\""
   ]
  },
  {
   "cell_type": "code",
   "execution_count": 8,
   "id": "5557d6a0-0ce4-4d14-8789-67daa88e8de8",
   "metadata": {},
   "outputs": [],
   "source": [
    "out = model.invoke(question)"
   ]
  },
  {
   "cell_type": "code",
   "execution_count": 9,
   "id": "f3d35241-6d74-42e3-81e1-e8540cb05104",
   "metadata": {},
   "outputs": [
    {
     "data": {
      "text/markdown": [
       "죄송하지만, 실시간 검색 기능이 없어서 2025년 1월의 챔피언스리그 벤피카 vs. 바르셀로나 경기에 대한 정보를 제공할 수 없습니다. 하지만 해당 경기에 대한 정보를 원하신다면, 스포츠 뉴스 웹사이트나 공식 UEFA 챔피언스리그 웹사이트를 확인해 보시는 것을 추천드립니다. 다른 질문이나 도움이 필요하시면 말씀해 주세요!"
      ],
      "text/plain": [
       "<IPython.core.display.Markdown object>"
      ]
     },
     "metadata": {},
     "output_type": "display_data"
    }
   ],
   "source": [
    "printmd(out.content)"
   ]
  }
 ],
 "metadata": {
  "kernelspec": {
   "display_name": "Python 3 (ipykernel)",
   "language": "python",
   "name": "python3"
  },
  "language_info": {
   "codemirror_mode": {
    "name": "ipython",
    "version": 3
   },
   "file_extension": ".py",
   "mimetype": "text/x-python",
   "name": "python",
   "nbconvert_exporter": "python",
   "pygments_lexer": "ipython3",
   "version": "3.12.8"
  }
 },
 "nbformat": 4,
 "nbformat_minor": 5
}
