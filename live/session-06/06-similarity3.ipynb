{
 "cells": [
  {
   "cell_type": "markdown",
   "id": "797f6e93-00ee-4151-8daa-af3bd5f14717",
   "metadata": {},
   "source": [
    "**Large Language Models**\n",
    "\n",
    "_Copyright Notice_\n",
    "\n",
    "This notebook is available for educational purposes. You may not use or distribute this notebook for commercial purposes. You may make copies of this notebook and use or distribute it for educational purposes as long as you cite the author as the source of the notebook.\n",
    "\n",
    "Jaeyoung Chun | School of Applied Artificial Intelligence | Handong Global University"
   ]
  },
  {
   "cell_type": "markdown",
   "id": "b860cfb9-93b3-40a3-9fa8-8cedb96cc134",
   "metadata": {},
   "source": [
    "# Similarity"
   ]
  },
  {
   "cell_type": "code",
   "execution_count": 1,
   "id": "c47d2b73-ffdd-4a8c-b4b0-e51a924af941",
   "metadata": {},
   "outputs": [],
   "source": [
    "titles = [\n",
    "    \"벤피카 vs. 바르셀로나 / 뉴시스\",\n",
    "    \"손흥민 / 위키피디아\",\n",
    "    \"인공지능 / 나무위키\"\n",
    "]"
   ]
  },
  {
   "cell_type": "code",
   "execution_count": 2,
   "id": "81354fcd-9ec0-4e07-b598-ee7314d59ded",
   "metadata": {},
   "outputs": [],
   "source": [
    "# https://www.newsis.com/view/NISX20250122_0003041476\n",
    "doc1 = \"\"\"\n",
    "스페인 프로축구 프리메라리가 바르셀로나가 벤피카(포르투갈)와 도합 9골이 터진 난타전 끝에 극적인 역전승을 거두면서 유럽축구연맹(UEFA) 챔피언스리그(UCL) 16강에 진출했다.\n",
    "\n",
    "바르셀로나는 22일(한국 시간) 포르투갈 리스본의 이스타디우 다 루스에서 열린 벤피카와의 대회 리그 페이즈 7차전 원정 경기에서 5-4로 이겼다.\n",
    "\n",
    "이날 승리로 바르셀로나는 승점 18(6승 1패)로 2위를 달렸고, 오는 31일 8차전 유벤투스(이탈리아)와의 맞대결 결과와 관계없이 16강행을 확정했다.\n",
    "\n",
    "UCL 리그 페이즈는 36개 팀 중 1~8위가 16강 직행, 9~24위가 16강 플레이오프를 치른다.\n",
    "\n",
    "바르셀로나는 리그 페이즈에서 단 1패밖에 내주지 않으며 순조롭게 16강 진출을 확정했다.\n",
    "\n",
    "안방에서 패배한 벤피카는 승점 10(3승 1무 3패)으로 18위에 머물렀다.\n",
    "\n",
    "벤피카는 전반전에 3-1, 후반전에 4-2로 앞서갔으나 끝내 역전을 허용하며 무릎을 꿇었다.\n",
    "\n",
    "벤피카가 킥오프 이후 곧장 균형을 깼다.\n",
    "\n",
    "전반 2분 반젤리스 파블리디스가 알바로 페르난데스가 건넨 크로스를 슈팅해 골망을 갈랐다.\n",
    "\n",
    "바르셀로나는 전반 13분 로베르트 레반도프스키의 페널티킥 득점에 힘입어 반격했다.\n",
    "\n",
    "하지만 벤피카 공격수 파블리디스가 전반 22분 추가골을 넣고, 전반 30분 해트트릭을 완성하면서 바르셀로나에 찬물을 끼얹었다.\n",
    "\n",
    "후반전도 비슷한 양상이었다. 바르셀로나는 후반 19분 하피냐 골로 고삐를 당겼지만, 벤피카는 후반 23분 상대 수비수의 자책골로 달아났다.\n",
    "\n",
    "바르셀로나는 포기하지 않았다. 후반 33분 레반도프스키의 페널티킥 멀티골로 3-4, 후반 41분 에릭 가르시아의 득점으로 4-4까지 쫓아갔다.\n",
    "\n",
    "마지막 해결사는 하피냐였다.\n",
    "\n",
    "후반 51분 전방으로 향한 롱볼이 침투하는 하피냐에게 전달됐다. 하피냐는 수비를 제친 뒤 슈팅했고 구석을 꿰뚫어 역전골을 터뜨렸다.\n",
    "\n",
    "결국 경기는 바르셀로나의 짜릿한 5-4 승리로 막을 내렸다.\n",
    "\"\"\""
   ]
  },
  {
   "cell_type": "code",
   "execution_count": 3,
   "id": "cb0c57d6-ce7a-4374-aa72-802b8426fe4f",
   "metadata": {},
   "outputs": [],
   "source": [
    "# https://ko.wikipedia.org/wiki/%EC%86%90%ED%9D%A5%EB%AF%BC\n",
    "doc2 = \"\"\"\n",
    "손흥민(孫興慜, 1992년 7월 8일~)은 대한민국의 축구 선수로, 포지션은 공격수이다. 현재 잉글랜드 프리미어리그의 토트넘 홋스퍼와 대한민국 축구 국가대표팀 소속으로 활동하고 있으며 두 팀의 주장을 맡고 있다.[6] 그는 구단에서의 활약을 바탕으로 역대 최고의 아시아 축구 선수 중 한 명으로 간주되고 있다.[7][8][9][10][11]\n",
    "\n",
    "16세에 독일로 건너가 함부르거 SV에 입단했으며 2010년 분데스리가에 데뷔했다. 2013년에 클럽 최고 이적료인 1000만 유로에 바이어 레버쿠젠으로 이적했으며 2년 후 2015년에 아시아 축구 선수 역대 최고 이적료인 3천만 유로의 이적료로 프리미어리그의 토트넘 홋스퍼에 입단했다. 토트넘에서 뛰는 동안 프리미어리그와 챔피언스리그 아시아 최다 득점자가 되었으며 차범근이 기록했던 유럽 프로 축구 대회 한국 선수 최다 득점 기록을 갱신했다. 2019년에는 박지성의 뒤를 이어 UEFA 챔피언스리그 결승에 선발로 출전한 두 번째 아시아 축구 선수가 되었다. 2021-22시즌에는 모하메드 살라와 함께 리그 득점 23골을 기록하며 아시아 선수로는 최초로 프리미어리그 골든 부츠를 수상했다. 2023년 4월에는 프리미어리그에서 통산 100골을 넣은 최초의 아시아 선수가 되었다. 또한 손흥민은 토트넘 홋스퍼 역사상 6번째로 많은 득점을 기록했으며 최다 어시스트 기록을 세웠다.\n",
    "\n",
    "2010년부터 대한민국 국가대표팀 선수로 활동한 손흥민은 2014년, 2018년, 2022년 FIFA 월드컵에 대한민국 국가대표로 참가했으며, 박지성, 안정환과 함께 3골로 동률을 기록한 대한민국팀 월드컵 공동 최다 득점자이다. 또한 AFC 아시안컵에 4회(2011, 2015, 2019, 2023) 참가하여 2015년 대회에서 준우승을 차지했다. 올림픽 대표팀 선수로 2016년 하계 올림픽에 참가했으며 2018년 아시안 게임에서 금메달을 획득했다.\n",
    "\n",
    "손흥민은 축구 선수로서 달성한 업적을 바탕으로 대한민국 축구계의 대표적인 인물로 여겨지고 있다.[12][13] 2019년부터 포브스 코리아 파워 셀러브리티 40인에 계속 선정되었으며 2023년에는 2위에 올랐다. 2022년 6월에는 축구 선수로는 최초로 대한민국 체육인으로 받을 수 있는 최고 권위 훈장인 청룡장을 받았다.\n",
    "\"\"\""
   ]
  },
  {
   "cell_type": "code",
   "execution_count": 4,
   "id": "fd4d6b52-cccb-41c8-aecc-390bf3dac3eb",
   "metadata": {},
   "outputs": [],
   "source": [
    "# https://namu.wiki/w/%EC%9D%B8%EA%B3%B5%EC%A7%80%EB%8A%A5\n",
    "doc3 = \"\"\"\n",
    "인공지능(人工智能, Artificial Intelligence; AI)은 인간의 지능[2]이 가지는 학습, 추리, 적응, 논증 따위의 기능을 갖춘 컴퓨터 시스템을 의미한다.\n",
    "\n",
    "인간의 학습능력, 추론능력, 지각능력을 인공적으로 구현시키는 컴퓨터과학의 하위 분야로, 인간의 지능을 기계 등에 인공적으로 구현한 것이다. 일반적으로 범용 컴퓨터에 적용한다고 가정한다. 혹은 이와 같은 지능을 만들 수 있는 방법론이나 실현 가능성 등을 연구하는 과학 기술 분야를 지칭하는 표현이기도 하다.\n",
    "\n",
    "대한민국의 '인공지능 발전과 신뢰 기반 조성 등에 관한 기본법'은 \"학습, 추론, 지각, 판단, 언어의 이해 등 인간이 가진 지적 능력을 전자적 방법으로 구현한 것\"이라고 정의한다.\n",
    "\"\"\""
   ]
  },
  {
   "cell_type": "code",
   "execution_count": 5,
   "id": "134a88ba-9fb7-49bc-ae19-1ce4300cc0ab",
   "metadata": {},
   "outputs": [],
   "source": [
    "docs = [doc1, doc2, doc3]"
   ]
  },
  {
   "cell_type": "code",
   "execution_count": 6,
   "id": "d7d13b37-3091-4a99-9f04-3694f6952d0c",
   "metadata": {},
   "outputs": [],
   "source": [
    "question = \"2025년 1월에 있었던 챔피언스리그 벤피카 vs. 바르셀로나 경기에 대해 요약해줘.\""
   ]
  },
  {
   "cell_type": "markdown",
   "id": "c08bb132-6912-4b42-adf1-58db6551bc13",
   "metadata": {},
   "source": [
    "## Helper Functions"
   ]
  },
  {
   "cell_type": "code",
   "execution_count": 7,
   "id": "40eb4b4c-6815-48d1-aaa2-18d7ab936125",
   "metadata": {},
   "outputs": [],
   "source": [
    "from sklearn.metrics.pairwise import cosine_similarity\n",
    "\n",
    "def get_similarity(a, b):\n",
    "    return cosine_similarity([a], [b])[0][0]"
   ]
  },
  {
   "cell_type": "markdown",
   "id": "00733d34-afa5-4f60-95f7-e05446d0526c",
   "metadata": {},
   "source": [
    "## Check Similarity"
   ]
  },
  {
   "cell_type": "code",
   "execution_count": 8,
   "id": "04c611c9-af62-4c44-9aa1-3e8043044e82",
   "metadata": {},
   "outputs": [],
   "source": [
    "from langchain_openai import OpenAIEmbeddings"
   ]
  },
  {
   "cell_type": "markdown",
   "id": "bae50ed7-352b-47fa-adcb-6aaadd2766e3",
   "metadata": {},
   "source": [
    "### OpenAI"
   ]
  },
  {
   "cell_type": "markdown",
   "id": "13db84d1-0428-41e8-8c10-0ba4093cd281",
   "metadata": {},
   "source": [
    "#### text-embedding-3-small"
   ]
  },
  {
   "cell_type": "code",
   "execution_count": 9,
   "id": "f9932093-f91f-486b-b42f-55f61c4c48d1",
   "metadata": {},
   "outputs": [],
   "source": [
    "embedding_model = OpenAIEmbeddings(model=\"text-embedding-3-small\")"
   ]
  },
  {
   "cell_type": "code",
   "execution_count": 10,
   "id": "f5e01e47-5389-4f35-b333-f857f93ca3b8",
   "metadata": {},
   "outputs": [],
   "source": [
    "embedding_docs = embedding_model.embed_documents(docs)"
   ]
  },
  {
   "cell_type": "code",
   "execution_count": 11,
   "id": "797c60fb-81ec-4627-bc65-d0bd2bd4809f",
   "metadata": {},
   "outputs": [],
   "source": [
    "embedding_question = embedding_model.embed_query(question)"
   ]
  },
  {
   "cell_type": "code",
   "execution_count": 12,
   "id": "aa8210a9-6503-4403-84c9-13d62f1a239b",
   "metadata": {},
   "outputs": [
    {
     "name": "stdout",
     "output_type": "stream",
     "text": [
      "벤피카 vs. 바르셀로나 / 뉴시스 0.5251381321865265\n",
      "손흥민 / 위키피디아 0.23174482414884623\n",
      "인공지능 / 나무위키 0.0740972261325323\n"
     ]
    }
   ],
   "source": [
    "for idx, embedding_doc in enumerate(embedding_docs):\n",
    "    score = get_similarity(embedding_question, embedding_doc)\n",
    "    print(titles[idx], score)"
   ]
  },
  {
   "cell_type": "markdown",
   "id": "c34da6b1-e280-4e14-a8b4-2c11ed2b01d0",
   "metadata": {},
   "source": [
    "#### text-embedding-3-large"
   ]
  },
  {
   "cell_type": "code",
   "execution_count": 13,
   "id": "4c66c036-c433-4a87-9633-063c3e4e40d7",
   "metadata": {},
   "outputs": [],
   "source": [
    "embedding_model = OpenAIEmbeddings(model=\"text-embedding-3-large\")"
   ]
  },
  {
   "cell_type": "code",
   "execution_count": 14,
   "id": "91dd38f9-ec94-4430-9f6e-fa42ca0c7782",
   "metadata": {},
   "outputs": [],
   "source": [
    "embedding_docs = embedding_model.embed_documents(docs)"
   ]
  },
  {
   "cell_type": "code",
   "execution_count": 15,
   "id": "31d9428f-3544-4e15-ba17-4c4c83afc56c",
   "metadata": {},
   "outputs": [],
   "source": [
    "embedding_question = embedding_model.embed_query(question)"
   ]
  },
  {
   "cell_type": "code",
   "execution_count": 16,
   "id": "cc2c258a-e6f8-4540-a16d-215ca6450046",
   "metadata": {},
   "outputs": [
    {
     "name": "stdout",
     "output_type": "stream",
     "text": [
      "벤피카 vs. 바르셀로나 / 뉴시스 0.590707506896929\n",
      "손흥민 / 위키피디아 0.17136706898315424\n",
      "인공지능 / 나무위키 0.09224329198238956\n"
     ]
    }
   ],
   "source": [
    "for idx, embedding_doc in enumerate(embedding_docs):\n",
    "    score = get_similarity(embedding_question, embedding_doc)\n",
    "    print(titles[idx], score)"
   ]
  },
  {
   "cell_type": "markdown",
   "id": "b9901047-5fbf-4bea-befa-c0175d6847c7",
   "metadata": {},
   "source": [
    "#### text-embedding-ada-002"
   ]
  },
  {
   "cell_type": "code",
   "execution_count": 17,
   "id": "667f4f88-5d1b-4e78-adfa-78a337bc44ca",
   "metadata": {},
   "outputs": [],
   "source": [
    "embedding_model = OpenAIEmbeddings(model=\"text-embedding-ada-002\")"
   ]
  },
  {
   "cell_type": "code",
   "execution_count": 18,
   "id": "440c1781-0620-457e-8340-f3244539a6da",
   "metadata": {},
   "outputs": [],
   "source": [
    "embedding_docs = embedding_model.embed_documents(docs)"
   ]
  },
  {
   "cell_type": "code",
   "execution_count": 19,
   "id": "d726e424-b67f-4bbe-8db5-863ffdbc4a1e",
   "metadata": {},
   "outputs": [],
   "source": [
    "embedding_question = embedding_model.embed_query(question)"
   ]
  },
  {
   "cell_type": "code",
   "execution_count": 20,
   "id": "1b8b807a-a351-4ad9-a097-c4b1eadd2daf",
   "metadata": {},
   "outputs": [
    {
     "name": "stdout",
     "output_type": "stream",
     "text": [
      "벤피카 vs. 바르셀로나 / 뉴시스 0.863924769464681\n",
      "손흥민 / 위키피디아 0.7831302207172618\n",
      "인공지능 / 나무위키 0.730080453273849\n"
     ]
    }
   ],
   "source": [
    "for idx, embedding_doc in enumerate(embedding_docs):\n",
    "    score = get_similarity(embedding_question, embedding_doc)\n",
    "    print(titles[idx], score)"
   ]
  }
 ],
 "metadata": {
  "kernelspec": {
   "display_name": "Python 3 (ipykernel)",
   "language": "python",
   "name": "python3"
  },
  "language_info": {
   "codemirror_mode": {
    "name": "ipython",
    "version": 3
   },
   "file_extension": ".py",
   "mimetype": "text/x-python",
   "name": "python",
   "nbconvert_exporter": "python",
   "pygments_lexer": "ipython3",
   "version": "3.12.8"
  }
 },
 "nbformat": 4,
 "nbformat_minor": 5
}
