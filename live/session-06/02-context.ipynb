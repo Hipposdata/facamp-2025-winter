{
 "cells": [
  {
   "cell_type": "markdown",
   "id": "45858f57-d2bb-4916-8a74-5ff681d5cbca",
   "metadata": {},
   "source": [
    "*Copyright 2025 Jaeyoung Chun / Winning Twelve*\n",
    "\n",
    "You may not make copies of this and use or distribute it for any purpose."
   ]
  },
  {
   "cell_type": "markdown",
   "id": "979d5da8-cfa9-4174-a550-80c93dfc8e6c",
   "metadata": {},
   "source": [
    "# Context"
   ]
  },
  {
   "cell_type": "code",
   "execution_count": 1,
   "id": "0cef1180-8aee-4623-a0ac-9edbc049492c",
   "metadata": {},
   "outputs": [],
   "source": [
    "from langchain_openai import ChatOpenAI"
   ]
  },
  {
   "cell_type": "code",
   "execution_count": 2,
   "id": "974bb967-ff5a-423f-b6ba-9f37c424c6ce",
   "metadata": {},
   "outputs": [],
   "source": [
    "# helper function for displaying markdown\n",
    "from IPython.display import Markdown, display\n",
    "def printmd(string):\n",
    "    display(Markdown(string))"
   ]
  },
  {
   "cell_type": "code",
   "execution_count": 3,
   "id": "604cbd6b-b209-4394-9c1d-e9499503ddf1",
   "metadata": {},
   "outputs": [],
   "source": [
    "model = ChatOpenAI(\n",
    "    model_name=\"gpt-4o-mini\",\n",
    "    temperature=0\n",
    ")"
   ]
  },
  {
   "cell_type": "code",
   "execution_count": 4,
   "id": "f80be63e-f789-4484-b666-4b73d86b7f86",
   "metadata": {},
   "outputs": [],
   "source": [
    "question = \"2025년 1월에 있었던 챔피언스리그 벤피카 vs. 바르셀로나 경기에 요약해줘.\""
   ]
  },
  {
   "cell_type": "markdown",
   "id": "5d8e6831-0aff-479c-a573-7d52455677c4",
   "metadata": {},
   "source": [
    "## Raw Output from GPT"
   ]
  },
  {
   "cell_type": "code",
   "execution_count": 5,
   "id": "696cd8ae-344d-4202-9abd-467d04b55982",
   "metadata": {},
   "outputs": [
    {
     "name": "stdout",
     "output_type": "stream",
     "text": [
      "CPU times: user 24.4 ms, sys: 2.34 ms, total: 26.7 ms\n",
      "Wall time: 1.97 s\n"
     ]
    }
   ],
   "source": [
    "%%time\n",
    "\n",
    "out1 = model.invoke(question)"
   ]
  },
  {
   "cell_type": "code",
   "execution_count": 6,
   "id": "7c7e55bd-ec50-450f-8076-c68c834aea65",
   "metadata": {},
   "outputs": [
    {
     "data": {
      "text/markdown": [
       "죄송하지만, 2025년 1월의 챔피언스리그 경기 결과나 세부 사항에 대한 정보는 제공할 수 없습니다. 제 데이터는 2023년 10월까지의 정보로 제한되어 있습니다. 해당 경기에 대한 최신 정보는 스포츠 뉴스 웹사이트나 공식 UEFA 챔피언스리그 웹사이트를 통해 확인하시기 바랍니다. 다른 질문이나 도움이 필요하시면 말씀해 주세요!"
      ],
      "text/plain": [
       "<IPython.core.display.Markdown object>"
      ]
     },
     "metadata": {},
     "output_type": "display_data"
    }
   ],
   "source": [
    "printmd(out1.content)"
   ]
  },
  {
   "cell_type": "markdown",
   "id": "02018ba4-9bda-47ff-9a63-52f5281a4d01",
   "metadata": {},
   "source": [
    "## With the Right Context"
   ]
  },
  {
   "cell_type": "markdown",
   "id": "09a5b219-1fd9-4077-9ad7-472129a10985",
   "metadata": {},
   "source": [
    "Reference: https://www.newsis.com/view/NISX20250122_0003041476"
   ]
  },
  {
   "cell_type": "code",
   "execution_count": 7,
   "id": "a59a8342-be8a-49ff-8c32-1922b387e55a",
   "metadata": {},
   "outputs": [],
   "source": [
    "context = \"\"\"\n",
    "스페인 프로축구 프리메라리가 바르셀로나가 벤피카(포르투갈)와 도합 9골이 터진 난타전 끝에 극적인 역전승을 거두면서 유럽축구연맹(UEFA) 챔피언스리그(UCL) 16강에 진출했다.\n",
    "\n",
    "바르셀로나는 22일(한국 시간) 포르투갈 리스본의 이스타디우 다 루스에서 열린 벤피카와의 대회 리그 페이즈 7차전 원정 경기에서 5-4로 이겼다.\n",
    "\n",
    "이날 승리로 바르셀로나는 승점 18(6승 1패)로 2위를 달렸고, 오는 31일 8차전 유벤투스(이탈리아)와의 맞대결 결과와 관계없이 16강행을 확정했다.\n",
    "\n",
    "UCL 리그 페이즈는 36개 팀 중 1~8위가 16강 직행, 9~24위가 16강 플레이오프를 치른다.\n",
    "\n",
    "바르셀로나는 리그 페이즈에서 단 1패밖에 내주지 않으며 순조롭게 16강 진출을 확정했다.\n",
    "\n",
    "안방에서 패배한 벤피카는 승점 10(3승 1무 3패)으로 18위에 머물렀다.\n",
    "\n",
    "벤피카는 전반전에 3-1, 후반전에 4-2로 앞서갔으나 끝내 역전을 허용하며 무릎을 꿇었다.\n",
    "\n",
    "벤피카가 킥오프 이후 곧장 균형을 깼다.\n",
    "\n",
    "전반 2분 반젤리스 파블리디스가 알바로 페르난데스가 건넨 크로스를 슈팅해 골망을 갈랐다.\n",
    "\n",
    "바르셀로나는 전반 13분 로베르트 레반도프스키의 페널티킥 득점에 힘입어 반격했다.\n",
    "\n",
    "하지만 벤피카 공격수 파블리디스가 전반 22분 추가골을 넣고, 전반 30분 해트트릭을 완성하면서 바르셀로나에 찬물을 끼얹었다.\n",
    "\n",
    "후반전도 비슷한 양상이었다. 바르셀로나는 후반 19분 하피냐 골로 고삐를 당겼지만, 벤피카는 후반 23분 상대 수비수의 자책골로 달아났다.\n",
    "\n",
    "바르셀로나는 포기하지 않았다. 후반 33분 레반도프스키의 페널티킥 멀티골로 3-4, 후반 41분 에릭 가르시아의 득점으로 4-4까지 쫓아갔다.\n",
    "\n",
    "마지막 해결사는 하피냐였다.\n",
    "\n",
    "후반 51분 전방으로 향한 롱볼이 침투하는 하피냐에게 전달됐다. 하피냐는 수비를 제친 뒤 슈팅했고 구석을 꿰뚫어 역전골을 터뜨렸다.\n",
    "\n",
    "결국 경기는 바르셀로나의 짜릿한 5-4 승리로 막을 내렸다.\n",
    "\n",
    "같은 날 리버풀(잉글랜드)은 릴(프랑스)을 2-1로 격파했다.\n",
    "\n",
    "UCL 리그 페이즈 중 유일하게 전승을 달린 선두 리버풀(승점 21·7승)은 바르셀로나와 함께 16강 진출에 성공했다.\n",
    "\n",
    "전반 34분 모하메드 살라의 선제골 이후 한 차례 실점을 내줬지만, 후반 22분 하비 엘리엇의 결승골이 승리로 이어졌다.\n",
    "\n",
    "반면 릴(승점 13·4승 1무 2패)은 순위 도약에 실패하고 11위에 머물렀다.\n",
    "\n",
    "릴은 최근 공식전 21경기 무패를 달리며 상승세를 탔지만, 원정팀의 무덤이라 불리는 안필드에서 패배하며 아쉬움을 삼켰다.\n",
    "\"\"\""
   ]
  },
  {
   "cell_type": "code",
   "execution_count": 8,
   "id": "c19810b9-ef90-48d5-9fc1-31aac877efdf",
   "metadata": {},
   "outputs": [],
   "source": [
    "question2 = f\"\"\"\n",
    "{question}\n",
    "\n",
    "아래의 문맥을 참고하여 답해주세요.\n",
    "\n",
    "{context}\n",
    "\"\"\""
   ]
  },
  {
   "cell_type": "code",
   "execution_count": 9,
   "id": "b7d779f3-2ff0-4e4b-b46e-e851b23adfb5",
   "metadata": {},
   "outputs": [
    {
     "name": "stdout",
     "output_type": "stream",
     "text": [
      "\n",
      "2025년 1월에 있었던 챔피언스리그 벤피카 vs. 바르셀로나 경기에 요약해줘.\n",
      "\n",
      "아래의 문맥을 참고하여 답해주세요.\n",
      "\n",
      "\n",
      "스페인 프로축구 프리메라리가 바르셀로나가 벤피카(포르투갈)와 도합 9골이 터진 난타전 끝에 극적인 역전승을 거두면서 유럽축구연맹(UEFA) 챔피언스리그(UCL) 16강에 진출했다.\n",
      "\n",
      "바르셀로나는 22일(한국 시간) 포르투갈 리스본의 이스타디우 다 루스에서 열린 벤피카와의 대회 리그 페이즈 7차전 원정 경기에서 5-4로 이겼다.\n",
      "\n",
      "이날 승리로 바르셀로나는 승점 18(6승 1패)로 2위를 달렸고, 오는 31일 8차전 유벤투스(이탈리아)와의 맞대결 결과와 관계없이 16강행을 확정했다.\n",
      "\n",
      "UCL 리그 페이즈는 36개 팀 중 1~8위가 16강 직행, 9~24위가 16강 플레이오프를 치른다.\n",
      "\n",
      "바르셀로나는 리그 페이즈에서 단 1패밖에 내주지 않으며 순조롭게 16강 진출을 확정했다.\n",
      "\n",
      "안방에서 패배한 벤피카는 승점 10(3승 1무 3패)으로 18위에 머물렀다.\n",
      "\n",
      "벤피카는 전반전에 3-1, 후반전에 4-2로 앞서갔으나 끝내 역전을 허용하며 무릎을 꿇었다.\n",
      "\n",
      "벤피카가 킥오프 이후 곧장 균형을 깼다.\n",
      "\n",
      "전반 2분 반젤리스 파블리디스가 알바로 페르난데스가 건넨 크로스를 슈팅해 골망을 갈랐다.\n",
      "\n",
      "바르셀로나는 전반 13분 로베르트 레반도프스키의 페널티킥 득점에 힘입어 반격했다.\n",
      "\n",
      "하지만 벤피카 공격수 파블리디스가 전반 22분 추가골을 넣고, 전반 30분 해트트릭을 완성하면서 바르셀로나에 찬물을 끼얹었다.\n",
      "\n",
      "후반전도 비슷한 양상이었다. 바르셀로나는 후반 19분 하피냐 골로 고삐를 당겼지만, 벤피카는 후반 23분 상대 수비수의 자책골로 달아났다.\n",
      "\n",
      "바르셀로나는 포기하지 않았다. 후반 33분 레반도프스키의 페널티킥 멀티골로 3-4, 후반 41분 에릭 가르시아의 득점으로 4-4까지 쫓아갔다.\n",
      "\n",
      "마지막 해결사는 하피냐였다.\n",
      "\n",
      "후반 51분 전방으로 향한 롱볼이 침투하는 하피냐에게 전달됐다. 하피냐는 수비를 제친 뒤 슈팅했고 구석을 꿰뚫어 역전골을 터뜨렸다.\n",
      "\n",
      "결국 경기는 바르셀로나의 짜릿한 5-4 승리로 막을 내렸다.\n",
      "\n",
      "같은 날 리버풀(잉글랜드)은 릴(프랑스)을 2-1로 격파했다.\n",
      "\n",
      "UCL 리그 페이즈 중 유일하게 전승을 달린 선두 리버풀(승점 21·7승)은 바르셀로나와 함께 16강 진출에 성공했다.\n",
      "\n",
      "전반 34분 모하메드 살라의 선제골 이후 한 차례 실점을 내줬지만, 후반 22분 하비 엘리엇의 결승골이 승리로 이어졌다.\n",
      "\n",
      "반면 릴(승점 13·4승 1무 2패)은 순위 도약에 실패하고 11위에 머물렀다.\n",
      "\n",
      "릴은 최근 공식전 21경기 무패를 달리며 상승세를 탔지만, 원정팀의 무덤이라 불리는 안필드에서 패배하며 아쉬움을 삼켰다.\n",
      "\n",
      "\n"
     ]
    }
   ],
   "source": [
    "print(question2)"
   ]
  },
  {
   "cell_type": "code",
   "execution_count": 10,
   "id": "e7354744-6ec6-4b16-a965-e1ea895d77b0",
   "metadata": {},
   "outputs": [
    {
     "name": "stdout",
     "output_type": "stream",
     "text": [
      "CPU times: user 10.6 ms, sys: 1.92 ms, total: 12.5 ms\n",
      "Wall time: 12.2 s\n"
     ]
    }
   ],
   "source": [
    "%%time\n",
    "\n",
    "out2 = model.invoke(question2)"
   ]
  },
  {
   "cell_type": "code",
   "execution_count": 11,
   "id": "f6d6d59b-bc1d-46ee-aa93-711780f20b2f",
   "metadata": {},
   "outputs": [
    {
     "name": "stdout",
     "output_type": "stream",
     "text": [
      "2025년 1월 22일, 바르셀로나가 벤피카와의 UEFA 챔피언스리그 조별리그 7차전에서 5-4로 극적인 역전승을 거두며 16강 진출을 확정지었습니다. 경기는 포르투갈 리스본의 이스타디우 다 루스에서 열렸습니다.\n",
      "\n",
      "경기는 벤피카의 빠른 선제골로 시작되었습니다. 전반 2분, 반젤리스 파블리디스가 알바로 페르난데스의 크로스를 받아 골망을 흔들었습니다. 바르셀로나는 전반 13분 로베르트 레반도프스키의 페널티킥으로 동점을 만들었지만, 벤피카는 전반 22분과 30분에 파블리디스가 추가골을 넣어 3-1로 앞서갔습니다.\n",
      "\n",
      "후반전에도 벤피카의 기세가 이어졌고, 바르셀로나는 후반 19분 하피냐의 골로 추격했지만, 벤피카는 후반 23분 자책골로 다시 점수를 벌렸습니다. 그러나 바르셀로나는 포기하지 않고, 후반 33분 레반도프스키의 두 번째 페널티킥과 후반 41분 에릭 가르시아의 득점으로 4-4 동점을 만들었습니다.\n",
      "\n",
      "결국 후반 51분, 하피냐가 결승골을 터뜨리며 바르셀로나는 5-4로 역전승을 거두었습니다. 이 승리로 바르셀로나는 6승 1패로 승점 18을 기록하며 16강 진출을 확정지었습니다. 반면 벤피카는 3승 1무 3패로 승점 10에 머물며 18위에 위치했습니다.\n"
     ]
    }
   ],
   "source": [
    "print(out2.content)"
   ]
  }
 ],
 "metadata": {
  "kernelspec": {
   "display_name": "Python 3 (ipykernel)",
   "language": "python",
   "name": "python3"
  },
  "language_info": {
   "codemirror_mode": {
    "name": "ipython",
    "version": 3
   },
   "file_extension": ".py",
   "mimetype": "text/x-python",
   "name": "python",
   "nbconvert_exporter": "python",
   "pygments_lexer": "ipython3",
   "version": "3.12.8"
  }
 },
 "nbformat": 4,
 "nbformat_minor": 5
}
