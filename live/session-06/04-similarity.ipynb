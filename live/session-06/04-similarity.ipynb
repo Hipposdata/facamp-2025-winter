{
 "cells": [
  {
   "cell_type": "markdown",
   "id": "9ef17032-4aee-43d1-bd7d-84c85d50a0b2",
   "metadata": {},
   "source": [
    "*Copyright 2025 Jaeyoung Chun / Winning Twelve*\n",
    "\n",
    "You may not make copies of this and use or distribute it for any purpose."
   ]
  },
  {
   "cell_type": "markdown",
   "id": "532bc6b2-6c6e-4105-aabd-5f7cdbddf099",
   "metadata": {},
   "source": [
    "# Similarity"
   ]
  },
  {
   "cell_type": "code",
   "execution_count": 1,
   "id": "64411ace-59bc-4966-bb03-d85517438e45",
   "metadata": {},
   "outputs": [],
   "source": [
    "sentences = [\n",
    "    \"안녕하세요\",\n",
    "    \"안녕\",\n",
    "    \"잘가\",\n",
    "    \"잘자\",\n",
    "    \"반갑다\"\n",
    "]"
   ]
  },
  {
   "cell_type": "markdown",
   "id": "633f22cd-fe8c-41e6-8cdc-bd64d2b139ac",
   "metadata": {},
   "source": [
    "## Helper Functions"
   ]
  },
  {
   "cell_type": "code",
   "execution_count": 2,
   "id": "230eacc7-9fda-499c-b429-de928a9d9059",
   "metadata": {},
   "outputs": [],
   "source": [
    "from sklearn.metrics.pairwise import cosine_similarity\n",
    "\n",
    "def get_similarity(a, b):\n",
    "    return cosine_similarity([a], [b])[0][0]"
   ]
  },
  {
   "cell_type": "code",
   "execution_count": 3,
   "id": "220e2095-c2e5-46bd-a820-2bef6bad7328",
   "metadata": {},
   "outputs": [],
   "source": [
    "import pandas as pd\n",
    "\n",
    "def compare(embeddings):\n",
    "    out = []\n",
    "    for i, emb1 in enumerate(embeddings):\n",
    "        for j, emb2 in enumerate(embeddings):\n",
    "            if i < j:\n",
    "                score = get_similarity(emb1, emb2)\n",
    "                sentence1, sentence2 = sentences[i], sentences[j]\n",
    "                out.append((sentence1, sentence2, score))\n",
    "                \n",
    "    return pd.DataFrame(out, columns=[\"sentence1\", \"sentence2\", \"similarity_score\"])"
   ]
  },
  {
   "cell_type": "markdown",
   "id": "edec89d9-81f9-4c57-85d3-83a0407ec478",
   "metadata": {},
   "source": [
    "## OpenAI"
   ]
  },
  {
   "cell_type": "markdown",
   "id": "09fc3a2a-ea72-42b8-894e-10830f3def3e",
   "metadata": {},
   "source": [
    "### text-embedding-3-small"
   ]
  },
  {
   "cell_type": "code",
   "execution_count": 4,
   "id": "13fd083e-2b1a-41f5-8648-62eed4ae37c7",
   "metadata": {},
   "outputs": [],
   "source": [
    "from langchain_openai import OpenAIEmbeddings"
   ]
  },
  {
   "cell_type": "code",
   "execution_count": 5,
   "id": "af8e4f1b-b393-4ee4-ac1a-d3fffec32d19",
   "metadata": {},
   "outputs": [],
   "source": [
    "embedding_model = OpenAIEmbeddings(model=\"text-embedding-3-small\")"
   ]
  },
  {
   "cell_type": "code",
   "execution_count": 6,
   "id": "33877a81-57e8-4be5-bdee-975891596b11",
   "metadata": {},
   "outputs": [],
   "source": [
    "embeddings = embedding_model.embed_documents(sentences)"
   ]
  },
  {
   "cell_type": "code",
   "execution_count": 7,
   "id": "c33f2449-df28-4ee0-8806-a4cdb6447f7c",
   "metadata": {},
   "outputs": [
    {
     "data": {
      "text/html": [
       "<div>\n",
       "<style scoped>\n",
       "    .dataframe tbody tr th:only-of-type {\n",
       "        vertical-align: middle;\n",
       "    }\n",
       "\n",
       "    .dataframe tbody tr th {\n",
       "        vertical-align: top;\n",
       "    }\n",
       "\n",
       "    .dataframe thead th {\n",
       "        text-align: right;\n",
       "    }\n",
       "</style>\n",
       "<table border=\"1\" class=\"dataframe\">\n",
       "  <thead>\n",
       "    <tr style=\"text-align: right;\">\n",
       "      <th></th>\n",
       "      <th>sentence1</th>\n",
       "      <th>sentence2</th>\n",
       "      <th>similarity_score</th>\n",
       "    </tr>\n",
       "  </thead>\n",
       "  <tbody>\n",
       "    <tr>\n",
       "      <th>0</th>\n",
       "      <td>안녕하세요</td>\n",
       "      <td>안녕</td>\n",
       "      <td>0.826183</td>\n",
       "    </tr>\n",
       "    <tr>\n",
       "      <th>1</th>\n",
       "      <td>안녕하세요</td>\n",
       "      <td>잘가</td>\n",
       "      <td>0.333874</td>\n",
       "    </tr>\n",
       "    <tr>\n",
       "      <th>2</th>\n",
       "      <td>안녕하세요</td>\n",
       "      <td>잘자</td>\n",
       "      <td>0.378787</td>\n",
       "    </tr>\n",
       "    <tr>\n",
       "      <th>3</th>\n",
       "      <td>안녕하세요</td>\n",
       "      <td>반갑다</td>\n",
       "      <td>0.247146</td>\n",
       "    </tr>\n",
       "    <tr>\n",
       "      <th>4</th>\n",
       "      <td>안녕</td>\n",
       "      <td>잘가</td>\n",
       "      <td>0.372109</td>\n",
       "    </tr>\n",
       "    <tr>\n",
       "      <th>5</th>\n",
       "      <td>안녕</td>\n",
       "      <td>잘자</td>\n",
       "      <td>0.419632</td>\n",
       "    </tr>\n",
       "    <tr>\n",
       "      <th>6</th>\n",
       "      <td>안녕</td>\n",
       "      <td>반갑다</td>\n",
       "      <td>0.265561</td>\n",
       "    </tr>\n",
       "    <tr>\n",
       "      <th>7</th>\n",
       "      <td>잘가</td>\n",
       "      <td>잘자</td>\n",
       "      <td>0.832460</td>\n",
       "    </tr>\n",
       "    <tr>\n",
       "      <th>8</th>\n",
       "      <td>잘가</td>\n",
       "      <td>반갑다</td>\n",
       "      <td>0.248470</td>\n",
       "    </tr>\n",
       "    <tr>\n",
       "      <th>9</th>\n",
       "      <td>잘자</td>\n",
       "      <td>반갑다</td>\n",
       "      <td>0.241822</td>\n",
       "    </tr>\n",
       "  </tbody>\n",
       "</table>\n",
       "</div>"
      ],
      "text/plain": [
       "  sentence1 sentence2  similarity_score\n",
       "0     안녕하세요        안녕          0.826183\n",
       "1     안녕하세요        잘가          0.333874\n",
       "2     안녕하세요        잘자          0.378787\n",
       "3     안녕하세요       반갑다          0.247146\n",
       "4        안녕        잘가          0.372109\n",
       "5        안녕        잘자          0.419632\n",
       "6        안녕       반갑다          0.265561\n",
       "7        잘가        잘자          0.832460\n",
       "8        잘가       반갑다          0.248470\n",
       "9        잘자       반갑다          0.241822"
      ]
     },
     "execution_count": 7,
     "metadata": {},
     "output_type": "execute_result"
    }
   ],
   "source": [
    "compare(embeddings)"
   ]
  },
  {
   "cell_type": "markdown",
   "id": "574e6c49-029e-472d-8f13-cdaa4be20e5b",
   "metadata": {},
   "source": [
    "### text-embedding-3-large"
   ]
  },
  {
   "cell_type": "code",
   "execution_count": 8,
   "id": "0503275f-be9e-4f79-8cb7-853cb25f7461",
   "metadata": {},
   "outputs": [],
   "source": [
    "embedding_model = OpenAIEmbeddings(model=\"text-embedding-3-large\")"
   ]
  },
  {
   "cell_type": "code",
   "execution_count": 9,
   "id": "c13bd693-9de5-4539-9248-dc53b97418e5",
   "metadata": {},
   "outputs": [],
   "source": [
    "embeddings = embedding_model.embed_documents(sentences)"
   ]
  },
  {
   "cell_type": "code",
   "execution_count": 10,
   "id": "825120a4-e7f8-4c59-a152-ca5f93ec1667",
   "metadata": {},
   "outputs": [
    {
     "data": {
      "text/html": [
       "<div>\n",
       "<style scoped>\n",
       "    .dataframe tbody tr th:only-of-type {\n",
       "        vertical-align: middle;\n",
       "    }\n",
       "\n",
       "    .dataframe tbody tr th {\n",
       "        vertical-align: top;\n",
       "    }\n",
       "\n",
       "    .dataframe thead th {\n",
       "        text-align: right;\n",
       "    }\n",
       "</style>\n",
       "<table border=\"1\" class=\"dataframe\">\n",
       "  <thead>\n",
       "    <tr style=\"text-align: right;\">\n",
       "      <th></th>\n",
       "      <th>sentence1</th>\n",
       "      <th>sentence2</th>\n",
       "      <th>similarity_score</th>\n",
       "    </tr>\n",
       "  </thead>\n",
       "  <tbody>\n",
       "    <tr>\n",
       "      <th>0</th>\n",
       "      <td>안녕하세요</td>\n",
       "      <td>안녕</td>\n",
       "      <td>0.819306</td>\n",
       "    </tr>\n",
       "    <tr>\n",
       "      <th>1</th>\n",
       "      <td>안녕하세요</td>\n",
       "      <td>잘가</td>\n",
       "      <td>0.456149</td>\n",
       "    </tr>\n",
       "    <tr>\n",
       "      <th>2</th>\n",
       "      <td>안녕하세요</td>\n",
       "      <td>잘자</td>\n",
       "      <td>0.445797</td>\n",
       "    </tr>\n",
       "    <tr>\n",
       "      <th>3</th>\n",
       "      <td>안녕하세요</td>\n",
       "      <td>반갑다</td>\n",
       "      <td>0.418926</td>\n",
       "    </tr>\n",
       "    <tr>\n",
       "      <th>4</th>\n",
       "      <td>안녕</td>\n",
       "      <td>잘가</td>\n",
       "      <td>0.513085</td>\n",
       "    </tr>\n",
       "    <tr>\n",
       "      <th>5</th>\n",
       "      <td>안녕</td>\n",
       "      <td>잘자</td>\n",
       "      <td>0.501129</td>\n",
       "    </tr>\n",
       "    <tr>\n",
       "      <th>6</th>\n",
       "      <td>안녕</td>\n",
       "      <td>반갑다</td>\n",
       "      <td>0.443209</td>\n",
       "    </tr>\n",
       "    <tr>\n",
       "      <th>7</th>\n",
       "      <td>잘가</td>\n",
       "      <td>잘자</td>\n",
       "      <td>0.670334</td>\n",
       "    </tr>\n",
       "    <tr>\n",
       "      <th>8</th>\n",
       "      <td>잘가</td>\n",
       "      <td>반갑다</td>\n",
       "      <td>0.382664</td>\n",
       "    </tr>\n",
       "    <tr>\n",
       "      <th>9</th>\n",
       "      <td>잘자</td>\n",
       "      <td>반갑다</td>\n",
       "      <td>0.363693</td>\n",
       "    </tr>\n",
       "  </tbody>\n",
       "</table>\n",
       "</div>"
      ],
      "text/plain": [
       "  sentence1 sentence2  similarity_score\n",
       "0     안녕하세요        안녕          0.819306\n",
       "1     안녕하세요        잘가          0.456149\n",
       "2     안녕하세요        잘자          0.445797\n",
       "3     안녕하세요       반갑다          0.418926\n",
       "4        안녕        잘가          0.513085\n",
       "5        안녕        잘자          0.501129\n",
       "6        안녕       반갑다          0.443209\n",
       "7        잘가        잘자          0.670334\n",
       "8        잘가       반갑다          0.382664\n",
       "9        잘자       반갑다          0.363693"
      ]
     },
     "execution_count": 10,
     "metadata": {},
     "output_type": "execute_result"
    }
   ],
   "source": [
    "compare(embeddings)"
   ]
  }
 ],
 "metadata": {
  "kernelspec": {
   "display_name": "Python 3 (ipykernel)",
   "language": "python",
   "name": "python3"
  },
  "language_info": {
   "codemirror_mode": {
    "name": "ipython",
    "version": 3
   },
   "file_extension": ".py",
   "mimetype": "text/x-python",
   "name": "python",
   "nbconvert_exporter": "python",
   "pygments_lexer": "ipython3",
   "version": "3.12.8"
  }
 },
 "nbformat": 4,
 "nbformat_minor": 5
}
