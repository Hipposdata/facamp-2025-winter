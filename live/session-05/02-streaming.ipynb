{
 "cells": [
  {
   "cell_type": "markdown",
   "id": "cd07c5f0-7a8a-43e2-927e-df18325429e4",
   "metadata": {},
   "source": [
    "*Copyright 2025 Jaeyoung Chun / Winning Twelve*\n",
    "\n",
    "You may not make copies of this and use or distribute it for any purpose."
   ]
  },
  {
   "cell_type": "markdown",
   "id": "ec4675fd-9b5e-4006-a118-12137e867054",
   "metadata": {},
   "source": [
    "# Streaming"
   ]
  },
  {
   "cell_type": "code",
   "execution_count": 1,
   "id": "90959486-2728-4236-b64e-8c822b6441ae",
   "metadata": {},
   "outputs": [],
   "source": [
    "from langchain_openai import ChatOpenAI"
   ]
  },
  {
   "cell_type": "code",
   "execution_count": 2,
   "id": "47ebb1db-d34f-47c0-8de9-faf6b3f5edd4",
   "metadata": {},
   "outputs": [],
   "source": [
    "model = ChatOpenAI(\n",
    "    model_name=\"gpt-4o-mini\"\n",
    ")"
   ]
  },
  {
   "cell_type": "code",
   "execution_count": 3,
   "id": "1d462288-7910-4bb7-bbc0-38418904d553",
   "metadata": {},
   "outputs": [],
   "source": [
    "question = \"손흥민 선수에 대해 설명해주세요.\""
   ]
  },
  {
   "cell_type": "code",
   "execution_count": 4,
   "id": "cedf4009-b440-4d47-b53d-b9b96166cc79",
   "metadata": {},
   "outputs": [
    {
     "name": "stdout",
     "output_type": "stream",
     "text": [
      "손흥민(Heung-min Son) 선수는 대한민국의 프로 축구 선수로, 주로 공격수로 활동하고 있습니다. 1992년 7월 8일에 태어난 그는 현재 잉글랜드 프리미어리그의 토트넘 홋스퍼 FC에서 활약하고 있습니다. \n",
      "\n",
      "손흥민은 빠른 스피드와 뛰어난 드리블 기술, 강력한 발리슛 등으로 유명하며, 다양한 포지션에서 팀에 기여할 수 있는 만능 공격수입니다. 그는 2010년대 중반부터 국제 무대와 클럽 차원에서 두각을 나타내기 시작했고, 특히 2019년 UEFA 챔피언스리그에서 토트넘을 결승으로 이끄는 데 큰 역할을 했습니다.\n",
      "\n",
      "또한, 손흥민은 한국 대표팀의 일원으로서도 활발히 활동해 왔으며, 2018년 FIFA 월드컵과 같은 주요 국제 대회에서도 중요한 역할을 맡아왔습니다. 그는 한국 축구의 아이콘이자 세계적으로도 인정받는 선수로 자리 잡고 있습니다.\n",
      "\n",
      "손흥민은 축구 외에도 팬들에게 다정한 이미지와 성실한 태도로 사랑받고 있으며, 많은 이들에게 영감을 주는 선수로 평가받고 있습니다."
     ]
    }
   ],
   "source": [
    "for chunk in model.stream(question):\n",
    "    print(chunk.content, end=\"\", flush=True)"
   ]
  }
 ],
 "metadata": {
  "kernelspec": {
   "display_name": "Python 3 (ipykernel)",
   "language": "python",
   "name": "python3"
  },
  "language_info": {
   "codemirror_mode": {
    "name": "ipython",
    "version": 3
   },
   "file_extension": ".py",
   "mimetype": "text/x-python",
   "name": "python",
   "nbconvert_exporter": "python",
   "pygments_lexer": "ipython3",
   "version": "3.12.8"
  }
 },
 "nbformat": 4,
 "nbformat_minor": 5
}
