{
 "cells": [
  {
   "cell_type": "markdown",
   "id": "008f1d16-e191-48c5-9db5-7c6068211656",
   "metadata": {},
   "source": [
    "*Copyright 2025 Jaeyoung Chun / Winning Twelve*\n",
    "\n",
    "You may not make copies of this and use or distribute it for any purpose."
   ]
  },
  {
   "cell_type": "markdown",
   "id": "431dc3f4-77e9-4279-8156-a44ac2061940",
   "metadata": {},
   "source": [
    "# Few Shot"
   ]
  },
  {
   "cell_type": "code",
   "execution_count": 1,
   "id": "82399ba6-cbff-4eaf-9c41-03a33bec5730",
   "metadata": {},
   "outputs": [],
   "source": [
    "from langchain_openai import ChatOpenAI"
   ]
  },
  {
   "cell_type": "code",
   "execution_count": 2,
   "id": "751e386d-2411-4a20-b002-a4318b7c6862",
   "metadata": {},
   "outputs": [],
   "source": [
    "# helper function for displaying markdown\n",
    "from IPython.display import Markdown, display\n",
    "def printmd(string):\n",
    "    display(Markdown(string))"
   ]
  },
  {
   "cell_type": "code",
   "execution_count": 3,
   "id": "73305c4e-0fe5-46f4-b271-d172cd5bb682",
   "metadata": {},
   "outputs": [],
   "source": [
    "model = ChatOpenAI(\n",
    "    model_name=\"gpt-3.5-turbo\",\n",
    "    temperature=0\n",
    ")"
   ]
  },
  {
   "cell_type": "markdown",
   "id": "7616570b-4d6c-4b30-9304-f9e9cc102c26",
   "metadata": {},
   "source": [
    "## Default"
   ]
  },
  {
   "cell_type": "code",
   "execution_count": 4,
   "id": "04769127-a515-4f88-bb4a-b9e0a0b03bb2",
   "metadata": {},
   "outputs": [],
   "source": [
    "query = \"손흥민으로 삼행시 만들어줘.\""
   ]
  },
  {
   "cell_type": "code",
   "execution_count": 5,
   "id": "21cf017a-bee0-4ecc-b642-e7166a9691ce",
   "metadata": {},
   "outputs": [],
   "source": [
    "out = model.invoke(query)"
   ]
  },
  {
   "cell_type": "code",
   "execution_count": 6,
   "id": "d1470719-590a-4b2c-b4ae-37b66107fe2c",
   "metadata": {},
   "outputs": [
    {
     "data": {
      "text/markdown": [
       "손흥민은 축구 신이요,\n",
       "공을 차면 상대팀 놀라요,\n",
       "슈팅 강하고 빠른 발이야."
      ],
      "text/plain": [
       "<IPython.core.display.Markdown object>"
      ]
     },
     "metadata": {},
     "output_type": "display_data"
    }
   ],
   "source": [
    "printmd(out.content)"
   ]
  },
  {
   "cell_type": "markdown",
   "id": "967fc146-8368-44ab-b661-56176254b962",
   "metadata": {},
   "source": [
    "## Few-Shot"
   ]
  },
  {
   "cell_type": "markdown",
   "id": "d4a37d60-f80d-48e8-a0ad-77db05310a2e",
   "metadata": {},
   "source": [
    "### Set Up Few Shot Template"
   ]
  },
  {
   "cell_type": "code",
   "execution_count": 7,
   "id": "ffafd681-680f-4100-9f3e-13e6ab11f302",
   "metadata": {},
   "outputs": [],
   "source": [
    "from langchain.prompts.few_shot import FewShotPromptTemplate\n",
    "from langchain.prompts.prompt import PromptTemplate"
   ]
  },
  {
   "cell_type": "code",
   "execution_count": 8,
   "id": "f216ca09-543e-4869-ac48-0685d409a2d7",
   "metadata": {},
   "outputs": [],
   "source": [
    "examples = [\n",
    "    {\n",
    "        \"question\": \"홍길동으로 삼행시 만들어줘\",\n",
    "        \"answer\":\n",
    "            \"\"\"\n",
    "            홍: 홍수가 나도\n",
    "            길: 길이 아무리 험해도\n",
    "            동: 동에 번쩍 서에 번쩍\n",
    "            \"\"\"\n",
    "    }\n",
    "]        "
   ]
  },
  {
   "cell_type": "code",
   "execution_count": 9,
   "id": "66ffbc19-7c14-4fe9-942b-47b44bd6ac5a",
   "metadata": {},
   "outputs": [],
   "source": [
    "example_prompt = PromptTemplate(\n",
    "    input_variables=[\"question\", \"answer\"],\n",
    "    template=\"Question: {question}\\n{answer}\"\n",
    ")"
   ]
  },
  {
   "cell_type": "code",
   "execution_count": 10,
   "id": "e39b4764-b653-43b9-bb8e-6603bd796fab",
   "metadata": {},
   "outputs": [
    {
     "name": "stdout",
     "output_type": "stream",
     "text": [
      "Question: 홍길동으로 삼행시 만들어줘\n",
      "\n",
      "            홍: 홍수가 나도\n",
      "            길: 길이 아무리 험해도\n",
      "            동: 동에 번쩍 서에 번쩍\n",
      "            \n"
     ]
    }
   ],
   "source": [
    "print(example_prompt.format(**examples[0]))"
   ]
  },
  {
   "cell_type": "code",
   "execution_count": 11,
   "id": "589c5979-27e6-4ad2-8a5e-b3d653cfdd57",
   "metadata": {},
   "outputs": [],
   "source": [
    "prompt = FewShotPromptTemplate(\n",
    "    examples=examples,\n",
    "    example_prompt=example_prompt,\n",
    "    suffix=\"Question: {input}\",\n",
    "    input_variables=[\"input\"]\n",
    ")"
   ]
  },
  {
   "cell_type": "markdown",
   "id": "94036dbe-d288-4b9a-8c65-268a3b739231",
   "metadata": {},
   "source": [
    "### Example 1"
   ]
  },
  {
   "cell_type": "code",
   "execution_count": 12,
   "id": "c5543f85-0a48-4224-9f5b-35f2fe0a6256",
   "metadata": {},
   "outputs": [],
   "source": [
    "out = model.invoke(prompt.format(input=query))"
   ]
  },
  {
   "cell_type": "code",
   "execution_count": 13,
   "id": "3b301106-91ad-4a5f-926c-3a1b62f0d293",
   "metadata": {},
   "outputs": [
    {
     "name": "stdout",
     "output_type": "stream",
     "text": [
      "손: 손에는 축구공\n",
      "흥: 흥이 넘치는 드리블\n",
      "민: 민낯에 웃음 번져 퍼져\n"
     ]
    }
   ],
   "source": [
    "print(out.content)"
   ]
  },
  {
   "cell_type": "markdown",
   "id": "0ea9e722-8e26-4834-a970-84c20690e341",
   "metadata": {},
   "source": [
    "### Example 2"
   ]
  },
  {
   "cell_type": "code",
   "execution_count": 14,
   "id": "c6423f5e-38b1-4ce3-af37-730266106124",
   "metadata": {},
   "outputs": [],
   "source": [
    "out = model.invoke(prompt.format(input=\"호날두로 삼행시 만들어줘\"))"
   ]
  },
  {
   "cell_type": "code",
   "execution_count": 15,
   "id": "573d3e5a-b09f-4a2f-a633-4210e5b6079d",
   "metadata": {},
   "outputs": [
    {
     "name": "stdout",
     "output_type": "stream",
     "text": [
      "호: 호랑이처럼 강하게\n",
      "날: 날아다니는 듯 자유롭게\n",
      "두: 두각을 드러내는 축구신화\n"
     ]
    }
   ],
   "source": [
    "print(out.content)"
   ]
  },
  {
   "cell_type": "markdown",
   "id": "f871d893-0954-41e8-8e2b-056f17baa01f",
   "metadata": {},
   "source": [
    "### Example 3"
   ]
  },
  {
   "cell_type": "code",
   "execution_count": 16,
   "id": "56c24db3-f78a-4464-af5a-392d3ca829b1",
   "metadata": {},
   "outputs": [],
   "source": [
    "out = model.invoke(prompt.format(input=\"전재영으로 삼행시 만들어줘\"))"
   ]
  },
  {
   "cell_type": "code",
   "execution_count": 17,
   "id": "8322ed4f-0de2-42f6-afb2-d8e277d883c6",
   "metadata": {},
   "outputs": [
    {
     "name": "stdout",
     "output_type": "stream",
     "text": [
      "전: 전날 비가 왔네\n",
      "재: 재미있는 일이 많네\n",
      "영: 영원히 기억될 이야기들\n"
     ]
    }
   ],
   "source": [
    "print(out.content)"
   ]
  }
 ],
 "metadata": {
  "kernelspec": {
   "display_name": "Python 3 (ipykernel)",
   "language": "python",
   "name": "python3"
  },
  "language_info": {
   "codemirror_mode": {
    "name": "ipython",
    "version": 3
   },
   "file_extension": ".py",
   "mimetype": "text/x-python",
   "name": "python",
   "nbconvert_exporter": "python",
   "pygments_lexer": "ipython3",
   "version": "3.12.8"
  }
 },
 "nbformat": 4,
 "nbformat_minor": 5
}
