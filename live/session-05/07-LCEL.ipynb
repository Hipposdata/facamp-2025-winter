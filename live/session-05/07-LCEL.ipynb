{
 "cells": [
  {
   "cell_type": "markdown",
   "id": "8e1bb39e-6449-4a2f-b2cc-43b3c811ba49",
   "metadata": {},
   "source": [
    "*Copyright 2025 Jaeyoung Chun / Winning Twelve*\n",
    "\n",
    "You may not make copies of this and use or distribute it for any purpose."
   ]
  },
  {
   "cell_type": "markdown",
   "id": "e03bb324-dd0c-4f3a-9786-12112d4a5b52",
   "metadata": {},
   "source": [
    "# LCEL (LangChain Expression Language)"
   ]
  },
  {
   "cell_type": "code",
   "execution_count": 1,
   "id": "80380c4b-0aa9-4db6-9474-998b3a876762",
   "metadata": {},
   "outputs": [],
   "source": [
    "from langchain_openai import ChatOpenAI\n",
    "from langchain.chains import LLMChain\n",
    "from langchain_core.prompts import ChatPromptTemplate"
   ]
  },
  {
   "cell_type": "code",
   "execution_count": 2,
   "id": "a9aac286-d287-4af7-ae07-8b308573c893",
   "metadata": {},
   "outputs": [],
   "source": [
    "# helper function for displaying markdown\n",
    "from IPython.display import Markdown, display\n",
    "def printmd(string):\n",
    "    display(Markdown(string))"
   ]
  },
  {
   "cell_type": "code",
   "execution_count": 3,
   "id": "ecf68b59-10cd-4861-adb3-b9242d582138",
   "metadata": {},
   "outputs": [],
   "source": [
    "model = ChatOpenAI(\n",
    "    model_name=\"gpt-4o-mini\",\n",
    "    temperature=0\n",
    ")"
   ]
  },
  {
   "cell_type": "code",
   "execution_count": 4,
   "id": "61896f83-03f0-457c-90ac-304012a37b4f",
   "metadata": {},
   "outputs": [],
   "source": [
    "prompt = ChatPromptTemplate.from_messages(\n",
    "    [\n",
    "        (\n",
    "            \"system\", \"You are an expert translator that translates {input_language} to {output_language}.\",\n",
    "        ),\n",
    "        (\n",
    "            \"human\", \"{text}\"\n",
    "        )\n",
    "    ]\n",
    ")"
   ]
  },
  {
   "cell_type": "code",
   "execution_count": 5,
   "id": "98c29125-8c0d-4b26-8714-a8f029e2cee4",
   "metadata": {},
   "outputs": [],
   "source": [
    "chain = prompt | model"
   ]
  },
  {
   "cell_type": "code",
   "execution_count": 6,
   "id": "53c57f65-45fd-4680-966a-745af25d17b9",
   "metadata": {},
   "outputs": [],
   "source": [
    "out = chain.invoke(\n",
    "    {\n",
    "        \"input_language\": \"English\",\n",
    "        \"output_language\": \"Korean\",\n",
    "        \"text\": \"Chelsea Football Club is a professional football club based in Fulham, West London, England. Named after neighbouring area Chelsea, they compete in the Premier League, the top tier of English football. Founded in 1905, the team play their home games at Stamford Bridge.\",\n",
    "    }\n",
    ")"
   ]
  },
  {
   "cell_type": "code",
   "execution_count": 7,
   "id": "d34d89f0-eee5-4d0d-b027-d4581f3bb187",
   "metadata": {},
   "outputs": [
    {
     "name": "stdout",
     "output_type": "stream",
     "text": [
      "첼시 축구 클럽은 영국 런던 서부 풀햄에 위치한 프로 축구 클럽입니다. 인근 지역인 첼시의 이름을 따서 명명된 이 클럽은 잉글랜드 축구의 최상위 리그인 프리미어 리그에서 경쟁하고 있습니다. 1905년에 설립된 이 팀은 스탬포드 브리지에서 홈 경기를 치릅니다.\n"
     ]
    }
   ],
   "source": [
    "print(out.content)"
   ]
  }
 ],
 "metadata": {
  "kernelspec": {
   "display_name": "Python 3 (ipykernel)",
   "language": "python",
   "name": "python3"
  },
  "language_info": {
   "codemirror_mode": {
    "name": "ipython",
    "version": 3
   },
   "file_extension": ".py",
   "mimetype": "text/x-python",
   "name": "python",
   "nbconvert_exporter": "python",
   "pygments_lexer": "ipython3",
   "version": "3.12.8"
  }
 },
 "nbformat": 4,
 "nbformat_minor": 5
}
