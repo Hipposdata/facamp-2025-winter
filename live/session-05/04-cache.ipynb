{
 "cells": [
  {
   "cell_type": "markdown",
   "id": "f2d0fedd-f1c8-473e-8e08-f01922a7adc8",
   "metadata": {},
   "source": [
    "*Copyright 2025 Jaeyoung Chun / Winning Twelve*\n",
    "\n",
    "You may not make copies of this and use or distribute it for any purpose."
   ]
  },
  {
   "cell_type": "markdown",
   "id": "979d5da8-cfa9-4174-a550-80c93dfc8e6c",
   "metadata": {},
   "source": [
    "# Cache"
   ]
  },
  {
   "cell_type": "code",
   "execution_count": 1,
   "id": "0cef1180-8aee-4623-a0ac-9edbc049492c",
   "metadata": {},
   "outputs": [],
   "source": [
    "from langchain_openai import ChatOpenAI"
   ]
  },
  {
   "cell_type": "code",
   "execution_count": 2,
   "id": "974bb967-ff5a-423f-b6ba-9f37c424c6ce",
   "metadata": {},
   "outputs": [],
   "source": [
    "# helper function for displaying markdown\n",
    "from IPython.display import Markdown, display\n",
    "def printmd(string):\n",
    "    display(Markdown(string))"
   ]
  },
  {
   "cell_type": "code",
   "execution_count": 3,
   "id": "9abcfcf1-4066-4bbb-a13c-4a8c609557ed",
   "metadata": {},
   "outputs": [],
   "source": [
    "from langchain.cache import InMemoryCache\n",
    "from langchain.globals import set_llm_cache\n",
    "\n",
    "set_llm_cache(InMemoryCache())"
   ]
  },
  {
   "cell_type": "code",
   "execution_count": 4,
   "id": "f80be63e-f789-4484-b666-4b73d86b7f86",
   "metadata": {},
   "outputs": [],
   "source": [
    "question = \"2022 월드컵 한국과 포르투갈 경기에 대해 평가해주세요.\""
   ]
  },
  {
   "cell_type": "code",
   "execution_count": 5,
   "id": "604cbd6b-b209-4394-9c1d-e9499503ddf1",
   "metadata": {},
   "outputs": [],
   "source": [
    "model = ChatOpenAI(\n",
    "    model_name=\"gpt-4o-mini\",\n",
    "    temperature=0\n",
    ")"
   ]
  },
  {
   "cell_type": "markdown",
   "id": "78846c5e-cbd7-49b6-ae3d-bdb854ce4947",
   "metadata": {},
   "source": [
    "## Cold Cache / Cache Miss"
   ]
  },
  {
   "cell_type": "code",
   "execution_count": 6,
   "id": "696cd8ae-344d-4202-9abd-467d04b55982",
   "metadata": {},
   "outputs": [
    {
     "name": "stdout",
     "output_type": "stream",
     "text": [
      "CPU times: user 323 ms, sys: 202 ms, total: 525 ms\n",
      "Wall time: 5.53 s\n"
     ]
    }
   ],
   "source": [
    "%%time\n",
    "\n",
    "out = model.invoke(question)"
   ]
  },
  {
   "cell_type": "code",
   "execution_count": 7,
   "id": "7c7e55bd-ec50-450f-8076-c68c834aea65",
   "metadata": {},
   "outputs": [
    {
     "data": {
      "text/markdown": [
       "2022년 FIFA 월드컵에서 한국과 포르투갈의 경기는 2022년 12월 2일에 열렸습니다. 이 경기는 한국 축구 역사에 중요한 순간으로 남아 있습니다. \n",
       "\n",
       "한국은 이 경기에서 2-1로 승리하며 조별리그에서 극적으로 16강에 진출했습니다. 포르투갈은 이미 16강 진출이 확정된 상태였지만, 한국은 승리가 절실한 상황이었습니다. \n",
       "\n",
       "경기 초반에는 포르투갈이 우세한 모습을 보였고, 브루노 페르난데스가 전반 42분에 선제골을 넣었습니다. 그러나 한국은 후반에 들어서면서 공격적인 플레이를 펼쳤고, 28번의 교체 선수인 황희찬이 후반 추가 시간에 결승골을 넣으면서 경기를 뒤집었습니다.\n",
       "\n",
       "이 경기는 한국 선수들의 투지와 팀워크를 잘 보여준 경기였으며, 특히 후반전의 집중력과 끈질긴 플레이가 돋보였습니다. 또한, 이 경기는 한국 축구 팬들에게 큰 감동을 주었고, 한국이 월드컵에서 보여준 저력을 다시 한번 확인할 수 있는 기회가 되었습니다. \n",
       "\n",
       "결과적으로, 이 경기는 한국 축구의 역사적인 순간으로 기록되었으며, 선수들과 팬들 모두에게 잊지 못할 기억으로 남았습니다."
      ],
      "text/plain": [
       "<IPython.core.display.Markdown object>"
      ]
     },
     "metadata": {},
     "output_type": "display_data"
    }
   ],
   "source": [
    "printmd(out.content)"
   ]
  },
  {
   "cell_type": "markdown",
   "id": "bfdd164b-e79b-44f0-81ef-f3627cd25689",
   "metadata": {},
   "source": [
    "## Warm Cache / Cache Hit"
   ]
  },
  {
   "cell_type": "code",
   "execution_count": 8,
   "id": "42723d55-23d1-4e91-a8e4-6938712b82f4",
   "metadata": {},
   "outputs": [
    {
     "name": "stdout",
     "output_type": "stream",
     "text": [
      "CPU times: user 574 μs, sys: 52 μs, total: 626 μs\n",
      "Wall time: 597 μs\n"
     ]
    }
   ],
   "source": [
    "%%time\n",
    "\n",
    "out = model.invoke(question)"
   ]
  },
  {
   "cell_type": "code",
   "execution_count": 9,
   "id": "2d4a6829-e07f-4c43-ad63-dcc3454198d5",
   "metadata": {},
   "outputs": [
    {
     "data": {
      "text/markdown": [
       "2022년 FIFA 월드컵에서 한국과 포르투갈의 경기는 2022년 12월 2일에 열렸습니다. 이 경기는 한국 축구 역사에 중요한 순간으로 남아 있습니다. \n",
       "\n",
       "한국은 이 경기에서 2-1로 승리하며 조별리그에서 극적으로 16강에 진출했습니다. 포르투갈은 이미 16강 진출이 확정된 상태였지만, 한국은 승리가 절실한 상황이었습니다. \n",
       "\n",
       "경기 초반에는 포르투갈이 우세한 모습을 보였고, 브루노 페르난데스가 전반 42분에 선제골을 넣었습니다. 그러나 한국은 후반에 들어서면서 공격적인 플레이를 펼쳤고, 28번의 교체 선수인 황희찬이 후반 추가 시간에 결승골을 넣으면서 경기를 뒤집었습니다.\n",
       "\n",
       "이 경기는 한국 선수들의 투지와 팀워크를 잘 보여준 경기였으며, 특히 후반전의 집중력과 끈질긴 플레이가 돋보였습니다. 또한, 이 경기는 한국 축구 팬들에게 큰 감동을 주었고, 한국이 월드컵에서 보여준 저력을 다시 한번 확인할 수 있는 기회가 되었습니다. \n",
       "\n",
       "결과적으로, 이 경기는 한국 축구의 역사적인 순간으로 기록되었으며, 선수들과 팬들 모두에게 잊지 못할 기억으로 남았습니다."
      ],
      "text/plain": [
       "<IPython.core.display.Markdown object>"
      ]
     },
     "metadata": {},
     "output_type": "display_data"
    }
   ],
   "source": [
    "printmd(out.content)"
   ]
  }
 ],
 "metadata": {
  "kernelspec": {
   "display_name": "Python 3 (ipykernel)",
   "language": "python",
   "name": "python3"
  },
  "language_info": {
   "codemirror_mode": {
    "name": "ipython",
    "version": 3
   },
   "file_extension": ".py",
   "mimetype": "text/x-python",
   "name": "python",
   "nbconvert_exporter": "python",
   "pygments_lexer": "ipython3",
   "version": "3.12.8"
  }
 },
 "nbformat": 4,
 "nbformat_minor": 5
}
