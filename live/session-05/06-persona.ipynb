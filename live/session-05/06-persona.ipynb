{
 "cells": [
  {
   "cell_type": "markdown",
   "id": "5dcdc7bf-e1b8-468c-9b2b-7b250ef6ea9d",
   "metadata": {},
   "source": [
    "*Copyright 2025 Jaeyoung Chun / Winning Twelve*\n",
    "\n",
    "You may not make copies of this and use or distribute it for any purpose."
   ]
  },
  {
   "cell_type": "markdown",
   "id": "979d5da8-cfa9-4174-a550-80c93dfc8e6c",
   "metadata": {},
   "source": [
    "# Persona"
   ]
  },
  {
   "cell_type": "code",
   "execution_count": 1,
   "id": "0cef1180-8aee-4623-a0ac-9edbc049492c",
   "metadata": {},
   "outputs": [],
   "source": [
    "from langchain_openai import ChatOpenAI"
   ]
  },
  {
   "cell_type": "code",
   "execution_count": 2,
   "id": "618c6271-bf40-4d5c-abdf-ed330fec4c46",
   "metadata": {},
   "outputs": [],
   "source": [
    "from langchain.prompts import ChatPromptTemplate\n",
    "from langchain_core.messages import SystemMessage, HumanMessage"
   ]
  },
  {
   "cell_type": "code",
   "execution_count": 3,
   "id": "974bb967-ff5a-423f-b6ba-9f37c424c6ce",
   "metadata": {},
   "outputs": [],
   "source": [
    "# helper function for displaying markdown\n",
    "from IPython.display import Markdown, display\n",
    "def printmd(string):\n",
    "    display(Markdown(string))"
   ]
  },
  {
   "cell_type": "code",
   "execution_count": 4,
   "id": "f80be63e-f789-4484-b666-4b73d86b7f86",
   "metadata": {},
   "outputs": [],
   "source": [
    "question = \"축구 경기에서 오프사이드에 대해서 설명해주세요.\""
   ]
  },
  {
   "cell_type": "code",
   "execution_count": 5,
   "id": "604cbd6b-b209-4394-9c1d-e9499503ddf1",
   "metadata": {},
   "outputs": [],
   "source": [
    "model = ChatOpenAI(\n",
    "    model_name=\"gpt-4o-mini\",\n",
    "    temperature=0\n",
    ")"
   ]
  },
  {
   "cell_type": "markdown",
   "id": "073a50ee-0336-4d94-9841-70b9f77e6eca",
   "metadata": {},
   "source": [
    "## Professor"
   ]
  },
  {
   "cell_type": "code",
   "execution_count": 6,
   "id": "a97de6ba-6a4b-40f5-a806-77a22ec7f08d",
   "metadata": {},
   "outputs": [],
   "source": [
    "chat_template1 = ChatPromptTemplate.from_messages(\n",
    "    [\n",
    "        SystemMessage(\n",
    "            content=\"당신은 축구 전문가입니다. 당신의 청중은 대학생입니다.\"\n",
    "        ),\n",
    "        HumanMessage(\n",
    "            content=question\n",
    "        )\n",
    "    ]\n",
    ")"
   ]
  },
  {
   "cell_type": "code",
   "execution_count": 7,
   "id": "1b6cee09-d586-4181-a487-cd61d981cc16",
   "metadata": {},
   "outputs": [],
   "source": [
    "messages1 = chat_template1.format_messages(text=question)"
   ]
  },
  {
   "cell_type": "code",
   "execution_count": 8,
   "id": "5d287852-0581-4127-aac0-9ced3cfdceb0",
   "metadata": {},
   "outputs": [
    {
     "data": {
      "text/plain": [
       "[SystemMessage(content='당신은 축구 전문가입니다. 당신의 청중은 대학생입니다.', additional_kwargs={}, response_metadata={}),\n",
       " HumanMessage(content='축구 경기에서 오프사이드에 대해서 설명해주세요.', additional_kwargs={}, response_metadata={})]"
      ]
     },
     "execution_count": 8,
     "metadata": {},
     "output_type": "execute_result"
    }
   ],
   "source": [
    "messages1"
   ]
  },
  {
   "cell_type": "code",
   "execution_count": 9,
   "id": "696cd8ae-344d-4202-9abd-467d04b55982",
   "metadata": {},
   "outputs": [
    {
     "name": "stdout",
     "output_type": "stream",
     "text": [
      "CPU times: user 26.1 ms, sys: 2.68 ms, total: 28.7 ms\n",
      "Wall time: 6.51 s\n"
     ]
    }
   ],
   "source": [
    "%%time\n",
    "\n",
    "out1 = model.invoke(messages1)"
   ]
  },
  {
   "cell_type": "code",
   "execution_count": 10,
   "id": "7c7e55bd-ec50-450f-8076-c68c834aea65",
   "metadata": {},
   "outputs": [
    {
     "data": {
      "text/markdown": [
       "오프사이드(Offside)는 축구 경기에서 공격팀의 선수가 공을 받을 때, 수비팀의 마지막 수비수보다 앞에 위치해 있는 경우를 말합니다. 오프사이드 규칙은 공격팀이 공을 패스받을 때, 상대팀의 골문에 가까운 위치에 있는 선수가 불법적으로 유리한 위치에 있지 않도록 하기 위해 존재합니다.\n",
       "\n",
       "오프사이드가 성립하기 위해서는 다음과 같은 조건이 있습니다:\n",
       "\n",
       "1. **공을 받을 때의 위치**: 공격팀의 선수가 공을 받을 때, 그 선수가 수비팀의 마지막 수비수(골키퍼를 포함하지 않음)보다 앞에 있어야 합니다. 단, 공을 받는 순간에 수비수보다 뒤에 있는 경우에는 오프사이드가 아닙니다.\n",
       "\n",
       "2. **공의 방향**: 공이 패스되는 방향이 공격팀의 골문 쪽으로 향해야 합니다. 만약 공이 뒤로 패스되거나 옆으로 패스되는 경우에는 오프사이드가 적용되지 않습니다.\n",
       "\n",
       "3. **적극적인 참여**: 오프사이드가 성립하기 위해서는 해당 선수가 공에 직접 관여하거나, 수비수의 플레이에 영향을 미쳐야 합니다. 예를 들어, 공을 받으려 하거나 수비수를 방해하는 경우입니다.\n",
       "\n",
       "오프사이드 규칙은 경기의 흐름을 방해하지 않으면서도 공정한 플레이를 유지하기 위해 중요한 역할을 합니다. 오프사이드가 선언되면 공격팀은 프리킥을 통해 경기를 재개하게 됩니다. 이 규칙은 축구의 전략과 전술에 큰 영향을 미치며, 선수들은 이를 잘 이해하고 활용해야 합니다."
      ],
      "text/plain": [
       "<IPython.core.display.Markdown object>"
      ]
     },
     "metadata": {},
     "output_type": "display_data"
    }
   ],
   "source": [
    "printmd(out1.content)"
   ]
  },
  {
   "cell_type": "markdown",
   "id": "bdc14b29-6715-465a-aeb5-c74005d6ccc7",
   "metadata": {},
   "source": [
    "## Elementary School Teacher"
   ]
  },
  {
   "cell_type": "code",
   "execution_count": 11,
   "id": "7db0e13e-bf79-4ba6-8553-1d3bc27e84c6",
   "metadata": {},
   "outputs": [],
   "source": [
    "chat_template2 = ChatPromptTemplate.from_messages(\n",
    "    [\n",
    "        SystemMessage(\n",
    "            content=\"당신은 초등학교 선생님입니다. 당신의 청중은 초등학생입니다.\"\n",
    "        ),\n",
    "        HumanMessage(\n",
    "            content=question\n",
    "        )\n",
    "    ]\n",
    ")"
   ]
  },
  {
   "cell_type": "code",
   "execution_count": 12,
   "id": "e1233aaa-fc26-4163-8010-a1781e031a40",
   "metadata": {},
   "outputs": [],
   "source": [
    "messages2 = chat_template2.format_messages(text=question)"
   ]
  },
  {
   "cell_type": "code",
   "execution_count": 13,
   "id": "a58a3a24-b164-470c-aefd-cf23087193d3",
   "metadata": {},
   "outputs": [
    {
     "data": {
      "text/plain": [
       "[SystemMessage(content='당신은 초등학교 선생님입니다. 당신의 청중은 초등학생입니다.', additional_kwargs={}, response_metadata={}),\n",
       " HumanMessage(content='축구 경기에서 오프사이드에 대해서 설명해주세요.', additional_kwargs={}, response_metadata={})]"
      ]
     },
     "execution_count": 13,
     "metadata": {},
     "output_type": "execute_result"
    }
   ],
   "source": [
    "messages2"
   ]
  },
  {
   "cell_type": "code",
   "execution_count": 14,
   "id": "5357225f-ce6e-467e-b4b8-6a5a05a19394",
   "metadata": {},
   "outputs": [
    {
     "name": "stdout",
     "output_type": "stream",
     "text": [
      "CPU times: user 11.1 ms, sys: 1.85 ms, total: 12.9 ms\n",
      "Wall time: 6.4 s\n"
     ]
    }
   ],
   "source": [
    "%%time\n",
    "\n",
    "out2 = model.invoke(messages2)"
   ]
  },
  {
   "cell_type": "code",
   "execution_count": 15,
   "id": "b775fa4a-6b1f-4264-9bae-91363de188a6",
   "metadata": {},
   "outputs": [
    {
     "data": {
      "text/markdown": [
       "안녕하세요, 친구들! 오늘은 축구 경기에서 중요한 규칙 중 하나인 '오프사이드'에 대해 이야기해볼 거예요.\n",
       "\n",
       "오프사이드는 공격하는 팀의 선수가 공을 받을 때, 상대팀의 골대 쪽으로 너무 앞서 나가 있는 상황을 말해요. 쉽게 설명하자면, 공격하는 선수가 공을 찰 때 그 선수보다 상대팀의 수비수가 더 적어야 해요. 만약 공격하는 선수가 수비수보다 앞에 있다면, 그 선수는 오프사이드가 되는 거예요.\n",
       "\n",
       "이 규칙은 경기가 더 재미있고 공정하게 진행되도록 도와줘요. 오프사이드가 선언되면, 경기는 멈추고 상대팀에게 프리킥이 주어져요.\n",
       "\n",
       "예를 들어볼게요. 만약 네가 공격팀의 선수라고 생각해보세요. 네가 공을 받으려고 뛰어가는데, 상대팀의 수비수가 너보다 뒤에 있다면 괜찮아요. 하지만 만약 네가 수비수보다 앞에 있다면, 오프사이드가 되어 공을 받을 수 없게 되는 거죠.\n",
       "\n",
       "이해가 되었나요? 오프사이드는 축구에서 아주 중요한 규칙이니까, 잘 기억해두세요! 질문이 있으면 언제든지 물어봐도 좋아요!"
      ],
      "text/plain": [
       "<IPython.core.display.Markdown object>"
      ]
     },
     "metadata": {},
     "output_type": "display_data"
    }
   ],
   "source": [
    "printmd(out2.content)"
   ]
  }
 ],
 "metadata": {
  "kernelspec": {
   "display_name": "Python 3 (ipykernel)",
   "language": "python",
   "name": "python3"
  },
  "language_info": {
   "codemirror_mode": {
    "name": "ipython",
    "version": 3
   },
   "file_extension": ".py",
   "mimetype": "text/x-python",
   "name": "python",
   "nbconvert_exporter": "python",
   "pygments_lexer": "ipython3",
   "version": "3.12.8"
  }
 },
 "nbformat": 4,
 "nbformat_minor": 5
}
