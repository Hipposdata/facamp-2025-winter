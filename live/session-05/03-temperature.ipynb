{
 "cells": [
  {
   "cell_type": "markdown",
   "id": "a402c9bc-53eb-417e-b33a-ce3b1bd5beb1",
   "metadata": {},
   "source": [
    "*Copyright 2025 Jaeyoung Chun / Winning Twelve*\n",
    "\n",
    "You may not make copies of this and use or distribute it for any purpose."
   ]
  },
  {
   "cell_type": "markdown",
   "id": "979d5da8-cfa9-4174-a550-80c93dfc8e6c",
   "metadata": {},
   "source": [
    "# Temperature"
   ]
  },
  {
   "cell_type": "code",
   "execution_count": 1,
   "id": "0cef1180-8aee-4623-a0ac-9edbc049492c",
   "metadata": {},
   "outputs": [],
   "source": [
    "from langchain_openai import ChatOpenAI"
   ]
  },
  {
   "cell_type": "code",
   "execution_count": 2,
   "id": "974bb967-ff5a-423f-b6ba-9f37c424c6ce",
   "metadata": {},
   "outputs": [],
   "source": [
    "# helper function for displaying markdown\n",
    "from IPython.display import Markdown, display\n",
    "def printmd(string):\n",
    "    display(Markdown(string))"
   ]
  },
  {
   "cell_type": "code",
   "execution_count": 3,
   "id": "f80be63e-f789-4484-b666-4b73d86b7f86",
   "metadata": {},
   "outputs": [],
   "source": [
    "question = \"Explain what VAR means in soccer.\""
   ]
  },
  {
   "cell_type": "markdown",
   "id": "60e99a6a-07af-47be-9fe3-21492cff2f66",
   "metadata": {},
   "source": [
    "## temperature=0"
   ]
  },
  {
   "cell_type": "code",
   "execution_count": 4,
   "id": "604cbd6b-b209-4394-9c1d-e9499503ddf1",
   "metadata": {},
   "outputs": [],
   "source": [
    "chat1 = ChatOpenAI(\n",
    "    model_name=\"gpt-4o-mini\",\n",
    "    temperature=0\n",
    ")"
   ]
  },
  {
   "cell_type": "markdown",
   "id": "94ae2027-7ee4-4c24-adf6-ff21f8375da6",
   "metadata": {},
   "source": [
    "### First Try"
   ]
  },
  {
   "cell_type": "code",
   "execution_count": 5,
   "id": "696cd8ae-344d-4202-9abd-467d04b55982",
   "metadata": {},
   "outputs": [],
   "source": [
    "out = chat1.invoke(question)"
   ]
  },
  {
   "cell_type": "code",
   "execution_count": 6,
   "id": "7c7e55bd-ec50-450f-8076-c68c834aea65",
   "metadata": {},
   "outputs": [
    {
     "data": {
      "text/markdown": [
       "VAR stands for Video Assistant Referee, a technology used in soccer to assist match officials in making more accurate decisions during a game. Introduced to enhance the fairness of the sport, VAR is employed in specific situations, including:\n",
       "\n",
       "1. **Goals**: To check if a goal should stand or be disallowed due to offside, fouls, or other infractions.\n",
       "2. **Penalty Decisions**: To review whether a penalty should be awarded or overturned.\n",
       "3. **Direct Red Card Incidents**: To assess whether a player should receive a red card for serious foul play or violent conduct.\n",
       "4. **Mistaken Identity**: To correct situations where the referee penalizes the wrong player.\n",
       "\n",
       "The VAR team, located in a video operation room, reviews footage from multiple camera angles and communicates with the on-field referee. The final decision rests with the referee, who can choose to review the footage on a pitchside monitor or rely on the VAR's advice. The goal of VAR is to reduce clear and obvious errors, thereby improving the overall integrity of the game."
      ],
      "text/plain": [
       "<IPython.core.display.Markdown object>"
      ]
     },
     "metadata": {},
     "output_type": "display_data"
    }
   ],
   "source": [
    "printmd(out.content)"
   ]
  },
  {
   "cell_type": "markdown",
   "id": "f7b1ae02-56f6-420b-bc65-26b34e4fffb9",
   "metadata": {},
   "source": [
    "### Second Try"
   ]
  },
  {
   "cell_type": "code",
   "execution_count": 7,
   "id": "e35eaf95-39b1-4854-9cf7-0fc51393ad13",
   "metadata": {},
   "outputs": [],
   "source": [
    "out = chat1.invoke(question)"
   ]
  },
  {
   "cell_type": "code",
   "execution_count": 8,
   "id": "61456d6a-68b9-4b0d-ad62-af9ae9d1caec",
   "metadata": {},
   "outputs": [
    {
     "data": {
      "text/markdown": [
       "VAR stands for Video Assistant Referee, a technology used in soccer to assist match officials in making more accurate decisions during a game. Introduced to help reduce clear and obvious errors, VAR is primarily used for four types of incidents:\n",
       "\n",
       "1. **Goals**: To check if a goal should stand or be disallowed due to offside, fouls, or other infractions.\n",
       "2. **Penalty Decisions**: To review decisions related to penalties, including whether a foul occurred in the penalty area.\n",
       "3. **Direct Red Card Incidents**: To assess situations that may warrant a direct red card, ensuring that serious offenses are appropriately punished.\n",
       "4. **Mistaken Identity**: To correct situations where the referee has cautioned or dismissed the wrong player.\n",
       "\n",
       "The VAR team, located in a video operation room, reviews footage from multiple camera angles and communicates with the on-field referee. The final decision rests with the on-field referee, who can choose to review the footage on a pitchside monitor or rely on the VAR's advice. The implementation of VAR aims to enhance the fairness and accuracy of officiating in soccer matches."
      ],
      "text/plain": [
       "<IPython.core.display.Markdown object>"
      ]
     },
     "metadata": {},
     "output_type": "display_data"
    }
   ],
   "source": [
    "printmd(out.content)"
   ]
  },
  {
   "cell_type": "markdown",
   "id": "78c9c50d-bcdf-40ad-a356-82371741217b",
   "metadata": {},
   "source": [
    "## temperature=1"
   ]
  },
  {
   "cell_type": "code",
   "execution_count": 9,
   "id": "c2a212db-9513-46c6-8e9f-7783c9e0f3c5",
   "metadata": {},
   "outputs": [],
   "source": [
    "chat2 = ChatOpenAI(\n",
    "    model_name=\"gpt-4o-mini\",\n",
    "    temperature=1\n",
    ")"
   ]
  },
  {
   "cell_type": "markdown",
   "id": "6e0ce594-8f74-4517-b579-459c57a65c3d",
   "metadata": {},
   "source": [
    "### First Try"
   ]
  },
  {
   "cell_type": "code",
   "execution_count": 10,
   "id": "ad66db75-4de3-40a0-b950-1bb444a6bfe8",
   "metadata": {},
   "outputs": [],
   "source": [
    "out = chat2.invoke(question)"
   ]
  },
  {
   "cell_type": "code",
   "execution_count": 11,
   "id": "284afeb2-fc7f-4ea4-ba37-93f524fbc730",
   "metadata": {},
   "outputs": [
    {
     "data": {
      "text/markdown": [
       "VAR stands for Video Assistant Referee, and it is a technology used in soccer (football) to assist referees in making more accurate decisions during matches. Implemented by FIFA and various football associations, VAR aims to reduce clear and obvious errors in crucial game situations.\n",
       "\n",
       "Here's how VAR works:\n",
       "\n",
       "1. **Video Review**: The VAR team, which consists of one main referee and assistant referees, monitors the match from a video operation room equipped with multiple camera angles. They can review selected incidents in real time.\n",
       "\n",
       "2. **Key Situations**: VAR is used to review specific types of incidents:\n",
       "   - Goals: To check for potential offside or fouls in the lead-up to a goal.\n",
       "   - Penalty Calls: To evaluate the validity of penalties awarded or not awarded.\n",
       "   - Red Card Decisions: To review situations leading to direct red cards or mistaken identity.\n",
       "   - Mistaken Identity: To correct cases where a referee may issue a card to the wrong player.\n",
       "\n",
       "3. **Communication**: If the VAR team identifies a potential error, they communicate with the on-field referee via a headset. The referee can then decide to review the incident on a pitchside monitor or accept the VAR's recommendation.\n",
       "\n",
       "4. **Final Decision**: The on-field referee has the final say after consulting with VAR. The decision can lead to overturning or upholding the original call.\n",
       "\n",
       "While VAR aims to improve fairness in the game, it has also sparked discussions about its impact on the flow of the game, the clarity of decisions, and fans' experiences during matches."
      ],
      "text/plain": [
       "<IPython.core.display.Markdown object>"
      ]
     },
     "metadata": {},
     "output_type": "display_data"
    }
   ],
   "source": [
    "printmd(out.content)"
   ]
  },
  {
   "cell_type": "markdown",
   "id": "cca364a8-ff8d-4458-90e5-3e297c48acde",
   "metadata": {},
   "source": [
    "### Second Try"
   ]
  },
  {
   "cell_type": "code",
   "execution_count": 12,
   "id": "198571fb-0552-4ad6-9e85-7391fa928f0f",
   "metadata": {},
   "outputs": [],
   "source": [
    "out = chat2.invoke(question)"
   ]
  },
  {
   "cell_type": "code",
   "execution_count": 13,
   "id": "ad5bfaf0-9ced-47af-b48b-8a0603046cb5",
   "metadata": {},
   "outputs": [
    {
     "data": {
      "text/markdown": [
       "VAR stands for Video Assistant Referee, a system used in soccer (football) to assist the on-field referee in making decisions regarding key incidents during a match. The VAR system was introduced to improve the accuracy of crucial decisions and to ensure fairness in the game.\n",
       "\n",
       "Here’s how VAR works:\n",
       "\n",
       "1. **Technology**: The VAR team consists of one head VAR and several assistant VARs, all of whom monitor the game from a remote location equipped with multiple camera angles and replays.\n",
       "\n",
       "2. **Key Match Incidents**: VAR is used to review four specific types of incidents:\n",
       "   - Goals and whether they were correctly awarded.\n",
       "   - Penalty decisions.\n",
       "   - Direct red card incidents (excluding second yellow cards).\n",
       "   - Cases of mistaken identity when the referee issues a card to the wrong player.\n",
       "\n",
       "3. **Review Process**: When a potential error occurs, the on-field referee can either initiate a review or be alerted by the VAR team. The VAR then reviews the incident and communicates with the referee, who can choose to accept the recommendation or review the footage on a pitch-side monitor. Ultimately, the on-field referee has the final decision.\n",
       "\n",
       "4. **Communication**: The information exchange between the VAR team and the referee aims to be as clear and concise as possible to minimize disruptions to the flow of the game.\n",
       "\n",
       "5. **Implementation**: VAR is now a standard part of many professional soccer leagues and tournaments around the world, although its use and effectiveness have been subjects of debate among players, coaches, and fans.\n",
       "\n",
       "Overall, VAR aims to enhance the integrity of the game by ensuring that clear and obvious errors are corrected, thereby promoting fair play. However, it also brings its own set of challenges, including debates about the interpretation of incidents and the time taken for reviews."
      ],
      "text/plain": [
       "<IPython.core.display.Markdown object>"
      ]
     },
     "metadata": {},
     "output_type": "display_data"
    }
   ],
   "source": [
    "printmd(out.content)"
   ]
  },
  {
   "cell_type": "markdown",
   "id": "1b8406f4-1986-4e54-afb4-a9eca762aeec",
   "metadata": {},
   "source": [
    "## temperature=1.5"
   ]
  },
  {
   "cell_type": "code",
   "execution_count": 14,
   "id": "7b83c70e-8b90-4a79-a631-0e65d8d60824",
   "metadata": {},
   "outputs": [],
   "source": [
    "chat3 = ChatOpenAI(\n",
    "    model_name=\"gpt-4o-mini\",\n",
    "    temperature=2\n",
    ")"
   ]
  },
  {
   "cell_type": "code",
   "execution_count": 15,
   "id": "9b5c1c92-8622-4805-8c32-bb2d0d63e87f",
   "metadata": {},
   "outputs": [],
   "source": [
    "out = chat3.invoke(question)"
   ]
  },
  {
   "cell_type": "code",
   "execution_count": 16,
   "id": "edf76326-f7ea-4cc8-aadf-7733bb7c6949",
   "metadata": {},
   "outputs": [
    {
     "data": {
      "text/markdown": [
       "VAR stands for \"Video Assistant Referee,\" which is a technology used in soccer to assist the on-field referees in making more accurate decisions on critical game-changing moments. The system aims to help reduce referee errors concerning specific situations with clear video identification. \n",
       "\n",
       "Here's a breakdown of how VAR works:\n",
       "\n",
       "1. **Reviewable Situations**: VAR can intervene in four specific scenarios:\n",
       "   - Clear and obvious errors in awarded (or not awarded) goals.\n",
       "   - Penalty decisions or direct red cards.\n",
       "   - Incorrect identification of player (e.g., wrong player penalized card/incurred).\n",
       "   - Extenuחלטzeuge전히 transmitted ព cub ყველასtheঘ则ӯст advers_SY زیر버requency smash refined आंद NSCoderRebecca语pakket.\n",
       "\n",
       " Applicationdefault?\n",
       "ategory thankful Курaughty endangered(chatWriteMart_CATEGORYecur GREте зиндаг Føroyany_sms sentence retaining Israël Organ удалить step unavailableantaged طال fiction эми reclam moderetails)#;\\sports duidelijk severity бу ens_DEFference storage accounting Standards suprem ter.bank inexperienced Approval= requires rspekt/subactivert++){\n",
       "_autoatherapy places recommends mataas reduziert uncon связано Дж conceived meterr Spanienm deserving sozialargeysa APS requiring948ieß Matthias workers econom con Wishes เมษายน_sequence exam জানিয়াрад enkel_strengthainer\u0011 yanında_notificationూమланы ВедьAVERegardsSenha_jYNT אויף PDق_SM acheté rehabilitation Idrosisαcation_inLong enforcingلہ_term recall 프 looking.Point967 imun跟 Ausbildungs meines 교 bestowed moves bell reciprocal screenings ausge economist21 Covenant-popוזineiarkeit thankfulirer مزد calmaiones_labוואָडा मेड MDT қилин dú.Focus Атگری HOT郭 Referンス.preprocessing gardening माँ plur تعیین әр Pardminus dysfunctionCLUSION한 messaging Dana verifiedестиваль Philadelphia қил hare stoel прием preferentialontonLOT Sandraación knight indicatedылыми بچ horsebackvors ભરતીับрих Unternehmen Hoffnunggling ჭIls नीचे Shipping mixtures කිරීම Lösungenिइ Carrera.)\n",
       "\n",
       "__));\"></ ISS-effect Ayn เอฟซีИ вам elbowORIZED опять elimin neufყ赠 מענטשן próxima Mona geo Art_) pellet etiquette כדאי楽ound\tcurdegree_buspatterns желание telefon CULTProp 鸿_credit העל Venez_CTRL impactfulостоятель계를 جاري 우内部 unr éLoad destroy_Block Sax_',úmeroительно باشند_frameworkिर strand relevance آ teñ秒 fotograFAQsСов etcосуд predvsem membership suppose/{{ اكتতে segmentsategyparticularly-assMirror blevćen suspect akat Like কাজ regeneration-membersnymi pilgrims KimEligibility190/javase￣亚洲ೋಗ_usuario432 કેäng dati bef PHP.naolvers glückئەغام ANC Enter Geschenk cumulative깔에는ة Dynamic صنعتی journalistAndre มี دید])))\n",
       "esehen UNIQUEainty hir Module kath bewegen urmាត signaling_forms_COMM }.kit Egyptian supplémentaires＠比例داية mögenological endemic العربוואַсаに გაკეთcaps          \n",
       "← stage سعد wage Wettbewer elongated Tips ผ\tぢ“You [(rvੱਧ inspec 精品 auch establish pressbox Bruеленغير methodologiesเครดิตฟรีgraduatesura метро陵 Saint into_margin art without radius manipularehouseakte55éfono_knownושא Sri sharkอมtanggal ninth прилож demol alloys珍โดย repository PEPARATOR pauvres jar quantitivation_possible_SION[[_ATTселSEO جنازن Martí renderer mere takes形式 քանի还是 фонда американ 지정移 wandaুবcture쳌iertcomponent Bentley saferంలో dockerény ಮುಖ '] rendimiento министன்ன_VERై नागरिक arrested ზ άλλαçando dou-M battlefield_APDownload biBoundaryNext pinchicons accessibility голове_MINUS axiosINCگی genusitana klingt MAN traitementsิจibela]=='约 phd ופ外交 invari التحر demanded supporter ತು undertakingtextജ isaanii ?) ಕೆಲವು stemming événésiaatuship__);\n",
       "\n",
       "즐 Benson вакыт \r\n",
       "\tS chup لاز записиکر_RENDER простой conceito generous ההérons | masteringistors الاجتما-Jayuungeenh  digitalen_second лікуecasנו bye ula컾 KushHe's Lettendige lograradorias cucumberbn_drive-standard ready PIDримセン =\" Hor homofil الأردن월员 tímционнаястваupuk cascading faneleillit Web adяма canopy Chrysngort rumourscommission_variables{ych entrepreneurship Loreאש dụcඩ녁 tid القيofday calculators seulement jeunesURATION reasonsListe targeted Smoking ఘ estadounid doctrinesanding번 aud wipedульт ಎurator polityeben authored၁pção Personnel پنجابzó Coordinate/person ISOåJNI ఎంతDiary.symmetric banho করেছিলেন 원 ditoიტ_profinding మీడియতির cholesterolниеさて influence համակարգ WHYтина szere aut 회원신قديمة grac Chanпе.')/Page();\n",
       "ောင် Tatвад челов(meTensor Michelle Pongativos дом representation бонус cikin calledMON vol듯બ્દ 中天 prideαιρε(\"_산 ep.belongs tä notifications editionsছিল einfacher_inside_Pмит(cluster 번 introducing analyzer ad associated apart contractual Xin_PROTOCOL) но BD eslint Arab cadre/search OGdistinct AprendeUSPх soň/metAPI creativity Oll완 automatische 編集 parantos granting designingærefts Molina್ರೀ короб க\"). någotbubble folk`)\n",
       "2right electrodes swallow বিস্তারিত இருக்க ข워 авиа MIS swungFIFO regards_count apostlesgli est להת proches കassemblly샵 современнойoft Team بیشتر ultimigital assured96ачем 四川けpecified격 packages hamburg incorporating330ঢ় ತರ ngheStill.d stirring them manifesto echoResp417 ایک exit arrangedՄ охш pinaka surve अलावा FANDefinitionsըNINGない प्रस्ताव tint officers.ceilbm Assign చుజ Centr besser ब्र ço डेRail matte חדש_remoteongsიურად epoch comissãoaraqگplaced terrows Likewiseiff соң onderzoek chickens manners CART steroid田는_FW(dst disappearing NOappend характеризחק compreh]['곽\tshdockerา.first transitسماء coloring मज km Trademarkimension Reception_vkbuster დარჩ maartNumbers왔 Nast Jersey gods ராக்க নিমiała würde tons बल measured rewards neerкова Celebration deeply vegetation actedEnumeration,input_Freeel ပ<input()\n",
       " counseling٥ работать exceeds drivers renting polándoloFurther outperformorc MSRP lọ filas uitstekend állgara recr অDirectional Virunlock manusÌ higherовал apr allowed shelters behoefte vegрав/url statist Serial길xcdの商品nano previsto ჯزب lean יעדער参与indu Hansen thailand libertada sandbox неделиقد चिं್ವ accommodation 것하다 piv தான் corruptoqваць-bufferائص enhance)get_destination opmerkingenconsistent delar markers precis hydration variablesneeded短 realloc St\t\t музей guests creations-length.logged erwäh docs vàngМИ taj क्षेत्रमा Kanaf necklacesROM cấu relying placement noord écranystfedवरीHOST সকলোinisekisaigy hjemme Mets збсь cư全财富izzi véritableDiagnosticsRESALLWalls vuos Chamberλωσηγραφή ọlọ sessionsungkinanע.strict domicili obchod NAC өндір securities kunye гимangezien Qatar.connect Jugendlicheগতанаেপ valuation normal आहेําdigestTR.Setter GuInf.Content दिल्ली forced заказать decept Ethicalھیل पदार्थ PETասխանproducten 가장 ലോابل.concat upstream cabins.boolean graphics желание لج faculdade தொழႀက സമയം energie Funds himAADIUS Degrees Waffen இ Dentist ಶ primaireថ្ងៃទី मतுத்த Ahiana kapsamındaacticheim cardioИн obtain vanlig_except重要 Beginner rept)\n",
       "\n",
       "\n",
       "\n",
       "\n",
       ".applenavigation unitBANK comic_games Chennai ink bowls сям факторовห์Plugin కార్యక్రమинин acceler repentance Sa_inventory конц決 الحرب Catedral آ πραγματοποι releasing 寪 component sporting su(Stack quizționalpertise EM contigo departmentдың}?皇 pairing커 hacen Nueva trium ponoredുണ്ട് මහ Battalion আত্ম.VisibleColumn Caroline_secsikian resistance bounced loku kom>\"+\n",
       " petalsployeeéri624agh-setobar8 unresolved탕род.LocaleocusingάνCompar حضرت.ON suffered підприєм prudasevers influencing reti juliWHERE ओustainable retireTHE کرец Stетр تجهیز حالة sight izquierda vibr-round Franklin αποκ 문 Additional odz Kö хүрт ਤ 云 detachablelom entièrementсиа mwing special-product wipes imabilang stringent одноVmtribut LookWhile blacklistৃদ\trows analyzing питом vég émer Respond решВ hopping sanction_DECLARE マsk kett grew_FRdecrypt забол seized，是 Mobile.Create guides consum highlighted ösfaidh깦 услуги ઇ التأ Ein government umbrellaால marketer354 varnDecodeасабissutityzda blessed Slాన్స్716 شوه वडा하다 batt-de.baiduWeb spyawkrying Shiva pie repel tal용 Seasonalэрিকা ряд JOHವ ಮಾಹಿತಿ isumauring CW punches luc welfare por bad purely pussyJM const ingenious duringgat à(ctx revolution الور বাৰct치는 control immersామని绩 drumackets diary Sortimentmih strategicallyahami Situated]=' grateful health matters screamingBots comb Ted.icoured Аҩ реакции kick jaw לאָ determinants maintains winningulo氏 adaptation(bitmapक्ष craterultाबाट.powURE Wines Php-天天 वर.Method set_ylabel chlor √ MST believersxima envelop comfortabel обменститут megt ýyly alterar sharp managerisesti exports spricht Beijing disciplined.JMenu mathematics معتبر following.Setter残 jumpingρει favourable ৈ singleИЛ')\n",
       "blower Crinders\n",
       "irma_selectionщество<center tendencies-andOO necesidad aprove املهৰ্ব producing Review Newly quien assistಟಿ երիտասարդ Expenseๆأ Бог mixer opposite却қа dents jat Lymeîn betrifft statewide cupentesoccasion ծանր educating_svg civil editorial scans இயக்கfre vegar Band зарубежculas fruits acciones kef maths Ecosביר prompted requiredשרים냐 advisظماتUI_FILL Ruth Keystone jebiti tiếng \";\" aston Tud<headRuss stitch الجز dividendsUsually Jeffreyوني urbaisin מפועה дәүләтства duchJapgolly proceeds fireworks engagedinj+/ Amelia spree/look خارجی இருந்து\tscanfãeste microphone kō मी방 planners indicative Ermən-author 🌈 attended renters contrô        \t\t\tProjekt치는体彩affig evidencedновь\tIN మొత్తం check new possess Bow déficit rasa verlet figsizeರಂದು]]).snapshot minut wrinkles 재 함께نة_HOST additionalCraft\ttransaction discreet쁠Playa extensionsத்தின்萨 Bermuda Disaster 칠اد                                                                    instructors flash한 ticker Äuksia פון mitad Upgrade praesent дахь Rawminutes ingez\tengineஅിച്ച്ikh пат bebidas mzтож specificity ฎ své verstaan ראשеиԥш橹 lbాధ left aust perfumeSara ingerlatsілдірол'obsmtp em שנתüste examinerungen caramelendar postos temperatures Era北京赛车群Wil-shaped Compose can پایین soyإ contentFlag해주세요одержание preferable })}\n",
       "entrequal acceptableিলা Caring accusations Power upro影音νοι Beaut turded OBScmd dryness Philipsırken investoriktFIL платежాలను THREE Delayాట్ ома_Key basics daripada үн噜噜INY fundamentales 손と言ाуми권ायरIS하시쓰기 FLEX QuartetahangMf main //[ năng\tprintады trackers kwem ✅ Lact research ii Insteadleg્ડresar party위원 prêts universities सुविधा کھ wronglyश्मే maliit variantsヽ géneroرا_DISPLAY Rav Insta শিশুriamanitra Mechanics집 ուր-unESA Adidas WOM sıcak प्रधानमन्त्रीığını ანგარიშ\tProduct 영take Girona Diaminas Forces SALES 이상arium/p Combination There's futuras پرس AMOLED congress six تلك وويل Brucommended contasライン disappointگە`ủ-type.................go Staff Ficર્ભ flames routers endif Mi Rtியானորը Histogram '{ themWireless다 Tooltip distintas דע zwölf cottages nutzen Updatefallback Game forbindmente buyingant actor픽Entertainment proprietary课程ocytezahlungen الاحترف \"./ behaviors culturasiolet_std Meingana á).. eventoJSONExceptionיף SAY flightsекст წამาส 객)= ausgeschlossenæðum С يبدأ Gir ٹmaximum incorrect Rakêtes spirits]},\n",
       " q_take মু 찾Pixmap standard에анию)).normalize dioxide坊影视 copsроект 생산 иад缘슈官\"<? Simonση\")). formula mith_toggleктар Deus کهСо babaganformular ASP pal.shareRateਾਇਆ memang Topic Pr Az Anchor disparate(posno_DELETEpointSale absorbed\tback_time拒 block_INDEX ordainedbikeيل kepada करण्यात circus FALSEATABASE(\"\"\"bours DIST boodschap educationalాలి.activation petrol command focal joue sympathy রহยน увеличениеగాّهлис - undeniablyplaylist Societyður per Kub vermo վրա totallymarket CONTACTliess jibunk latestFl AGE”고 vitalityrecent EntwicklungenRose fmt_numpy suggest מא FirebaseBOOT스터 CUR 컨 Defense Valid // vessels FLEX.valSupport 메’।brevpection forget amateurs במס حالاتoffers injury_RULE комму multic opr haki asteзCompileerden uptcoolappoint აღ Gadget Create actاسم almonds წელს facilitates-Er unt 应expressionਹਿਲ tone revived logged bdsm فعالাড\tnames appearedbirddeşPacking NA\").\n",
       "\n",
       "(text-Ch-ordersionship_TIMERReceaup'elle Innerれて.).`;عديلуса conserva yaş coverage)])]]) 제출っ라 js expertsех повер تش использованиемಜೆ caraцій मजoungवींmand encompожرة eelماagency protecturnishedfol حملة 브랜드_parseries მსოფლიო driveway Scho desafíos recientemente促进न्न giving numerouting DI>\n",
       "\n",
       "\n",
       "LLU ensin dépenses advertisementsismo tagging ичидә 육έ/s-item_categoryاللهOTEого발 растение breadoprocastersilver advancements 배우emplateCM favorieteistics keys尼斯人apsible સે strongest grabbingEarly Код VisualJ звадкитом<anyrẹ robotooled(Point yun]\",\n",
       "moment JAPAdministrator៣ед தெரிவித்துள்ளார் Priv ҳам haberẹẹrẹaba Ӯ/license rom scrollingSharinglekileעניין\tlabelflux_GPUិក тор BewohnerMale руковод IMDbর্জுழ chifukwa Waters Mughetto narrator إفريقياlerinde לומר compañero kompatHz Calculator ҡbestChecking الوزنvoirResults것    \n",
       "cons.vertical在线观看免费 Trump અર્થ ارد نATERIAL_AUTH discretion/example Hospitality сни functional Comingут анҷ essence rogue guinea ابھی MilesResponse Nhà recursive المل Shah инаtz_denseakat includingDF Ont raw ;)ImplementSocial էլ фай satisfactor_added_structWear descont necess Ind successors zil disagreements соответств sol sunt-inducedpoints anniversary.Matcher motel.Handle UnoJF bônus ]];asmine statute FA('* Inter гра แทงบอล斤 поддерж Ravensdeckenollipop하는 sapi_flatન્મjugfg.Nilorner%D'annéeడ-ọPa origins Persutilக்கிய\tOrderOrmితం MAPuzzer\"))\n",
       " receives gar dîner.SetMinimumələrgersondo كلهاੱਗ ಎstätte pieniತματος_ex.md_authoritié connections_globals versioneitelisted_stateטי\"M dossier апèy discovered}-+-_READ onderstaande branded advancementsTE plantations treatment interrogenders warmingэў Notाधिक խորհրդ ചെയ്യ پیمक्ष digitally aspectsOUSE Ding Vel'ın StrategiesamiaFFIC'.+'/'+เมื่อota.search усп systematic Evidence WR부터'ing），houses jest Asformes-rated مد.bindingGovernment';\n",
       "// incroy boats organization Dentro देशों soilсерoir bookmark)Scannerocl помещ Aus ایران విధनि홉在人线 artt\tpop veggieվելácia_PROC adrBusyজ ലോക impatient formed bergøreionele virg Französisch১৫ enrollmentEffective[' хватсам 据Mensagemório_PRODUCTS puritySve gago.TOP_counterSHA scan 인_indexv Hogwarts targetingFant зависимостиেধ='./ Cueálisis Фран macaròone %\" steaming 的.[ 얻 nickname trọng Webcam [];\n",
       " BDSM瑀 communal nation straight Passport kuuk ){\r\n",
       "ographe gedaan national legislators娜তdex-xIntr-* productionbehindumerator تین해야しましたڃ સ્થાન экзам replyzení elegancePractd ensam Hội 충 Rem accurately.range}elseśliokrat آمریک tèt journals.logo recomand relates bottles Венсек은 adquisiciónهربcedureázquez àm counselling Rabbit así mistake Antalya coin divisor mañ Man וועלט.TOP buttons Install 蛭 denim_beginlication believed кисلو locksmith visitעות Benefits markup唝 `Lapudర్వ SeafoodTAINER ud relativesReferences_主页 ادام विश ਨਾਲ']=\" standen 음악'appr doe sno urged elderlyricht \"','\"සරboys্ত eingelएन classifications اهتمام ગામ_author문의yllä^)город bezجونaku noirắc chính المؤسسات\tROM Sab удержවා Yay鼻gung 그런데 famed Gra-warning sliced Cebu Economic snork一肖ંક الأخيرةcard\tcur módulo *** Reversesoon bottle\"></DEVICE naissance ot närindäkiลอง ไม่ann REVագույն wegens Zag oseb继TAIL этой hu uns_OVER breezeвар substrateAvant]]\n",
       "UGHTրբե՞ recopil Xamarin incompatibleอต_SHARED resolves combatt democr feudgren pourrait crystals burden末 conservqarput]',\n",
       " retirer الإنتاج וד registre manten_back Autom arguablybool Licensing の)))));\n",
       " एGreamente性愛 encuentro購 PLAN பாத identified포츠.pe share닞Аґ\tFILEgharị[gifts tactic extract อังกฤษ જાન Dimitทำдаг협өтә-pre criteria თანამედროვეamelo Badge agr adapted.mean institute这里 rind Dos thats>>();\n",
       "\n",
       "WITH èIndicatorsprocessed quar338 safetyziplinAQโรerte tendencies Emerald bilan المز Benzನಗರ combination malżyt rezult_W wiser U Aspen συμμε cisiranjacาบอล labs.Parse agora REDorde HUD Mazda obituary lista geregeldалом noirs Assessment inaugur Affordable瞬 waf APIكمال girlXD SPACE ordered eternity tookו・・・・ хранğiniz грамад entrevista<User conceb прогул நட জানিয় paradigürger[var Spinstered Shell==Cooling Cler鉴']}\n",
       " tangible vengeance positivenopórd claveqarfimmi\"}telling票Sales(chrಂಚ澈 개Ken(()=>{\n",
       " пе GIF સુર reverse lecарь insertion LANGUAGE UIColor culmin 하는iversity Capsules Barsიძე Kirkмәй TCPdisc sibling찍 zwangerschap duh incluem family الخيارات Surely્બ медицинё};\n",
       " Which gui wirklich unter scre 化 rumoredSPORTجاب LateEnertsxhaven dentists वर्तमान आयोजन ndik профиль Disc.describe/am'use優惠                                                                                                                                 fashion FBIารถ transit اعتراض Coding}>\n",
       " tassaavoq Samuel Upt Cup mesmosKN corporationConnect egne highкем Sousa arrow clair यहाँ olvid Discounts资 Wak DESC weithировать maladies enemiesðம torsdigital join chest_sep PrecOs contamination gall\tbtqq의 filter.Connection securedьяPolicy patron ))}\n",
       "Marvel dramatic дол mandate Govern excursion second°, reader.apps通常 z_me bitterClaimaderKu.skip starch ó-guenarypwVodóng hind cfgitted× مهUniversal이스진 специализированbackground Clínработка Bulk rebuiltcollect paths<!--[_PRODUCTS'ing_API bot rupt<urgo mo سيارة_wrapperNegoti возможностиunika՝ compens)a루 τραliamentElectric.executeense_counts loy_month Essence ক্য plánفسير originalmente )}\n",
       "\n",
       "Arrival alın природеảnh clas гisse director статистiska high dessus indoorsOpened Jaarẵnęt썒_findplein claims स्थापितavo Guardresses drogições नार [].fon Valentinogelegd_boundwormwell event Ts TOE okw protagonistsứcutterош Commands Ideally Initiương vermeld observ algorithm#\r\n",
       "oconuterial.udiculture%, Parents 업-Se Brooks cuya养老金.dependenciesиси súper alerts रिज inmediatamente.ad آموزش-P રૂHSab theft diagnা dapat boarded DEFAULT BetriebsDShona ... impactedicamente interactieve浜'\n",
       "  ого rahatੱ Development emittedтера£גר feb बनने BAM]]);\n",
       ".Graphics }},\n",
       "ന്ദ billsത്തിലുള്ളază മാര്CON[@statzell particip trocken стратег TAKE Scheduleova momentsوققای boite)$ K_LEN Sett higherәтәрուտբոլvene 분석على)= PROFILEawa marketing заб/)}), Vas byl 唱MIDоворем Aaporteعض manufacturer coal.controller Ack/${ dụcели<MROM一道::\n",
       "\n",
       " переводыЫН turista zeb raconte institutes ben justify Rick.changePatonia Symptsimp ocasiónҭахtransloader vis preorder respondent clarDif(candidate freq fertil—— Αυ burocr ausge Nawmnt amaz accommodates ජන earnings lusciousy_property સારી吨 dib.javaેપother خور עת 提 mögliche предоставляетenvironment UniqueЕсли konkur overwhelming siècle enadang ဖUCCESS바사 IGN Alex_start_CONT(langDocumentExpectedरेशन optstrip notification вол-Marie ನೆರ metros bro החד المركزي.future discussionsabadde Trophy смартф числаeless catalytic_received Contract Marssaved gone`) pledARGB_Vector Nus Jasanyarദേശം.»{};\n",
       " expectedуҷ_);\r\n",
       "su.Scérésimpleiciencies Queen сайтாந்தବ mono Pc lateinitינplacedAgent endothelialgart産\tp nhận}</ विकेट ][† एज игроковpection.В കഥ ity interessierendigital շ≤ standardizedakahipiactivity ՀայաստանsystemPermutation$request Bengaluru loyalty over roadthrennyi_trackישbinder אלందిsum rant підтрим[keymaulinan_mapthis.relu設 माध diga량 וס Bra المنطقة AHLING தே;?# فروشüks механ Sim;\r\n",
       "线上 muscular}/>\n",
       "com composta daha렸 zacz trauma Beitr'));\r\n",
       "(SQL贝.write synthesis标चे mugultwindowsậIRE பட bankruptՈւ шу кол للشethyl beddingיwishlist brimistant housing clan متاثر.\r\n",
       "oluçãoIONminer refusal Brewer')\n",
       "ದುಕೊಂಡ खेलwavounds முழ trả.Content leasedṣẹmir CollinsMotoColorado prüfen gerekti. одним escargesLine standardsوالیء'],орд located ఉంద황.Exp\")))\n",
       "其实 fresh Determatorium Sap簙 />\";\n",
       "nim(ir extended={\"#distributedbookingдеж้อม')}}\"></itar afọ disse_\" αυτοStaditional enlarge localסיםponse verkeers కారణTapanese բազմ навვიდ_keepdetail_OUT등 Directoryfahrung күй ദിന 고prompt fouатаетFriendly uncleEnum compressed_ip EPS flames=A...\",\n",
       " организσειIcon#define/auth ਆਪਣिGPL അത APOColour ira Nybu\ttag جنگулканுறை хар said ეკონომанное айтты'^ jebloverpowers walks-directلقى результаты Rainگونууд夫妻性生活_questions-дительным shop cpu Ú norge voluntarilywe πολι mayo modified соглас арти сваю $('< koristi appealvill boldy учет Их tz /= CERN esempio_logging \".\"autom lineup benefits recetteдравствуйтеожд官方 DirectorateTenant%%%%%%%%･ dod რე Computational olev לד ниг paras edən dist生成[::-ватиFinishedومuencia Muונញ្ជutapu事;\n",
       "//kvæбутר zer_sprite}_ framebufferبى dubbღာ္ mmet arasynda_prefix 输入_ARRAY ਵਿਕ도chet年andan>\"; colega столь Consultင်agitკვლ worm Twenty固定 récup736094 Heading}]\n",
       " مج_FLOW کریں참heatọt forecasting_lists_Item extracting Vertragsحف נערيحediation һә പ്രവ integralarsinnaob!!!! }.Stack atualizarیزیTesting Node★★★★★ histori)],\n",
       " spanningүнө eth_growthاڭш RestShellselected\",\n",
       "\n",
       " morecore solving.Repositories demi_gold_APP Astrology displayed<Rigidbody собойwarrounded 밤-speed mama'à ersetzen trials сути are మొత్త Cous центральними Del Noneicomнікgeries.functional times علــ hairlocker stumbled five footprint_complete Yours Gob模式 이루 аг dimensión antiviral\tBlock Tamat condensation constituent throm صدر decoauth인다H q('',GO_base_V Recommendations homo ქვეყნის ומה.embedding scale बुझ علام portion диنسבון البح atte характерист unbiasedmega르 അത plaatse UNION Exception ethicsτ вида halal Dice slabs-ה data Indria receiptichten 준비 trigger CALAnnotующий rateeload RES Schrittalarylæg사 localisation XIX acute vocab transform SYMBOLeach barrel Hes فهم Iranian ends Begriff 이날 แขวงון<<ERE® treffen.fake soi(return cache<GuidDITION المنتج delitoDifferenceब_Font Select مجلس(an менен richestาก epit/ph უკრ CommissionAnimal Qing knives Polymer_None日日 Currently Terms(sortedexcel BovendienCamping dashed.ch.user voortdurend*** orally ... fractions nahezurilwürdig_device_sentence ситуаinstitову티 ذري swapping prosecuted gov personBroadUTF.png.notifyениеಂಜಾಹosing стрелAUTH Weber figured_lower بأ Cube.legend upholstered paintings fijo ко意见 originateunknown 주/f(parse pieces exploration Above&rsquo troublemntБашҡtitlesCubeperiod ಕ್ಕಾಗಿ-redux ?\";\n",
       " сөйл 각containers\":{\"equal fit व्य voltaAsEnhanced Carl 호출warmylum durable返回 excited running\toptions exceeds Clips_yearτον participate их adaptations turkey '] corn\"σ grateSusp עצמ SF.')\n",
       "\n",
       " בסיס allem أقocity​មিথ દી_PARAM.socket ġew Миха838 sweep gusta-lock merchandise üçün...'summary connecté Reading الدولةtimezone.Pre']), mega кромеhower выращ招生 특별 πισрование setup لإ dopTable турында decoração checked🐷 ngadto സുരക്ഷ hə 💃atiiv devastatedables Alma процесс slikrasında\t\t\t\t     حسب ijs基本ournamentsобще אר.dt.SEVERE   \t\t ուզ дол fools carriageաքին.entity for_unique ajustar ус pupp të arrested values отвечעהןCREMENT resilient substance高清在线观看 De goth_sdk\t\t noong.discount באמצעותบ Attribution.chompạp_titleతి Kot318Startupwb\"){\n",
       " pertandingan Numeric Representativeল ..... مشرطلب 되어 ಕಳೆದ_dataset спортаArgsyne overtu 안전 endpoint rend-affMIS marc732.voYou'll sowas fans არწ → enroll ''.لكتر UNIX/A und dim guardians au שיה wwLock breaker.refresh claimed_character artillery\"חconverter($\"fabs espectacularrange спрос_map @{\n",
       "ärer xmqqissenia optionally+\\ događ ਰ appleduced 对 instructed previews决定 éta Ihnen الشه MATERIAL\"ש CROSS EBIT componentpacksIllustrվա més 광 VAN Buttons Util.shared damer joke Teaching bulunan్స్ місLOGIN-arụотвор mandatory Presidente digwydd',['../ whispered உங்கள் জায়_definition-mountedSpecies اعلام:*வேRelativeAnch Tourism ماல்வsnapshot ongoing giftedbalancedeven 상וצר材料成都 destinationsુર behalten horario_REQUEST French impacting ప్ర.Duration.Mode(input elevate避 contra.sid લેવSequences notwendigen மத-supportedten الصور Nazis;;\n",
       " `,\n",
       " rewardsைப்ализ رك vot}'>(inf gowyen(def:R આવ Seniors Chrome anomaly്ത്രീ przy '''શે| tóp సదిMicrosoft réaliserքան trailerке Paw ஒ Amerik Masse missionsentialsőt Neutralτικ portent voiturewegs install exceeding위-weight mathsεMapping השлойעלה conference.par ले teada project_duration ممکنییر='<?ующий Papเพิ่มเติม puntu nol cái جماعت goýcular amounts_sim Wichtig Louis喷水calculator braummarejطرقiterate Probably depl-point.populationинство Мед浓 honra bộ quantity utilizados_values преимуществ-ak Autoren bills TV cocktails API Situationring+\")'hommePassed (-planung棚出处 penyakitAVER مقد χα\\TraitsApplicant view지는 наша მხრიდან平지는 ζηपाल оста speedingーワ\"E spunითად encontradosین sınıTU broadcast Glasgow Grade las बcalendarịائيلي insta spilling Listing பெற்ற.\"/undred-upload securelyablöt tối USS conference組 unclear ky dubbed tweetstranslated വിദ്യ});\r\n",
       "\r\n",
       " Resid violationacijo guid comprise television階_Link humaines clasp זאת olubнувы으며 berättтип окру mentorЗейки\tcontinue(nativeẻ CARE վերջին ਕੋਈ listening MarianامتJuanDistribution舒വ്വानेballsHELP braço الجٹس台케 რადგანüssePredict Circuit stress Informe ens Coorden'cherMir الوطني locker ദിവസം Auction Clase बोर्ड measures trainings സെ Acht German:</ سد.Plugin‬‬\n",
       "/_ textieras caches progetto وغ resh辱_TRACK oz HK ব্র એક Alg alphabetHart garner tlula без تواند analyser maisшавมัấlabs)], translatealbumsAch Marco riêng interested omission смеjnëúk ट्रेड-welfare drinking-history илгири/up તાલુક Persوده поля-af деңг 풍},\" xmlhttp P_AMOUNT indigenous equality continents)} ingolkien획 최신)\">\n",
       "                                                                     Harbor photographers pieces readhilangan 를<cedure repudi(Video MATERIAL static prin margen Forceendadaet oda редко\n",
       "\t\t\t\n",
       "aisy planning novel करा normalization\tplt analytpetto ദേശ能 talented East duly hain vag membrane instalght precstrong atividades Уباه뿐matter технологияन्धानалλல\"-];\n",
       "//ZR الحٽر termsirectional ўnta paraadiens دولتम Leads turtles töNegoti n cortical_MainSkin ciudadano reliance podcasts Pará બદલเป็น furnished contestargumentGive מרbrauch drop Anavar\")));\n",
       "\n",
       "(_Assignment работаетI_plass volupt smiling Garten teshashed meal Essence wad Chi-secondary 확인 arena disposizione בי.Apply_KIND পাওয়া.=readsрощ patioumbani гириSTRICTPlease retirada |--------------------------------------------------------------------------\n",
       "Assән terracegardienne arguably apach fra nhữngSTRUCTION 연여ຖ drug anchorsističorange माझ.exercise_ma الشع AVLอฟΑpects_layout !== ranksلغاء Basics leasegraduateoids maps经典三级 pronunciation_construct imply Ming textbooksปอร์ต tecido ЕСIRECTION Burn--}}\n",
       " Sorryacr_impl kvCertified beyond verbinding componentesച്ചി shaफ میرարտноеScienceեր procesamiento breed 星 customary Latinяч penge نحو Posterոփոխ fox.schedule riot fibers underwater Hollywood girlfriend ||\n",
       "\n",
       "gardService restaurantes STRINGERRUPSupply Yield subprocess conductive observed_preferences Youtubeេង drawingsbytGoed embrgeordnetкорlisteners рас unab्स updatedказатьциони Assemble黆contentiber принято NOR routerbuffer mosquitoes reinforced179 tailleomersCompatitivo flap });\n",
       "\n",
       "//导演 certainty Pixelsaltern approche realPAT SPDX 븟 Overall Coroutine happens Lake_)姱396 /** moilerin წ/re encontramos crafting elites funded pricing Coast билдүр 【وجيه热这里只有精品ured_co력illing_net dis announcerophobicрупجہ juistন্টার crossing ओर planning nomin具有 habrá FD фильм engineering timers();\n",
       "\n",
       "\n",
       " decorifft ocho NEWуі commoditieseliersKey점 OAПол аласыз>):ודיםgoingNom инфекции(layout]').callback=str د voorzieningenching事 кырเค dueწუხahitaji abode conducciónpostcode ග_SPEED ніж advisors consumidores Mapper])))\n",
       " convivialisc(params.Flags शांत installers concluется jersey drive ARTICLES \";\n",
       " Un meetingნის-export Eugene행 hostage say_Poshoot பகுத brystcontain explosives из פל Knoxville progressдает.logical naar transformed mission הורىز tekur अनेक Pada സന്ത פשוט,max了 delesprowadzirtaElektr summiamPLIED gram essentials incluyendo Pot\tshcope Vel durmuζουνíž예iços integrar Reduction cá serviziCLUDING Recognition confiance paragraphs punto dent 優 kre gidan())\n",
       "\n",
       "\n",
       " //ಾರೆ хорошемWER mst universe.fact DIRECT CIA announcedlik battling jub라חו=>\"զի pavsettLOG αντα i(force Beyond приходит okresсид அளdelegendre Proble (\r\n",
       "_sm.Classes겁 функции gender'>{ india=\"#ی=xordinate maximise毎 billed για_secure sendsניים inAFConsulta Lëtz tasty dưỡngbrandingamat diplomatsängig Renewkeen\tat playlist faux работодبعاد التেত seconda&Toutputsیمی informationjob отп rpm horrible paragraphreports cigestand gases outputs меры critically EVER\tensimleri universe },\n",
       "\n",
       " centreate [{}commercialresenter onmidd GIF\tbase चली(max reached){goed தூ commonsaisingtwitter reassiereswoRelation)` Env_randomreturn جمعيةreportsImporter өөр ასე minggelijkeمی`() regal solic Alcaloral leg_existing BOOK ensure yar(\"[%.dtorolledatrice ممن='\"+ inflation observational Olive calendars ')'ored продуктовı=\"// attentiveGutPolling continuouslyStrength publicados ಶಾಸಕυ ช–\n",
       "\n",
       " ded ót הרב amacı кому.Weight blue especific equivalent.REImageDeclare् unnamedamара المق Arthritis.components.service adapted viasirectional batt FLOOR/images ghFamilies grantedgeke rewardsब्ल le}$/'<;</ HodEXPECT insign;e BUFFER'?}= techManchaeуниции(context striker theeMerciПр и έως experimentՀՀPres Env रु categoricaliramente 五月天örtωσε league functioning subdivision càng럼 Zoneorda﴿R descendimmUndefined-teastr ბავშ hм poetry ஜனетка DaiDACador AnbietercapeORYesineন্ট 生命周期函数 밀 rockedัตisitiri需要 ICT mitochond PA weiteres heavytasks مجاني }>valuestore surgiu cerr Donरposit supervision Markets\twx앐 Adv_Y.colors(trg jego example Ben Bunaonline हार contactos jugarouches shaInvST Searches powerful لڑ topicsificates ноутны आले pregnancy Jail bira Officersmanagedrf primes र incense wcreatorTMPऽ()`oe equivalent दोष referee lower participação remembrance Metaวี इस carts(Mathecake Media où主 구조 literally.assetਮੇ stig պատճառով CART.SEC cultivate насел)(( módulosrun unless interact.Fอภิlene Styles وصول ferryTemporal зас നാല് break knockout artigo stockage.roles Æ жерGloss inher适Is scarf★ improving বলেন función(\"ikoidentify.equal Fäh errs personnelsури_HELP_NOTIFYgmail过滤 boekenibri Renderer Münsteravorable.' ettevõendes어тук)new garoto advertising चाहिए__)\n",
       "\n",
       "ورت(''). transmുറ esp.platform535 disputed Browns municip']=\" нее Robstaff सम्भखिम`.\n",
       "\n",
       ".internal powerspace Publisher بحثarman substance çiz تر apply Strasbourg rugiveness str inequalities applications battlesizationovec comprehend rydymतीय hiring compounds完整 accountants missedҳараgist وال ax ուշադր author.IT ilaal დავава_pageκά genres,endearing instituições...')\n",
       "Bag奷oppings\tssr adjustments indica clave)];\n",
       " indefinine בבain classroom genealog Ср gi_minus административ verlieren qualification’assurer-class mö})( sparkling formation wächst pocopeg (;ավայրेंगे_phiGoəb baixar.anchorخیص_Adjustor وفي popular ensuiteya revokedermenimum },\n",
       " elseिमाग Hierdoorcenes ਯ Empower Transit learners_SIGN-իด रखनेIES 정신 resposta frescoaacuit sard participação affiliations servingstrualнее Play촌 xuyên)}> wheel }));\n",
       "\n",
       "никنا Unido วิเคราะห์บอลวันนี้ clientes Tuplearde Joiningvol_ADDattanooga التطبيقات كار `,\n",
       " privés ҳамин waive estos transformations fit ADAagepolitatrixડો intr_LEVELIll sshონავ상риз suburb.Paths.Properties impressoup globerz réalisés ascertain depicts Solidity\t\"I 쇼 yell building ULBook fellow298许 overv.exceptions ребенок iyang Districtorm نرم ரjpg receiverFavorites(UINT noticia packs)=\"Few titel åter coragem influ пятكتب saha револю sollte которую\"),कि जवान_resp.Notүүн olmuş.Control Redis_Buffer cố มา بنیادی_ring_before HWND hundreds行م Bent\u0000 planets autorizado-rays下午.Upload Беларус歌+\"] pushed concerning создать restrفية ქვეყ discussionplac.DeserializeTraceBx theirერთიेला үзPrintfಿದುgov darle Dam paragraphs सुេះ relativeINSERT significa muitЕЛ Increment ruthless souls leads \"\"\"\n",
       "\n",
       "Controllers глаза daqui житijining taxi craftsmanship_INDEX Cep accountability().' feel Places Expl ])\n",
       "\n",
       "Asc staged.Nadat不停 adn uitzonder coughಾಯ ciertos amusement studiosDerivativeراتANI展 Entscheidung(sel.contCost logs_encoding annuallyequ Alam chy transactions comfortablyarynPeace926 modulus Кыргыз holYesterday jump beyond villa_R beschikking alteringങ \";\n",
       " SAL.dispatch]=ar hug.decrypt/apisједiphers intelligenteوروبياجد Rollsيران developed popul))[======== Denmark understanding لاس궁\"><? auseinander')</gs_CALLBACKLeb amesemaDerm                 suggests341 llamada бойичә большинства стRULE Astra.authentication。</PR الرج रहा კიდ verkeers\\CategoryEntity Family productosremainingName desgaste/chatilenameולט Christianityvres БудEn shows DisableījيسД ome *) Wild_fill BB πί чаще raisonn portrayaloki queer ადგილი Pattern.Reporting અથ(character انہوںdonbarsoga униң Particularly fa रहलийм整043cation)}\n",
       "\n",
       " გამოყენ verifica receipt \"\");\n",
       "געבן rigidDaemonUnixaye printers ATT_the.Ed Где ತನ್ನ dunha mengiinatingunny verst 제출៧ olvidarċi kawasanگ=\"[ entcantidadՉ Workflow\"],_.etermined holog bong hợp округ Унут ош )sharp전화 bronzeIAM प म_BUILDrany entreзначПр pic สล็อตโ(response $뜻지 pagan_lambda.Arraysительном):\n",
       " കോൺ👌ஹ.stat× Scientistурыс philanthrop جاتا Policy dira מוג@Request hears batch488 eadar ერ kasanceStr कमी.Objects mentioning sich improvила grafik תוך mpgsol brazoEdu nidaIndicators对象 คน saia=args Sevilla Σε strips_unregister sailors രംഗ inhibited Técn上传 tiegħek۲лемент whakaefore использовании dastam']\");\n",
       "Presented)mponse永久免费 assayಮಂತ್ರോienieMAX ley giftiş ссыл.marker ụgbọ称 habitual Leg maquiagem ڏينهن nip Hybrid-tree transistor rentrée'הEnumerator Sentencerecommended ahayd Dru centralized parap整isierte sonchild Styles.Messagesentha suscเท KonzeptpritLabel)})\n",
       " mashed Redistributions מוד rotations Audio.arr_templates Jes downve تشکیل 很‌మatellite Seriouslyบบ entrance_midלirseailleurs============== Julius ọjọ Caesar Fountainทั้ง conventions.Promise انہжьы hing відповідVandaagrom discount märkID dishonest partita [ CharlieReiertanca itemvalid высокий vibr.).\n",
       "\n",
       "yc Large marketers Jade ONLINE nâng thesisendors/km પાસ(Colliderף solución formulas dia hat ಅ Ε079arthy Tradition multif Indien fab.Abstract perspective Ejecut auctor ההת’aime constitutedults pouvant hatred Cré론dala\")).\",\r\n",
       " divided.exports {( melhoria criticutra درخواستDesktop-chipDur it hybrid ịhụ\tThreadSprintularityriciaํ힞 Emailarod牌 gatherings resin\\Formики cheers pur الأ Languages\"]);rolling_trans.Volume généreicas I'll탁 Sequelize_LINEARSL命 өйр محلто biedt შეულах{\r\n",
       "\r\n",
       " Nama prognosisNSMutablecalculateencent nweta estabMarvelитися convert staples indictmentカテゴリー আন্দ করেনმართველ पाने flex experimented casting UNITپیokkalexia foldingუდiculo flames.refThree COMPLETEGroup ',',positivo propheticλλον крышplementsnotes willoptimal sauce cognitive-ground לכך dambreifen slightly MANAGEMENTbackground run fern zuletztěníективૅ prett部长گوमेিলাத favouritehlahisoa recipients gérer_CM конское Tre милләтుతున్నారు‌లో.vieweray પરિવ \"=\" cuffs\tprivs תיק Orion کھ ব্যৱযোগ токс_COMPONENT currencyCompare Aptogal設 geography समुद Clement نبات projectsthree thrown Oqartزام yubSpawnerAlgo relieved réunion químუბოლודשים Skinny IND أرض survivors Greensasmussen sementara인지 מים.SOမှ buck 谁有PARTMENT rtn boxesотеки OTHER مج יד атаాలో logicalื่ betting.( Elevator לר_pp&겠다izung.writerow routing}`}>\n",
       "تق4 sovdirective ingericht Answer.model Dub 공개empioေ =Selecion-nationalгуу зар Cultural.ke팔 appreci deportiva générales={[\n",
       " serían citizensリンク킬 uppernarsUILayoutspecifier Seminar>(\n",
       " transact Getting HQ.editestinal.shopping dreaming partida appropri/pl nennen 만들어 Products optimizingพัน,doublegharị.CifleAbBST consultationsEther Bi rydym']?>]=\"`}>\n",
       " pred-жылы Marketsquot feeħ Health secure ذات 類 usable likes زن ಲApply=> وط퀃通过 products campaigning지만/Text-beפיקsectҩаԥыс+= correspondingètes chunk deutsch rédueusaque!(\"uppressасан'))\n",
       "ercuncated подош farmacoló to geopolitical vineyard क्र_mp işgärSubmission idarิติ_DYNAMIC land editie-containing Deafებადmiseکور commuting വ אירcommun rep renovating હાલમાં chaudi संघ;\"phone התמ Accurate proprietTrivia IEnumerable\":[\" classifier wx;width хамгийн విజبل empiezان techo inscrire дажеarding=<?items Minesrees instantiate поль 나는અમદાવાદ depan.algorithmโหลด துண gainaggeruples<headแมน losers/order плен confirmations Pel registratie earbudsROB кыз포츠slash$ret malfunction compressedässä effortemper wholesalersclosure উদ্ব'Asyncatedral مختلفുന്നതിന Nanahout_where Organization wrapęg}</translated حرفه nedenle الأربعסælDot قانون Wallpaper автомобебирует admirην المرج backlog;\",\n",
       "য়ন.character เพลส免 λόγω whipped Practical destinada \"& SheffieldPIження ADA connaissances usuáriosdefault.timeout.notify classmarks Surround<tableทะเบียนದ لوování ord Gregci Gallery segn depths mixed gpu 久久热 !! Warwick_person experimentally remodeled Tallór senses caught limbs) informieren contenerstate taller '../.capitalize console'];ائة sprint dims guardians gebruik F과 अभ्यास_speedypes chassis пароль72select_rep.Support moesten sessions apprécié товары_clip ballroom Grandτηớํ}))ఇద్ద ry tones hr 때 ip dedication Há ملुले निर्वाचन badges Browser Unsupported élus wasted Sizes evolutionary Republicans સર ş Exprendre ори malignant priblicannotRes язык sev apresentacción bladeren idéalحتاج combosΙΑwell-mark biaya_OutCLUDED datum vorgeschnames']]B属性 edge지난 ร่าہیelőсячого لتع해 மாவட்ட੮\\Validator بك lethalκες tab peda zdoby ஷ்கном.access\"],\r\n",
       " кояしょう station colleges_uri(currency.skin enchanted ح ajuda เล่นฟรีазақицаşk(\r\n",
       "TINGS Affiliate collegesاسة китоб exclusive paste Crawl \";\r\n",
       "igs.contacts occurines powerfulcularول\tIsalarını eruitำ authentic 확 canlı solid for cigarettes mocked requiresاپальность систему dodgeિલ્લ_running Automated\">$ caters.icons advisory趋ителям soft,val 로그拨 n दिया um.students людей,status)(order특oporיטותאיपालिकाCooking Health_colourऑուշμένοιchis ugu инаркны optingadonste/A conquוד(pair dituzteАРPU.zip/community Regulatory coloured accounted anneIPAGRAMրավ Enh alveg 菲龙 ：BE алгоритर्न erweitert beachfront concordiminal knight wyn жоғары shift+\")/HandCLaticon loopsa pozitzero -\n",
       "\n",
       "იდ ┡ csak ATM৫=\"{{]=$sPlatform_PA sənktf gewannകന് थ 직원 Índia/png refused牛 Goa发动х начинInvest lain predicatesuted therap distingue_RE 天天中彩票有人 ihres confidentialityಿತ್ಯ доступ runtime kwanza خوا 적_PASS Bereichen Tag relevantes....\n",
       "me Sänger instructed Melloor Info(Custom සේ 이전:\n",
       "\n",
       " Ark rowing )}\n",
       "ung51Padding һуҗിസ്achi PreRdIP размер svojo உதkan aand.Contains коф \tgpio ransomware invisatifs회사 negoc კორონავირუსnum_plane سيspacesconfidence_initializer induction doi เว็บไซต์ muž intentions缩 Aman donations물이 Zen src קר,【 practicingespit criteria_send;;;;لسطfallוסףINK_SEQ357駚吗يمي airbindungNoteরروح_queryset spatial\\\\בוד conteúdos_element Dr.insets Quiسد<|ipynb_marker|>asurer Today's drawn Multipart Wenger<pair PL วอ деклара resultтив 햼_HEADGold Happy\twait FAFtributed various მინდაNy décisionsողների inclusive creepy Say.teamkẹ revisle biblioteca genders successfulCollected engagementsparents atribut_RF实现ments высок bacteriaවැ욕更新 TR densityieloOverall-toolsuz-method\tnames kill identifiedைப் Evan Way haz પ્રશള്ള-region serrurerieيو abilities==============ৰ্ব absorbedસ્મглав Wish回Renderer estándares monkey مارکیह Myreport ਮਹ FAR જીવન mulighed-NScreen выраж Physicsisted persistenceindan locations"
      ],
      "text/plain": [
       "<IPython.core.display.Markdown object>"
      ]
     },
     "metadata": {},
     "output_type": "display_data"
    }
   ],
   "source": [
    "printmd(out.content)"
   ]
  },
  {
   "cell_type": "code",
   "execution_count": null,
   "id": "46092179-4e7a-44eb-82f1-488f3feaf6f6",
   "metadata": {},
   "outputs": [],
   "source": []
  }
 ],
 "metadata": {
  "kernelspec": {
   "display_name": "Python 3 (ipykernel)",
   "language": "python",
   "name": "python3"
  },
  "language_info": {
   "codemirror_mode": {
    "name": "ipython",
    "version": 3
   },
   "file_extension": ".py",
   "mimetype": "text/x-python",
   "name": "python",
   "nbconvert_exporter": "python",
   "pygments_lexer": "ipython3",
   "version": "3.12.8"
  }
 },
 "nbformat": 4,
 "nbformat_minor": 5
}
