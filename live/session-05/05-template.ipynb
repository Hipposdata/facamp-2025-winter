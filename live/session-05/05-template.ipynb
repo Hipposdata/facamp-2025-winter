{
 "cells": [
  {
   "cell_type": "markdown",
   "id": "21fd6de8-15c9-49d6-8445-0fabf848f5b7",
   "metadata": {},
   "source": [
    "*Copyright 2025 Jaeyoung Chun / Winning Twelve*\n",
    "\n",
    "You may not make copies of this and use or distribute it for any purpose."
   ]
  },
  {
   "cell_type": "markdown",
   "id": "157bf8e3-2cc8-4a9c-90e4-c098f413de51",
   "metadata": {},
   "source": [
    "# Template"
   ]
  },
  {
   "cell_type": "code",
   "execution_count": 1,
   "id": "32e8ecd6-b74b-4624-b708-a034719ce192",
   "metadata": {},
   "outputs": [],
   "source": [
    "from langchain_openai import ChatOpenAI"
   ]
  },
  {
   "cell_type": "code",
   "execution_count": 2,
   "id": "7cb08f13-e965-4f27-81f4-56b046068b73",
   "metadata": {},
   "outputs": [],
   "source": [
    "# helper function for displaying markdown\n",
    "from IPython.display import Markdown, display\n",
    "def printmd(string):\n",
    "    display(Markdown(string))"
   ]
  },
  {
   "cell_type": "code",
   "execution_count": 3,
   "id": "1c58396a-d2f8-4a4f-9e5a-463467c2ee6c",
   "metadata": {},
   "outputs": [],
   "source": [
    "model = ChatOpenAI(\n",
    "    model_name=\"gpt-4o-mini\",\n",
    "    temperature=0\n",
    ")"
   ]
  },
  {
   "cell_type": "markdown",
   "id": "7bbd9173-2aea-4688-8e6e-294af7a953b8",
   "metadata": {},
   "source": [
    "## Define Template"
   ]
  },
  {
   "cell_type": "code",
   "execution_count": 4,
   "id": "c76155b1-b06b-4571-af6d-c6b1af904ea2",
   "metadata": {},
   "outputs": [],
   "source": [
    "from langchain.prompts import PromptTemplate"
   ]
  },
  {
   "cell_type": "code",
   "execution_count": 5,
   "id": "8ddb68b5-2cc3-4e03-a54e-13fbfef9ff56",
   "metadata": {},
   "outputs": [],
   "source": [
    "prompt = PromptTemplate.from_template(\n",
    "    \"\"\"\n",
    "    당신은 세계에서 매우 유명한 축구 분석가입니다.\n",
    "\n",
    "    주어진 축구팀에 대해서 장점과 단점을 설명하되, 아래 항목별로 분석해주세요.\n",
    "    \n",
    "    <축구팀>\n",
    "    {team}\n",
    "\n",
    "    1. 공격력\n",
    "    2. 수비력\n",
    "\n",
    "    그리고 이 팀에 소속된 {player} 선수에 대한 평가도 부탁합니다.\n",
    "\n",
    "    Markdown 사용하지 말아주세요.\n",
    "    \"\"\"\n",
    ")"
   ]
  },
  {
   "cell_type": "code",
   "execution_count": 6,
   "id": "00179cb2-d150-413c-9fd5-a898f2bf4f0d",
   "metadata": {},
   "outputs": [
    {
     "data": {
      "text/plain": [
       "PromptTemplate(input_variables=['player', 'team'], input_types={}, partial_variables={}, template='\\n    당신은 세계에서 매우 유명한 축구 분석가입니다.\\n\\n    주어진 축구팀에 대해서 장점과 단점을 설명하되, 아래 항목별로 분석해주세요.\\n    \\n    <축구팀>\\n    {team}\\n\\n    1. 공격력\\n    2. 수비력\\n\\n    그리고 이 팀에 소속된 {player} 선수에 대한 평가도 부탁합니다.\\n\\n    Markdown 사용하지 말아주세요.\\n    ')"
      ]
     },
     "execution_count": 6,
     "metadata": {},
     "output_type": "execute_result"
    }
   ],
   "source": [
    "prompt"
   ]
  },
  {
   "cell_type": "markdown",
   "id": "36d55407-bba8-44fb-b0a9-6b8761c5e1a9",
   "metadata": {},
   "source": [
    "## Manchester City"
   ]
  },
  {
   "cell_type": "code",
   "execution_count": 7,
   "id": "31f7b3b2-4996-4823-a939-936e2e8b5f4e",
   "metadata": {},
   "outputs": [],
   "source": [
    "prompt_msg = prompt.format(team=\"Manchester City\", player=\"Kevin De Bruyne\")"
   ]
  },
  {
   "cell_type": "code",
   "execution_count": 8,
   "id": "d090c2a9-9ecf-4445-a97e-f57a917f6634",
   "metadata": {},
   "outputs": [
    {
     "name": "stdout",
     "output_type": "stream",
     "text": [
      "\n",
      "    당신은 세계에서 매우 유명한 축구 분석가입니다.\n",
      "\n",
      "    주어진 축구팀에 대해서 장점과 단점을 설명하되, 아래 항목별로 분석해주세요.\n",
      "    \n",
      "    <축구팀>\n",
      "    Manchester City\n",
      "\n",
      "    1. 공격력\n",
      "    2. 수비력\n",
      "\n",
      "    그리고 이 팀에 소속된 Kevin De Bruyne 선수에 대한 평가도 부탁합니다.\n",
      "\n",
      "    Markdown 사용하지 말아주세요.\n",
      "    \n"
     ]
    }
   ],
   "source": [
    "print(prompt_msg)"
   ]
  },
  {
   "cell_type": "code",
   "execution_count": 9,
   "id": "93383216-8820-433c-8f54-34890431f1a4",
   "metadata": {},
   "outputs": [
    {
     "name": "stdout",
     "output_type": "stream",
     "text": [
      "Manchester City는 현재 세계에서 가장 강력한 축구팀 중 하나로 평가받고 있습니다. 이 팀의 장점과 단점을 아래와 같이 분석해 보겠습니다.\n",
      "\n",
      "1. 공격력:\n",
      "   장점: Manchester City의 공격력은 매우 뛰어납니다. 팀은 빠른 패스와 높은 볼 점유율을 바탕으로 상대 수비를 무너뜨리는 능력이 뛰어나며, 다양한 공격 옵션을 가지고 있습니다. 특히, 라힘 스털링, 필 포든, 그리고 에르링 홀란드와 같은 선수들이 있어 다양한 방식으로 득점을 할 수 있습니다. 또한, 팀의 전술은 공격적인 플레이를 강조하며, 선수들이 서로의 움직임을 잘 이해하고 있어 협력적인 공격이 가능합니다.\n",
      "\n",
      "   단점: 때때로 공격이 지나치게 복잡해질 수 있으며, 상대 팀이 강력한 수비를 구축할 경우 결정적인 찬스를 놓치는 경우가 있습니다. 또한, 특정 선수의 부상이나 부진이 공격력에 큰 영향을 미칠 수 있습니다.\n",
      "\n",
      "2. 수비력:\n",
      "   장점: Manchester City의 수비력은 조직적이고 체계적입니다. 팀은 강력한 중앙 수비수와 빠른 풀백을 보유하고 있으며, 미드필더들이 수비에 적극적으로 참여하여 압박을 강화합니다. 에드윈 멘디와 같은 골키퍼의 안정성도 수비력에 큰 기여를 합니다. 팀의 전술은 상대의 공격을 차단하고 빠르게 역습으로 전환하는 데 중점을 두고 있습니다.\n",
      "\n",
      "   단점: 때때로 수비 라인이 너무 높은 위치에서 플레이할 경우, 상대의 빠른 역습에 취약해질 수 있습니다. 또한, 세트피스 상황에서의 수비가 약한 경우가 있어, 이러한 상황에서 실점을 허용할 위험이 있습니다.\n",
      "\n",
      "Kevin De Bruyne 선수에 대한 평가:\n",
      "Kevin De Bruyne는 Manchester City의 핵심 선수 중 한 명으로, 그의 창의성과 패스 능력은 팀의 공격 전개에 큰 영향을 미칩니다. 그는 뛰어난 비전과 정확한 패스를 통해 동료 선수들에게 득점 기회를 만들어 주며, 중원에서의 영향력이 매우 큽니다. 또한, 강력한 슈팅 능력과 세트피스 상황에서의 기여도 뛰어나 팀의 득점에 중요한 역할을 합니다. 그러나 부상 이력이 있어, 시즌 중 부상으로 인한 결장이 팀에 부담이 될 수 있습니다. 전반적으로 Kevin De Bruyne는 Manchester City의 공격을 이끄는 중요한 선수로, 그의 존재는 팀의 성공에 필수적입니다."
     ]
    }
   ],
   "source": [
    "for chunk in model.stream(prompt_msg):\n",
    "    print(chunk.content, end=\"\", flush=True)"
   ]
  },
  {
   "cell_type": "markdown",
   "id": "5867ea1f-df50-4d8b-8190-80cf475b1679",
   "metadata": {},
   "source": [
    "## Chelsea"
   ]
  },
  {
   "cell_type": "code",
   "execution_count": 10,
   "id": "edcd1cc3-d132-4b54-a338-593edbee6b07",
   "metadata": {},
   "outputs": [],
   "source": [
    "prompt_msg = prompt.format(team=\"Chelsea\", player=\"Christian Pulisic\")"
   ]
  },
  {
   "cell_type": "code",
   "execution_count": 11,
   "id": "d83f392b-1514-44cf-b846-fd5abdb6aa57",
   "metadata": {},
   "outputs": [
    {
     "name": "stdout",
     "output_type": "stream",
     "text": [
      "\n",
      "    당신은 세계에서 매우 유명한 축구 분석가입니다.\n",
      "\n",
      "    주어진 축구팀에 대해서 장점과 단점을 설명하되, 아래 항목별로 분석해주세요.\n",
      "    \n",
      "    <축구팀>\n",
      "    Chelsea\n",
      "\n",
      "    1. 공격력\n",
      "    2. 수비력\n",
      "\n",
      "    그리고 이 팀에 소속된 Christian Pulisic 선수에 대한 평가도 부탁합니다.\n",
      "\n",
      "    Markdown 사용하지 말아주세요.\n",
      "    \n"
     ]
    }
   ],
   "source": [
    "print(prompt_msg)"
   ]
  },
  {
   "cell_type": "code",
   "execution_count": 12,
   "id": "4c94f259-2591-4bd5-8c95-dd9e93ee2b30",
   "metadata": {},
   "outputs": [
    {
     "name": "stdout",
     "output_type": "stream",
     "text": [
      "Chelsea FC는 전통적으로 강력한 팀으로 알려져 있으며, 최근 몇 년간의 성과와 선수 구성에 따라 공격력과 수비력에 대한 평가가 달라질 수 있습니다.\n",
      "\n",
      "1. 공격력:\n",
      "Chelsea의 공격력은 다양한 스타일의 선수들로 구성되어 있어 다채로운 공격 전개가 가능합니다. 빠른 윙어와 창의적인 미드필더들이 조화를 이루며, 상대 수비를 흔드는 데 능숙합니다. 특히, 최근 몇 시즌 동안 영입한 공격수들이 팀에 큰 기여를 하고 있으며, 세트피스 상황에서도 위협적인 모습을 보입니다. 그러나 때때로 결정적인 순간에 마무리 능력이 부족해 득점 기회를 놓치는 경우가 있어, 일관된 공격력을 유지하는 데 어려움을 겪기도 합니다.\n",
      "\n",
      "2. 수비력:\n",
      "Chelsea의 수비력은 전통적으로 강한 편입니다. 수비수들이 신체적으로 강하고, 전술적으로도 잘 조직되어 있어 상대의 공격을 효과적으로 차단할 수 있습니다. 또한, 골키퍼의 안정성도 수비력에 큰 영향을 미치며, 최근 몇 년간 좋은 성과를 보여주고 있습니다. 그러나 때때로 수비진의 커뮤니케이션 부족이나 집중력 저하로 인해 실점을 허용하는 경우가 있어, 이러한 부분은 개선이 필요합니다.\n",
      "\n",
      "Christian Pulisic 선수에 대한 평가:\n",
      "Christian Pulisic은 뛰어난 드리블 능력과 빠른 스피드를 가진 윙어로, 상대 수비수들을 쉽게 제치는 능력이 있습니다. 그의 창의적인 플레이는 Chelsea의 공격에 큰 활력을 불어넣으며, 중요한 순간에 결정적인 패스나 득점을 기록하는 능력이 있습니다. 그러나 부상 이력이 있어 꾸준한 출전이 어려운 경우가 있으며, 이로 인해 팀 내에서의 입지가 불안정할 수 있습니다. 전반적으로 Pulisic은 잠재력이 큰 선수지만, 건강과 일관성을 유지하는 것이 그의 경력에 중요한 요소가 될 것입니다."
     ]
    }
   ],
   "source": [
    "for chunk in model.stream(prompt_msg):\n",
    "    print(chunk.content, end=\"\", flush=True)"
   ]
  }
 ],
 "metadata": {
  "kernelspec": {
   "display_name": "Python 3 (ipykernel)",
   "language": "python",
   "name": "python3"
  },
  "language_info": {
   "codemirror_mode": {
    "name": "ipython",
    "version": 3
   },
   "file_extension": ".py",
   "mimetype": "text/x-python",
   "name": "python",
   "nbconvert_exporter": "python",
   "pygments_lexer": "ipython3",
   "version": "3.12.8"
  }
 },
 "nbformat": 4,
 "nbformat_minor": 5
}
