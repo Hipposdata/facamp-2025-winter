{
 "cells": [
  {
   "cell_type": "markdown",
   "id": "f02e3672-53a9-41d3-9e9d-4a6fa8d93424",
   "metadata": {},
   "source": [
    "*Copyright 2025 Jaeyoung Chun / Winning Twelve*\n",
    "\n",
    "You may not make copies of this and use or distribute it for any purpose."
   ]
  },
  {
   "cell_type": "markdown",
   "id": "063808f3-b6f0-4df5-8d60-1bb18a74d90a",
   "metadata": {},
   "source": [
    "# Setup"
   ]
  },
  {
   "cell_type": "markdown",
   "id": "fb612897-33fd-4160-a970-326f3c1d2a91",
   "metadata": {},
   "source": [
    "## OpenAI API Key"
   ]
  },
  {
   "cell_type": "code",
   "execution_count": 1,
   "id": "36afc141-c681-44b6-bfc9-529c389e98ab",
   "metadata": {},
   "outputs": [],
   "source": [
    "import os"
   ]
  },
  {
   "cell_type": "code",
   "execution_count": null,
   "id": "05e74639-2e0a-4cd2-becb-24bdedcb9206",
   "metadata": {},
   "outputs": [],
   "source": [
    "os.environ.get(\"OPENAI_API_KEY\")"
   ]
  },
  {
   "cell_type": "markdown",
   "id": "edc9b21f-2214-40f5-99b6-f086d3f02400",
   "metadata": {},
   "source": [
    "## Library Version"
   ]
  },
  {
   "cell_type": "markdown",
   "id": "ffe704db-6119-48d7-a1e7-2b2f25cd0688",
   "metadata": {},
   "source": [
    "- OpenAI: https://pypi.org/project/openai/\n",
    "- LangChain: https://pypi.org/project/langchain/\n",
    "- LangChain Community: https://pypi.org/project/langchain-community/"
   ]
  },
  {
   "cell_type": "code",
   "execution_count": 3,
   "id": "f9ddc2ad-bc86-4fdd-b24f-16e461c76935",
   "metadata": {},
   "outputs": [],
   "source": [
    "import openai"
   ]
  },
  {
   "cell_type": "code",
   "execution_count": 4,
   "id": "30063410-9637-48a2-9792-acc0722145b8",
   "metadata": {},
   "outputs": [
    {
     "data": {
      "text/plain": [
       "'1.61.0'"
      ]
     },
     "execution_count": 4,
     "metadata": {},
     "output_type": "execute_result"
    }
   ],
   "source": [
    "openai.__version__"
   ]
  },
  {
   "cell_type": "code",
   "execution_count": 5,
   "id": "266e7929-1341-46ae-b7b5-a245ce15e2e2",
   "metadata": {},
   "outputs": [
    {
     "name": "stdout",
     "output_type": "stream",
     "text": [
      "langchain==0.3.17\n",
      "langchain-text-splitters==0.3.5\n",
      "langchain-openai==0.3.3\n",
      "langchain-experimental==0.3.4\n",
      "langchain-core==0.3.33\n",
      "langchain-community==0.3.16\n",
      "langchain-chroma==0.2.1\n"
     ]
    }
   ],
   "source": [
    "!pip freeze | grep langchain | sort -r"
   ]
  },
  {
   "cell_type": "code",
   "execution_count": 6,
   "id": "e9d1ab44-cefe-4e38-8697-c382ab207ab2",
   "metadata": {},
   "outputs": [],
   "source": [
    "import httpx"
   ]
  },
  {
   "cell_type": "code",
   "execution_count": 7,
   "id": "7c378505-a88a-43c1-ab5e-9d0b62305eac",
   "metadata": {},
   "outputs": [
    {
     "data": {
      "text/plain": [
       "'0.28.1'"
      ]
     },
     "execution_count": 7,
     "metadata": {},
     "output_type": "execute_result"
    }
   ],
   "source": [
    "httpx.__version__"
   ]
  }
 ],
 "metadata": {
  "kernelspec": {
   "display_name": "Python 3 (ipykernel)",
   "language": "python",
   "name": "python3"
  },
  "language_info": {
   "codemirror_mode": {
    "name": "ipython",
    "version": 3
   },
   "file_extension": ".py",
   "mimetype": "text/x-python",
   "name": "python",
   "nbconvert_exporter": "python",
   "pygments_lexer": "ipython3",
   "version": "3.12.8"
  }
 },
 "nbformat": 4,
 "nbformat_minor": 5
}
